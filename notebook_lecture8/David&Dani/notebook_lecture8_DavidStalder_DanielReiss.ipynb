{
 "cells": [
  {
   "cell_type": "markdown",
   "metadata": {},
   "source": [
    "# Lecture 8"
   ]
  },
  {
   "cell_type": "code",
   "execution_count": 7,
   "metadata": {},
   "outputs": [],
   "source": [
    "# Please inlcude your names below\n",
    "# Also, please edit the name of the file and include the names of the two(or three) people answering\n",
    "\n",
    "# Pair answering the assignment: Daniel Reiss, David Stalder\n",
    "# Pair giving feedback: Ivan Allinckx, Chritian Aeberhard"
   ]
  },
  {
   "cell_type": "markdown",
   "metadata": {},
   "source": [
    "## Selenium Download\n",
    "For the next exercises you will have to download selenium. \n",
    "\n",
    "You can read more about the webdriver here (https://chromedriver.chromium.org), but if you want to go straight to the download, go to https://chromedriver.storage.googleapis.com/index.html?path=80.0.3987.106/ and download your version. \n",
    "\n",
    "Moreover, in your terminal type `pip install selenium`. \n",
    "\n",
    "Once this is done, you should be able to run:\n",
    "- `from selenium import webdriver`\n",
    "- `browser = webdriver.Chrome([the path where you put the googlechromedriver])`\n",
    "\n",
    "In case of any issues, the https://chromedriver.chromium.org website has some straightforward info on common bugs. \n"
   ]
  },
  {
   "cell_type": "code",
   "execution_count": 8,
   "metadata": {},
   "outputs": [],
   "source": [
    "from selenium import webdriver\n",
    "import requests\n",
    "import time\n",
    "\n",
    "# replace path_chromedriver with you path to chromdriver.exe\n",
    "# David: r'C:\\Users\\David\\Documents\\GitHub\\SoComp\\notebook_lecture8\\David&Dani\\chromedriver.exe'\n",
    "\n",
    "path_chromedriver = r'C:\\Users\\Dani\\Documents\\SoComp\\notebook_lecture8\\David&Dani\\chromedriver.exe'\n",
    "browser = webdriver.Chrome(path_chromedriver)\n",
    "browser.close()"
   ]
  },
  {
   "cell_type": "markdown",
   "metadata": {},
   "source": [
    "### 1. Rate limiting\n",
    "\n",
    "1. By now, you are familiar with 3 APIs, namely Google Books, NYT, and Dribble. For each one, find and copy the rules about rate limits. Next, pick one and try to exceed the rate limit; explain what you do and what reaction you get from the API."
   ]
  },
  {
   "cell_type": "markdown",
   "metadata": {},
   "source": [
    "Google Books: 100000 per day\n",
    "    \n",
    "NYT: 4,000 requests per day and 10 requests per minute\n",
    "\n",
    "Dribbble: 60 requests per minute and 1,440 requests per day per authenticated user"
   ]
  },
  {
   "cell_type": "markdown",
   "metadata": {},
   "source": [
    "2. In the next problem you will check how many requests you can send to Google Search before getting blocked. Websites protect themselves from automated crawling by checking requests that come from the same computer in a small time frame and after a while, they won't respond to the request. A valid response would be \"Response 200\", which you can see if you just print the response of `requests.get('https://www.google.com/search?q=zurich')`. \n",
    "\n",
    "The question is\n",
    "a) how many requests does it take to get blocked (when you first get a response other than 200)?\n",
    "b) What is the number of a blocked response and what does it exactly stand for (Google response XXX). If you still can:) "
   ]
  },
  {
   "cell_type": "code",
   "execution_count": 9,
   "metadata": {},
   "outputs": [
    {
     "name": "stdout",
     "output_type": "stream",
     "text": [
      "0\n",
      "5\n",
      "10\n",
      "15\n",
      "20\n",
      "25\n",
      "30\n",
      "35\n",
      "40\n",
      "45\n",
      "50\n",
      "55\n",
      "60\n",
      "<Response [429]>\n",
      "It takes 64 requests before getting blocked.\n"
     ]
    }
   ],
   "source": [
    "count = 0\n",
    "s = requests.Session()\n",
    "while s.get('https://www.google.com/search?q=zurich').status_code == 200:\n",
    "    if count % 5 == 0:\n",
    "        print(count)\n",
    "    count += 1\n",
    "\n",
    "print(s.get('https://www.google.com/search?q=zurich')) # Response 429 - Too Many Requests\n",
    "print('It takes ' + str(count) + ' requests before getting blocked.')"
   ]
  },
  {
   "cell_type": "markdown",
   "metadata": {},
   "source": [
    "### 2. Selenium sessions"
   ]
  },
  {
   "cell_type": "markdown",
   "metadata": {},
   "source": [
    "Go to a website of your choice where you have an account. It can for example be the New York Times APi website where you created a login last time but also tutti.ch, comparis, whatever simple website you often use.\n",
    "\n",
    "Using Selenium create a session where you \n",
    "1. go to the main website \n",
    "2. log in \n",
    "3. click on an element of your choice \n",
    "4. scroll to the bottom of the page\n",
    "5. then save the page. \n",
    "\n",
    "When logging in, you will have to find the name of the login form and submit your credentials to it and then click the login button. Here you find an example for a login using selenium but in case you decide to use this help, Facebook should not be your chosen website. https://crossbrowsertesting.com/blog/test-automation/automate-login-with-selenium/"
   ]
  },
  {
   "cell_type": "code",
   "execution_count": 10,
   "metadata": {},
   "outputs": [],
   "source": [
    "driver = webdriver.Chrome()\n",
    "\n",
    "# 1)\n",
    "driver.get(\"https://developer.nytimes.com/accounts/login\")\n",
    "\n",
    "# 2)\n",
    "driver.find_element_by_name(\"username\").send_keys(\"david.stalder@uzh.ch\")\n",
    "driver.find_element_by_name(\"password\").send_keys(\"HelloWorld1*\")\n",
    "driver.find_element_by_id(\"login-button\").click()\n",
    "\n",
    "# 3)\n",
    "time.sleep(5)\n",
    "driver.find_element_by_xpath(\"//div/ng-component/page-content/div/div[2]/mat-card[1]/mat-card-header\").click()\n",
    "\n",
    "# 4)\n",
    "time.sleep(5)\n",
    "driver.execute_script(\"window.scrollTo(0, document.body.scrollHeight);\")\n",
    "# scrolling doesn't seem to work on this page.. we tried scrolling on other sites and worked fine there\n",
    "\n",
    "# 5)\n",
    "with open(\"page.html\", \"w\") as f:\n",
    "    f.write(driver.page_source)\n",
    "    \n",
    "driver.close()"
   ]
  },
  {
   "cell_type": "markdown",
   "metadata": {},
   "source": [
    "### 3. Measuring personalization"
   ]
  },
  {
   "cell_type": "markdown",
   "metadata": {},
   "source": [
    "In this exercise you will have to imitate the study described in class on a website of your interest. You will have to measure differences in the content that you receive back from the website under varying treatments. \n",
    "\n",
    "You will have to choose a website and a treatment. Use selenium for this exercise as well. \n",
    "- As for websites, you can pick an online store, or traveling site, some news site, Google News.. basically try to pick something that you suspect gives different results for different searchers. \n",
    "- Examples for treatments would be location, being logged in with an account, history with the website, being on a phone vs a desktop, etc. \n",
    "- You can try to pick multiple searches to make sure you are measuring real phenomenon, not only noise\n",
    "- You can include a control treatment in case you suspect there's A/B testing or noise in how the pages look\n",
    "- Finally you have to pick a measure for the differences on the page. In case you receive items on a page, for example URLs or products, you can define an overlap metric. In case the page is more unstructured, come up with an explanation for how you define differences.\n",
    "\n",
    "As your answer, explain which of the above you chose, how you implemented the experiment, and what difference you found in the pages you collected. \n",
    "\n",
    "You can find more infor on how to run multiple browsers at the same time here: https://crossbrowsertesting.com/blog/selenium/run-test-multiple-browsers-parallel-selenium/"
   ]
  },
  {
   "cell_type": "code",
   "execution_count": 11,
   "metadata": {
    "scrolled": true
   },
   "outputs": [
    {
     "name": "stdout",
     "output_type": "stream",
     "text": [
      "The matching quota is: 0.0%\n"
     ]
    }
   ],
   "source": [
    "from bs4 import BeautifulSoup\n",
    "\n",
    "'''\n",
    "First, we go to youtube.com with Chrome and our userprofile that we visit youtube on a regular basis. We extract all\n",
    "videotitles of the starting page and save them in a list.\n",
    "Then, we go to youtube again, but this time with Firefox and without a userprofile (default). We again save all titles.\n",
    "Finally, we compare both lists of video titles and print the matching percentage.\n",
    "'''\n",
    "\n",
    "# CHROME\n",
    "options = webdriver.ChromeOptions()\n",
    "# edit path_google_account_data to your matching path\n",
    "# you can type chrome://version in chrome address bar and use the value of Profilepath without \"\\Default\\\"\n",
    "# David: r'user-data-dir=C:\\Users\\David\\AppData\\Local\\Google\\Chrome\\User Data'\n",
    "path_google_account_data = r'user-data-dir=C:\\Users\\Dani\\AppData\\Local\\Google\\Chrome\\User Data'\n",
    "options.add_argument(path_google_account_data)\n",
    "\n",
    "chrome = webdriver.Chrome(path_chromedriver, options=options)\n",
    "chrome.get(\"https://www.youtube.com/\")\n",
    "chrome_page = chrome.page_source\n",
    "chrome_html = BeautifulSoup(chrome_page, \"html.parser\")\n",
    "chrome_tags = chrome_html.find_all(\"yt-formatted-string\", id=\"video-title\")\n",
    "chrome_titles = []\n",
    "for tag in chrome_tags:\n",
    "    chrome_titles.append(tag.text)\n",
    "chrome.close()\n",
    "\n",
    "#print(chrome_titles)\n",
    "\n",
    "# FIREFOX\n",
    "# you will need geckdriver for this: https://github.com/mozilla/geckodriver/releases\n",
    "\n",
    "ff = webdriver.Firefox()\n",
    "ff.get(\"https://www.youtube.com/\")\n",
    "ff_page = ff.page_source\n",
    "ff_html = BeautifulSoup(ff_page, \"html.parser\")\n",
    "ff_tags = ff_html.find_all(\"yt-formatted-string\", id=\"video-title\")\n",
    "ff_titles = []\n",
    "for tag in ff_tags:\n",
    "    ff_titles.append(tag.text)\n",
    "ff.close()\n",
    "\n",
    "#print(ff_titles)\n",
    "\n",
    "total = len(chrome_titles) + len(ff_titles)\n",
    "matching_count = 0\n",
    "for title in chrome_titles:\n",
    "    if title in ff_titles:\n",
    "        matching_count += 1\n",
    "\n",
    "print(\"The matching quota is: {}%\".format(matching_count/total*100))"
   ]
  },
  {
   "cell_type": "markdown",
   "metadata": {},
   "source": [
    "Congratulations for completing the third notebook! Now it’s time for feedback.\n",
    "1.\tPass your solution to the other pair in your group.\n",
    "2.\tInclude your feedback in the other pair’s notebook. Don’t forget to add your names at the top.\n",
    "3.\tReturn the notebook with feedback to the original pairs.\n",
    "4.\tUpload your notebook, with the feedback included by the other pair on OLAT.\n",
    "\n",
    "You can think of/suggest (among other things)\n",
    " - improvements in the code (e.g. readability, efficiency)\n",
    " - improvements in the answers (e.g. are they easy to understand, are they correct, how can they be improved?)\n",
    " - point out differences (e.g. are there any differences between the responses of the two pairs? if yes what are they, what is the cause, and in which way can they be useful?)\n",
    " \n",
    "Not all suggestions about the type of feedback apply to all types of questions. Try to give feedback in a meaningful and constructive way. "
   ]
  },
  {
   "cell_type": "code",
   "execution_count": 6,
   "metadata": {},
   "outputs": [
    {
     "data": {
      "text/plain": [
       "'\\nFeedback here\\n'"
      ]
     },
     "execution_count": 6,
     "metadata": {},
     "output_type": "execute_result"
    }
   ],
   "source": [
    "# Below there is space for giving feedback. This space should be used only by the other pair in your group.\n",
    "\n",
    "'''\n",
    "Feedback here\n",
    "'''"
   ]
  }
 ],
 "metadata": {
  "kernelspec": {
   "display_name": "Python 3",
   "language": "python",
   "name": "python3"
  },
  "language_info": {
   "codemirror_mode": {
    "name": "ipython",
    "version": 3
   },
   "file_extension": ".py",
   "mimetype": "text/x-python",
   "name": "python",
   "nbconvert_exporter": "python",
   "pygments_lexer": "ipython3",
   "version": "3.7.6"
  }
 },
 "nbformat": 4,
 "nbformat_minor": 4
}
