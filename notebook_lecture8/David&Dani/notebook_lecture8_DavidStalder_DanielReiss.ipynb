{
 "cells": [
  {
   "cell_type": "markdown",
   "metadata": {},
   "source": [
    "# Lecture 8"
   ]
  },
  {
   "cell_type": "code",
   "execution_count": 1,
   "metadata": {},
   "outputs": [],
   "source": [
    "# Please inlcude your names below\n",
    "# Also, please edit the name of the file and include the names of the two(or three) people answering\n",
    "\n",
    "# Pair answering the assignment: Daniel Reiss, David Stalder\n",
    "# Pair giving feedback: Ivan Allinckx, Chritian Aeberhard"
   ]
  },
  {
   "cell_type": "markdown",
   "metadata": {},
   "source": [
    "## Selenium Download\n",
    "For the next exercises you will have to download selenium. \n",
    "\n",
    "You can read more about the webdriver here (https://chromedriver.chromium.org), but if you want to go straight to the download, go to https://chromedriver.storage.googleapis.com/index.html?path=80.0.3987.106/ and download your version. \n",
    "\n",
    "Moreover, in your terminal type `pip install selenium`. \n",
    "\n",
    "Once this is done, you should be able to run:\n",
    "- `from selenium import webdriver`\n",
    "- `browser = webdriver.Chrome([the path where you put the googlechromedriver])`\n",
    "\n",
    "In case of any issues, the https://chromedriver.chromium.org website has some straightforward info on common bugs. \n"
   ]
  },
  {
   "cell_type": "code",
   "execution_count": 2,
   "metadata": {},
   "outputs": [],
   "source": [
    "from selenium import webdriver\n",
    "from selenium.webdriver.common.by import By\n",
    "import requests\n",
    "import time\n",
    "browser = webdriver.Chrome(r'C:\\Users\\David\\Documents\\GitHub\\SoComp\\notebook_lecture8\\David&Dani\\chromedriver.exe')"
   ]
  },
  {
   "cell_type": "markdown",
   "metadata": {},
   "source": [
    "### 1. Rate limiting\n",
    "\n",
    "1. By now, you are familiar with 3 APIs, namely Google Books, NYT, and Dribble. For each one, find and copy the rules about rate limits. Next, pick one and try to exceed the rate limit; explain what you do and what reaction you get from the API."
   ]
  },
  {
   "cell_type": "markdown",
   "metadata": {},
   "source": [
    "Google Books: 100000 per day\n",
    "    \n",
    "NYT: 4,000 requests per day and 10 requests per minute\n",
    "\n",
    "Dribbble: 60 requests per minute and 1,440 requests per day per authenticated user"
   ]
  },
  {
   "cell_type": "markdown",
   "metadata": {},
   "source": [
    "2. In the next problem you will check how many requests you can send to Google Search before getting blocked. Websites protect themselves from automated crawling by checking requests that come from the same computer in a small time frame and after a while, they won't respond to the request. A valid response would be \"Response 200\", which you can see if you just print the response of `requests.get('https://www.google.com/search?q=zurich')`. \n",
    "\n",
    "The question is\n",
    "a) how many requests does it take to get blocked (when you first get a response other than 200)?\n",
    "b) What is the number of a blocked response and what does it exactly stand for (Google response XXX). If you still can:) "
   ]
  },
  {
   "cell_type": "code",
   "execution_count": 3,
   "metadata": {},
   "outputs": [
    {
     "name": "stdout",
     "output_type": "stream",
     "text": [
      "0\n",
      "1\n",
      "2\n",
      "3\n",
      "4\n",
      "5\n",
      "6\n",
      "7\n",
      "8\n",
      "9\n",
      "10\n",
      "11\n",
      "12\n",
      "13\n",
      "14\n",
      "15\n",
      "16\n",
      "17\n",
      "18\n",
      "19\n",
      "20\n",
      "21\n",
      "22\n",
      "23\n",
      "24\n",
      "25\n",
      "26\n",
      "27\n",
      "28\n",
      "29\n",
      "30\n",
      "31\n",
      "32\n",
      "33\n",
      "34\n",
      "35\n",
      "36\n",
      "37\n",
      "38\n",
      "39\n",
      "40\n",
      "41\n",
      "42\n",
      "43\n",
      "44\n",
      "45\n",
      "46\n",
      "47\n",
      "48\n",
      "49\n",
      "50\n",
      "51\n",
      "52\n",
      "53\n",
      "54\n",
      "55\n",
      "56\n",
      "57\n",
      "58\n",
      "59\n",
      "60\n",
      "61\n",
      "62\n",
      "<Response [429]>\n",
      "It takes 63 requests before getting blocked.\n"
     ]
    }
   ],
   "source": [
    "import requests\n",
    "\n",
    "count = 0\n",
    "s = requests.Session()\n",
    "while s.get('https://www.google.com/search?q=zurich').status_code == 200:\n",
    "    print(count)\n",
    "    count += 1\n",
    "\n",
    "print(s.get('https://www.google.com/search?q=zurich'))\n",
    "print('It takes ' + str(count) + ' requests before getting blocked.')"
   ]
  },
  {
   "cell_type": "markdown",
   "metadata": {},
   "source": [
    "### 2. Selenium sessions"
   ]
  },
  {
   "cell_type": "markdown",
   "metadata": {},
   "source": [
    "Go to a website of your choice where you have an account. It can for example be the New York Times APi website where you created a login last time but also tutti.ch, comparis, whatever simple website you often use.\n",
    "\n",
    "Using Selenium create a session where you \n",
    "1. go to the main website \n",
    "2. log in \n",
    "3. click on an element of your choice \n",
    "4. scroll to the bottom of the page\n",
    "5. then save the page. \n",
    "\n",
    "When logging in, you will have to find the name of the login form and submit your credentials to it and then click the login button. Here you find an example for a login using selenium but in case you decide to use this help, Facebook should not be your chosen website. https://crossbrowsertesting.com/blog/test-automation/automate-login-with-selenium/"
   ]
  },
  {
   "cell_type": "code",
   "execution_count": 4,
   "metadata": {},
   "outputs": [],
   "source": [
    "import time\n",
    "from selenium.webdriver.common.keys import Keys\n",
    "driver = webdriver.Chrome()\n",
    "\n",
    "# 1)\n",
    "driver.get(\"https://developer.nytimes.com/accounts/login\")\n",
    "\n",
    "# 2)\n",
    "driver.find_element_by_name(\"username\").send_keys(\"david.stalder@uzh.ch\")\n",
    "driver.find_element_by_name(\"password\").send_keys(\"HelloWorld1*\")\n",
    "driver.find_element_by_id(\"login-button\").click()\n",
    "\n",
    "# 3)\n",
    "time.sleep(5)\n",
    "driver.find_element_by_xpath(\"//div/ng-component/page-content/div/div[2]/mat-card[1]/mat-card-header\").click()\n",
    "\n",
    "# 4)\n",
    "time.sleep(5)\n",
    "driver.execute_script(\"window.scrollTo(0, document.body.scrollHeight);\")\n",
    "\n",
    "\n",
    "# 5)\n",
    "with open(\"page.html\", \"w\") as f:\n",
    "    f.write(driver.page_source)\n",
    "    \n",
    "driver.close()"
   ]
  },
  {
   "cell_type": "markdown",
   "metadata": {},
   "source": [
    "### 3. Measuring personalization"
   ]
  },
  {
   "cell_type": "markdown",
   "metadata": {},
   "source": [
    "In this exercise you will have to imitate the study described in class on a website of your interest. You will have to measure differences in the content that you receive back from the website under varying treatments. \n",
    "\n",
    "You will have to choose a website and a treatment. Use selenium for this exercise as well. \n",
    "- As for websites, you can pick an online store, or traveling site, some news site, Google News.. basically try to pick something that you suspect gives different results for different searchers. \n",
    "- Examples for treatments would be location, being logged in with an account, history with the website, being on a phone vs a desktop, etc. \n",
    "- You can try to pick multiple searches to make sure you are measuring real phenomenon, not only noise\n",
    "- You can include a control treatment in case you suspect there's A/B testing or noise in how the pages look\n",
    "- Finally you have to pick a measure for the differences on the page. In case you receive items on a page, for example URLs or products, you can define an overlap metric. In case the page is more unstructured, come up with an explanation for how you define differences.\n",
    "\n",
    "As your answer, explain which of the above you chose, how you implemented the experiment, and what difference you found in the pages you collected. \n",
    "\n",
    "You can find more infor on how to run multiple browsers at the same time here: https://crossbrowsertesting.com/blog/selenium/run-test-multiple-browsers-parallel-selenium/"
   ]
  },
  {
   "cell_type": "code",
   "execution_count": 29,
   "metadata": {
    "scrolled": true
   },
   "outputs": [
    {
     "name": "stdout",
     "output_type": "stream",
     "text": [
      "['\\n', '', '\\n', 'LES ERREURS D’INGÉNIEURS...', 'The Hunger Games - The Hanging Tree ( Anja) | The Voice Kids | The Voice Kids 2020 | Blind Auditions', \"Ode à un ex - La Drôle D'Humeur D'Alison Wheeler\", 'Nelly Furtado - Say It Right (Official Music Video)', 'MISS INSHAPE LA FINALE !!', 'Wade Wilson (Deadpool) Deflecting Bullets Scene - X-Men Origins: Wolverine (2009) Movie CLIP HD', 'Jimmy and Kevin Hart Ride a Roller Coaster', 'Des loups fous de joie retrouvent leur soigneuse - ZAPPING SAUVAGE', 'Je fais une boule de riz géante (recette impossible)', 'Heiko oder Roman Lochmann im Spiegel | Verstehen Sie Spaß?', 'FILMS FRANÇAIS 🇫🇷 VS RUSSES 🇷🇺 (Avengers Soviétiques VS Taxi)', 'LIVE ZÉ NETO E CRISTIANO #ESQUECEOMUNDOLAFORA', 'Gusttavo Lima - Buteco em Casa | #FiqueEmCasa e Cante #Comigo', 'Fifi ft Remzie Osmani - Lezet ( prod.by Apollo )', 'Ufo361 - \"Allein sein\"', 'Merita Latifi - Qa me bo (Cover Aziz Murati  Live)', 'Tom Hanks At-Home Monologue - SNL', 'Kontra K -  Puste sie weg (Official Video)', 'Genc Prelvukaj feat Sinan Vllasaliu - Hallall e ke', 'SKERDI x ELINEL - VAJ (Prod. Bini Diez)', 'Building The Most Secret Underground House And Water Slide To Swimming Pool Underground', 'Top 10 Moments Of F1 Safety Car Chaos', 'Billie Eilish - Ocean Eyes (Dance Performance Video)', 'Bazlama schnelle Pfannen Fladenbrot I', 'combattre sa FLEMME', 'Bastian Pastewka und seine Sternstunde bei Genial daneben !!!', \"I Don't Want To Miss A Thing - Aerosmith (Boyce Avenue ft. Jennel Garcia cover) on Spotify & Apple\", \"KOH LANTA L'ILE DES HEROS RESUME EN 7 MN\", 'Back in Service After 16 Years - V12 BMW E31 850i Revival - Project Malaga: Part 2', 'THE HOBBIT, Production Diary 5', 'Legendary Substitutions', '8mm Turkish Mauser']\n",
      "['Michel Abdollahi: Im Nazidorf | Panorama - die Reporter | NDR', \"j'ai trop joué aux jeux vidéo\", 'Hyundai i30N |\\xa0Teil 2 | Über 250 km/h auf der Autobahn | Matthias Malmedie', \"POOLSONG (Wir ham' es geschafft! Ich glaubs nicht) | Julien Bam\", 'Jets mit Überlichtgeschwindigkeit – Einstein widerlegt? | Harald Lesch', 'Tyk Tok 69', 'FILMS FRANÇAIS 🇫🇷 VS RUSSES 🇷🇺 (Avengers Soviétiques VS Taxi)', 'VIDEO LEZIONI - STUDENTI VS PROF - iPantellas w/Favij', 'Un Rebeu Une Rebeue - NOUVEAUX COUPLES', 'Merita Latifi - Qa me bo (Cover Aziz Murati  Live)', 'Je fais une boule de riz géante (recette impossible)', 'Virologe Streeck kritisiert bei Lanz Corona-Maßnahmen', 'I Spent 24 Hours In A Doomsday Bunker', 'Corona geht gerade erst los', 'Fifi ft Remzie Osmani - Lezet ( prod.by Apollo )', 'Kontra K -  Puste sie weg (Official Video)', 'LE MARADON : une journée en live pour les hôpitaux de France | #TousMobilisés', 'Tom Hanks At-Home Monologue - SNL', 'Flucht aus Nordkorea! So leben Geflüchtete in Südkorea | Galileo | ProSieben', 'Les enquêtes de Jerry et Maya -  Le mystère du Stella Nostra', 'Was geschah nach der Rettung eines fast sterbenden Otterbabys?', 'SO klingt ein Motorschaden ... 😖😖 | VW T5 - Abgase im Kühlsystem? | Neue Glühkerze für Audi A4', 'FUTSAL VINES - DRIBLES, COMÉDIA, FREESTYLE, GOLAÇOS, JOGADAS (Falcão, Ronaldinho, Séan Garnier)', 'Die krassesten Fitness Transformationen meiner Community #8 | Sascha Huber Reaktion', 'Vier YOUTUBER spielen Minecraft & einer ist NUR am VERLIEREN!', 'Komplett umgebaute Harley Davidson: Biker versucht zu vertuschen | Achtung Kontrolle | Kabel Eins', 'Realer Irrsinn: Zu langes Geländer | extra 3 | NDR', 'Gary Hines fliegt durch den Parcours | Ninja Warrior Germany 2019', 'Werner Beinhart - Rohrbruch bei Frau Hansen, Meister Röhrich und Eckhart', 'ALMAN im Freibad | Phil Laude', 'Viking House: Full Bushcraft Shelter Build with Hand Tools | Vikings', 'NICHT LACHEN 6.0', 'DANCE MONKEY METRO STATION PIANO PERFORMANCE LONDON']\n",
      "The matching quota is: 8.823529411764707%\n"
     ]
    }
   ],
   "source": [
    "from selenium import webdriver\n",
    "from bs4 import BeautifulSoup\n",
    "import requests\n",
    "import time\n",
    "\n",
    "\n",
    "ff = webdriver.Firefox()\n",
    "ff.get(\"https://www.youtube.com/\")\n",
    "ff_page = ff.page_source\n",
    "ff_html = BeautifulSoup(ff_page, \"html.parser\")\n",
    "ff_tags = ff_html.find_all(\"yt-formatted-string\", id=\"video-title\")\n",
    "ff_titles = []\n",
    "for tag in ff_tags:\n",
    "    ff_titles.append(tag.text)\n",
    "ff.close()\n",
    "\n",
    "print(ff_titles)\n",
    "\n",
    "\n",
    "ch = webdriver.ChromeOptions()\n",
    "ch.add_argument(r'--user-data-dir=C:\\Users\\David\\AppData\\Local\\Google\\Chrome\\User Data\\Default')\n",
    "\n",
    "chrome = webdriver.Chrome(r'C:\\Users\\David\\Documents\\GitHub\\SoComp\\notebook_lecture8\\David&Dani\\chromedriver.exe', options=ch)\n",
    "chrome.get(\"https://www.youtube.com/\")\n",
    "chrome_page = chrome.page_source\n",
    "chrome_html = BeautifulSoup(chrome_page, \"html.parser\")\n",
    "chrome_tags = chrome_html.find_all(\"yt-formatted-string\", id=\"video-title\")\n",
    "chrome_titles = []\n",
    "for tag in chrome_tags:\n",
    "    chrome_titles.append(tag.text)\n",
    "chrome.close()\n",
    "\n",
    "print(chrome_titles)\n",
    "\n",
    "total = len(chrome_titles) + len(ff_titles)\n",
    "matching_count = 0\n",
    "for title in chrome_titles:\n",
    "    if title in ff_titles:\n",
    "        matching_count += 1\n",
    "\n",
    "print(\"The matching quota is: {}%\".format(matching_count/total*100))"
   ]
  },
  {
   "cell_type": "markdown",
   "metadata": {},
   "source": [
    "Congratulations for completing the third notebook! Now it’s time for feedback.\n",
    "1.\tPass your solution to the other pair in your group.\n",
    "2.\tInclude your feedback in the other pair’s notebook. Don’t forget to add your names at the top.\n",
    "3.\tReturn the notebook with feedback to the original pairs.\n",
    "4.\tUpload your notebook, with the feedback included by the other pair on OLAT.\n",
    "\n",
    "You can think of/suggest (among other things)\n",
    " - improvements in the code (e.g. readability, efficiency)\n",
    " - improvements in the answers (e.g. are they easy to understand, are they correct, how can they be improved?)\n",
    " - point out differences (e.g. are there any differences between the responses of the two pairs? if yes what are they, what is the cause, and in which way can they be useful?)\n",
    " \n",
    "Not all suggestions about the type of feedback apply to all types of questions. Try to give feedback in a meaningful and constructive way. "
   ]
  },
  {
   "cell_type": "code",
   "execution_count": null,
   "metadata": {},
   "outputs": [],
   "source": [
    "# Below there is space for giving feedback. This space should be used only by the other pair in your group.\n",
    "\n",
    "'''\n",
    "Feedback here\n",
    "'''"
   ]
  }
 ],
 "metadata": {
  "kernelspec": {
   "display_name": "Python 3",
   "language": "python",
   "name": "python3"
  },
  "language_info": {
   "codemirror_mode": {
    "name": "ipython",
    "version": 3
   },
   "file_extension": ".py",
   "mimetype": "text/x-python",
   "name": "python",
   "nbconvert_exporter": "python",
   "pygments_lexer": "ipython3",
   "version": "3.7.0"
  }
 },
 "nbformat": 4,
 "nbformat_minor": 4
}
