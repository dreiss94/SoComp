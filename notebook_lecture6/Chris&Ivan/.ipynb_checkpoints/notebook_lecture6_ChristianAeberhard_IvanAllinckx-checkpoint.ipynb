{
 "cells": [
  {
   "cell_type": "code",
   "execution_count": 0,
   "metadata": {
    "pycharm": {
     "is_executing": false,
     "name": "#%%\n"
    }
   },
   "outputs": [],
   "source": []
  },
  {
   "cell_type": "markdown",
   "metadata": {},
   "source": [
    "# Online data collection using the requests library"
   ]
  },
  {
   "cell_type": "code",
   "execution_count": 1,
   "metadata": {
    "pycharm": {
     "is_executing": false,
     "name": "#%%\n"
    }
   },
   "outputs": [],
   "source": [
    "# Please inlcude your names below\n",
    "# Also, please edit the name of the file and include the names of the two(or three) people answering\n",
    "\n",
    "# Pair answering the assignment: Christian Aeberhard, Ivan Allinckx\n",
    "# Pair giving feedback: David Stalder, Daniel Reiss"
   ]
  },
  {
   "cell_type": "code",
   "execution_count": 2,
   "metadata": {
    "pycharm": {
     "is_executing": false,
     "name": "#%%\n"
    }
   },
   "outputs": [
    {
     "data": {
      "text/plain": [
       "'<!DOCTYPE html>\\n<html class=\"client-nojs\" lang=\"de\" dir=\"ltr\">\\n<head>\\n<meta charset=\"UTF-8\"/>\\n<title>Nobuo Uematsu – Wikipedia</title>\\n<script>document.documentElement.className=\"client-js\";RLCONF={\"wgBreakFrames\":!1,\"wgSeparatorTransformTable\":[\",\\\\t.\",\".\\\\t,\"],\"wgDigitTransformTable\":[\"\",\"\"],\"wgDefaultDateFormat\":\"dmy\",\"wgMonthNames\":[\"\",\"Januar\",\"Februar\",\"März\",\"April\",\"Mai\",\"Juni\",\"Juli\",\"August\",\"September\",\"Oktober\",\"November\",\"Dezember\"],\"wgMonthNamesShort\":[\"\",\"Jan.\",\"Feb.\",\"Mär.\",\"Apr.\",\"Mai\",\"Jun.\",\"Jul.\",\"Aug.\",\"Sep.\",\"Okt.\",\"Nov.\",\"Dez.\"],\"wgRequestId\":\"XnDSMApAMNMAA1Pb@vcAAACC\",\"wgCSPNonce\":!1,\"wgCanonicalNamespace\":\"\",\"wgCanonicalSpecialPageName\":!1,\"wgNamespaceNumber\":0,\"wgPageName\":\"Nobuo_Uematsu\",\"wgTitle\":\"Nobuo Uematsu\",\"wgCurRevisionId\":194170605,\"wgRevisionId\":194170605,\"wgArticleId\":298529,\"wgIsArticle\":!0,\"wgIsRedirect\":!1,\"wgAction\":\"view\",\"wgUserName\":null,\"wgUserGroups\":[\"*\"],\"wgCategories\":[\"Komponist (Computerspielmusik)\",\"Komponist (Japan)\",\"Komponist (Neoklassik)\",\"Geboren 1959\",\"Mann\",\"Japaner\"],\"wgPageContentLanguage\":\"de\",\"wgPageContentModel\":\"wikitext\",\"wgRelevantPageName\":\\n\"Nobuo_Uematsu\",\"wgRelevantArticleId\":298529,\"wgIsProbablyEditable\":!0,\"wgRelevantPageIsProbablyEditable\":!0,\"wgRestrictionEdit\":[],\"wgRestrictionMove\":[],\"wgFlaggedRevsParams\":{\"tags\":{\"accuracy\":{\"levels\":1,\"quality\":2,\"pristine\":4}}},\"wgStableRevisionId\":194170605,\"wgMediaViewerOnClick\":!0,\"wgMediaViewerEnabledByDefault\":!0,\"wgPopupsReferencePreviews\":!1,\"wgPopupsConflictsWithNavPopupGadget\":!1,\"wgVisualEditor\":{\"pageLanguageCode\":\"de\",\"pageLanguageDir\":\"ltr\",\"pageVariantFallbacks\":\"de\"},\"wgMFDisplayWikibaseDescriptions\":{\"search\":!0,\"nearby\":!0,\"watchlist\":!0,\"tagline\":!0},\"wgWMESchemaEditAttemptStepOversample\":!1,\"wgULSCurrentAutonym\":\"Deutsch\",\"wgNoticeProject\":\"wikipedia\",\"wgWikibaseItemId\":\"Q312327\",\"wgCentralAuthMobileDomain\":!1,\"wgEditSubmitButtonLabelPublish\":!0};RLSTATE={\"ext.globalCssJs.user.styles\":\"ready\",\"site.styles\":\"ready\",\"noscript\":\"ready\",\"user.styles\":\"ready\",\"ext.globalCssJs.user\":\"ready\",\"user\":\"ready\",\"user.options\":\"loading\",\\n\"user.tokens\":\"loading\",\"ext.flaggedRevs.icons\":\"ready\",\"oojs-ui-core.styles\":\"ready\",\"oojs-ui.styles.indicators\":\"ready\",\"mediawiki.widgets.styles\":\"ready\",\"oojs-ui-core.icons\":\"ready\",\"ext.cite.styles\":\"ready\",\"mediawiki.legacy.shared\":\"ready\",\"mediawiki.legacy.commonPrint\":\"ready\",\"mediawiki.toc.styles\":\"ready\",\"skins.vector.styles\":\"ready\",\"wikibase.client.init\":\"ready\",\"ext.flaggedRevs.basic\":\"ready\",\"ext.visualEditor.desktopArticleTarget.noscript\":\"ready\",\"ext.uls.interlanguage\":\"ready\",\"ext.wikimediaBadges\":\"ready\"};RLPAGEMODULES=[\"ext.cite.ux-enhancements\",\"site\",\"mediawiki.page.startup\",\"skins.vector.js\",\"mediawiki.page.ready\",\"mediawiki.toc\",\"ext.flaggedRevs.advanced\",\"ext.gadget.editMenus\",\"ext.gadget.WikiMiniAtlas\",\"ext.gadget.OpenStreetMap\",\"ext.gadget.CommonsDirekt\",\"ext.centralauth.centralautologin\",\"mmv.head\",\"mmv.bootstrap.autostart\",\"ext.popups\",\"ext.visualEditor.desktopArticleTarget.init\",\"ext.visualEditor.targetLoader\",\"ext.eventLogging\",\"ext.wikimediaEvents\",\\n\"ext.navigationTiming\",\"ext.uls.compactlinks\",\"ext.uls.interface\",\"ext.cx.eventlogging.campaigns\",\"ext.quicksurveys.init\",\"ext.centralNotice.geoIP\",\"ext.centralNotice.startUp\"];</script>\\n<script>(RLQ=window.RLQ||[]).push(function(){mw.loader.implement(\"user.options@1wzrr\",function($,jQuery,require,module){/*@nomin*/mw.user.options.set({\"variant\":\"de\"});\\n});mw.loader.implement(\"user.tokens@tffin\",function($,jQuery,require,module){/*@nomin*/mw.user.tokens.set({\"patrolToken\":\"+\\\\\\\\\",\"watchToken\":\"+\\\\\\\\\",\"csrfToken\":\"+\\\\\\\\\"});\\n});});</script>\\n<link rel=\"stylesheet\" href=\"/w/load.php?lang=de&amp;modules=ext.cite.styles%7Cext.flaggedRevs.basic%2Cicons%7Cext.uls.interlanguage%7Cext.visualEditor.desktopArticleTarget.noscript%7Cext.wikimediaBadges%7Cmediawiki.legacy.commonPrint%2Cshared%7Cmediawiki.toc.styles%7Cmediawiki.widgets.styles%7Coojs-ui-core.icons%2Cstyles%7Coojs-ui.styles.indicators%7Cskins.vector.styles%7Cwikibase.client.init&amp;only=styles&amp;skin=vector\"/>\\n<script async=\"\" src=\"/w/load.php?lang=de&amp;modules=startup&amp;only=scripts&amp;raw=1&amp;skin=vector\"></script>\\n<meta name=\"ResourceLoaderDynamicStyles\" content=\"\"/>\\n<link rel=\"stylesheet\" href=\"/w/load.php?lang=de&amp;modules=site.styles&amp;only=styles&amp;skin=vector\"/>\\n<meta name=\"generator\" content=\"MediaWiki 1.35.0-wmf.22\"/>\\n<meta name=\"referrer\" content=\"origin\"/>\\n<meta name=\"referrer\" content=\"origin-when-crossorigin\"/>\\n<meta name=\"referrer\" content=\"origin-when-cross-origin\"/>\\n<meta property=\"og:image\" content=\"https://upload.wikimedia.org/wikipedia/de/8/8c/Nobuo_uematsu_001.jpg\"/>\\n<link rel=\"alternate\" type=\"application/x-wiki\" title=\"Seite bearbeiten\" href=\"/w/index.php?title=Nobuo_Uematsu&amp;action=edit\"/>\\n<link rel=\"edit\" title=\"Seite bearbeiten\" href=\"/w/index.php?title=Nobuo_Uematsu&amp;action=edit\"/>\\n<link rel=\"apple-touch-icon\" href=\"/static/apple-touch/wikipedia.png\"/>\\n<link rel=\"shortcut icon\" href=\"/static/favicon/wikipedia.ico\"/>\\n<link rel=\"search\" type=\"application/opensearchdescription+xml\" href=\"/w/opensearch_desc.php\" title=\"Wikipedia (de)\"/>\\n<link rel=\"EditURI\" type=\"application/rsd+xml\" href=\"//de.wikipedia.org/w/api.php?action=rsd\"/>\\n<link rel=\"license\" href=\"//creativecommons.org/licenses/by-sa/3.0/\"/>\\n<link rel=\"alternate\" type=\"application/atom+xml\" title=\"Atom-Feed für „Wikipedia“\" href=\"/w/index.php?title=Spezial:Letzte_%C3%84nderungen&amp;feed=atom\"/>\\n<link rel=\"canonical\" href=\"https://de.wikipedia.org/wiki/Nobuo_Uematsu\"/>\\n<link rel=\"dns-prefetch\" href=\"//login.wikimedia.org\"/>\\n<link rel=\"dns-prefetch\" href=\"//meta.wikimedia.org\" />\\n<!--[if lt IE 9]><script src=\"/w/resources/lib/html5shiv/html5shiv.js\"></script><![endif]-->\\n</head>\\n<body class=\"mediawiki ltr sitedir-ltr capitalize-all-nouns mw-hide-empty-elt ns-0 ns-subject mw-editable page-Nobuo_Uematsu rootpage-Nobuo_Uematsu skin-vector action-view\">\\n<div id=\"mw-page-base\" class=\"noprint\"></div>\\n<div id=\"mw-head-base\" class=\"noprint\"></div>\\n<div id=\"content\" class=\"mw-body\" role=\"main\">\\n\\t<a id=\"top\"></a>\\n\\t<div id=\"siteNotice\" class=\"mw-body-content\"><!-- CentralNotice --></div>\\n\\t<div class=\"mw-indicators mw-body-content\">\\n</div>\\n\\n\\t<h1 id=\"firstHeading\" class=\"firstHeading\" lang=\"de\">Nobuo Uematsu</h1>\\n\\t\\n\\t<div id=\"bodyContent\" class=\"mw-body-content\">\\n\\t\\t<div id=\"siteSub\" class=\"noprint\">aus Wikipedia, der freien Enzyklopädie</div>\\n\\t\\t<div id=\"contentSub\"></div>\\n\\t\\t\\n\\t\\t\\n\\t\\t<div id=\"jump-to-nav\"></div>\\n\\t\\t<a class=\"mw-jump-link\" href=\"#mw-head\">Zur Navigation springen</a>\\n\\t\\t<a class=\"mw-jump-link\" href=\"#p-search\">Zur Suche springen</a>\\n\\t\\t<div id=\"mw-content-text\" lang=\"de\" dir=\"ltr\" class=\"mw-content-ltr\"><div class=\"mw-parser-output\"><div class=\"thumb tright\"><div class=\"thumbinner\" style=\"width:222px;\"><a href=\"/w/index.php?title=Datei:Nobuo_uematsu_001.jpg&amp;filetimestamp=20110712133510&amp;\" class=\"image\"><img alt=\"\" src=\"//upload.wikimedia.org/wikipedia/de/thumb/8/8c/Nobuo_uematsu_001.jpg/220px-Nobuo_uematsu_001.jpg\" decoding=\"async\" width=\"220\" height=\"330\" class=\"thumbimage\" srcset=\"//upload.wikimedia.org/wikipedia/de/thumb/8/8c/Nobuo_uematsu_001.jpg/330px-Nobuo_uematsu_001.jpg 1.5x, //upload.wikimedia.org/wikipedia/de/thumb/8/8c/Nobuo_uematsu_001.jpg/440px-Nobuo_uematsu_001.jpg 2x\" data-file-width=\"949\" data-file-height=\"1423\" /></a>  <div class=\"thumbcaption\"><div class=\"magnify\"><a href=\"/w/index.php?title=Datei:Nobuo_uematsu_001.jpg&amp;filetimestamp=20110712133510\" class=\"internal\" title=\"vergrößern und Informationen zum Bild anzeigen\"></a></div>Nobuo Uematsu 2011 in Köln</div></div></div>\\n<p><b>Nobuo Uematsu</b> (<a href=\"/wiki/Japanische_Schrift\" title=\"Japanische Schrift\">jap.</a> <span lang=\"ja-Jpan\" class=\"Jpan\">植松 伸夫</span> <i>Uematsu Nobuo</i>; * <a href=\"/wiki/21._M%C3%A4rz\" title=\"21. März\">21. März</a> <a href=\"/wiki/1959\" title=\"1959\">1959</a> in <a href=\"/wiki/K%C5%8Dchi\" title=\"Kōchi\">Kōchi</a>, <a href=\"/wiki/Pr%C3%A4fektur_K%C5%8Dchi\" title=\"Präfektur Kōchi\">Präfektur Kōchi</a>) ist ein <a href=\"/wiki/Japan\" title=\"Japan\">japanischer</a> <a href=\"/wiki/Komponist\" title=\"Komponist\">Komponist</a> und <a href=\"/wiki/Musiker\" title=\"Musiker\">Musiker</a>, der Musik für Video- und <a href=\"/wiki/Computerspiel\" title=\"Computerspiel\">Computerspiele</a> und zuweilen auch für Filme <a href=\"/wiki/Komponist\" title=\"Komponist\">komponiert</a>.\\n</p>\\n<div id=\"toc\" class=\"toc\" role=\"navigation\" aria-labelledby=\"mw-toc-heading\"><input type=\"checkbox\" role=\"button\" id=\"toctogglecheckbox\" class=\"toctogglecheckbox\" style=\"display:none\" /><div class=\"toctitle\" lang=\"de\" dir=\"ltr\"><h2 id=\"mw-toc-heading\">Inhaltsverzeichnis</h2><span class=\"toctogglespan\"><label class=\"toctogglelabel\" for=\"toctogglecheckbox\"></label></span></div>\\n<ul>\\n<li class=\"toclevel-1 tocsection-1\"><a href=\"#Biografie\"><span class=\"tocnumber\">1</span> <span class=\"toctext\">Biografie</span></a></li>\\n<li class=\"toclevel-1 tocsection-2\"><a href=\"#Soundtracks_zu_Videospielen\"><span class=\"tocnumber\">2</span> <span class=\"toctext\">Soundtracks zu Videospielen</span></a></li>\\n<li class=\"toclevel-1 tocsection-3\"><a href=\"#Auf_Nobuo_Uematsus_Werken_basierende_Soundtracks\"><span class=\"tocnumber\">3</span> <span class=\"toctext\">Auf Nobuo Uematsus Werken basierende Soundtracks</span></a></li>\\n<li class=\"toclevel-1 tocsection-4\"><a href=\"#Andere_Werke\"><span class=\"tocnumber\">4</span> <span class=\"toctext\">Andere Werke</span></a></li>\\n<li class=\"toclevel-1 tocsection-5\"><a href=\"#Einzelnachweise\"><span class=\"tocnumber\">5</span> <span class=\"toctext\">Einzelnachweise</span></a></li>\\n<li class=\"toclevel-1 tocsection-6\"><a href=\"#Weblinks\"><span class=\"tocnumber\">6</span> <span class=\"toctext\">Weblinks</span></a></li>\\n</ul>\\n</div>\\n\\n<h2><span class=\"mw-headline\" id=\"Biografie\">Biografie</span><span class=\"mw-editsection\"><span class=\"mw-editsection-bracket\">[</span><a href=\"/w/index.php?title=Nobuo_Uematsu&amp;veaction=edit&amp;section=1\" class=\"mw-editsection-visualeditor\" title=\"Abschnitt bearbeiten: Biografie\">Bearbeiten</a><span class=\"mw-editsection-divider\"> | </span><a href=\"/w/index.php?title=Nobuo_Uematsu&amp;action=edit&amp;section=1\" title=\"Abschnitt bearbeiten: Biografie\">Quelltext bearbeiten</a><span class=\"mw-editsection-bracket\">]</span></span></h2>\\n<p>Nachdem er die Oberschule abgeschlossen hatte, graduierte Uematsu von der <a href=\"/wiki/Universit%C3%A4t_Kanagawa\" title=\"Universität Kanagawa\">Universität Kanagawa</a>. Als Uematsu 22 wurde, trat er vielen Amateur-Bands als <a href=\"/wiki/Keyboard\" title=\"Keyboard\">Keyboard</a>-Spieler bei, merkte jedoch bald, dass ihm das Schreiben von Musik mehr zusagte als das Spielen. Daher begann er eine Karriere als Komponist und schickte Demo-Bänder an viele Unternehmen. Schließlich wurde er engagiert und schrieb Musik für Radio CM.\\n</p><p>Im Jahre <a href=\"/wiki/1985\" title=\"1985\">1985</a> wurde Uematsu von einem Freund, der bei der Videospiel-Firma <a href=\"/wiki/Square_(Unternehmen)\" title=\"Square (Unternehmen)\">Square</a> beschäftigt war, gefragt, ob er nicht Musik für einige Videospiele verfassen wolle. So begann Uematsu, Soundtracks zu schreiben, unter anderem für fast alle Spiele der bekannten <a href=\"/wiki/Final_Fantasy\" title=\"Final Fantasy\">Final-Fantasy</a>-Reihe von Square/<a href=\"/wiki/Square_Enix\" title=\"Square Enix\">Square Enix</a>. Bei diesen arbeitete er auch mit anderen Künstlern zusammen. Im November 2004 verließ er die Firma Square Enix, um als freischaffender Komponist zu arbeiten. Seine Firma hat den Namen Smile Please.\\n</p><p>Die Musik von Nobuo Uematsu wurde in zahlreichen Konzerten zur Aufführung gebracht, so zum Beispiel in der Game Music Concert-Reihe in Japan ab 1991; 2003, 2004, 2006 und 2007 als Teil der Spielemusikkonzerte in Leipzig (<a href=\"/wiki/Spielemusikkonzert\" title=\"Spielemusikkonzert\">Spielemusikkonzert</a>), sowie in dem Konzert 20020220 Music From Final Fantasy oder der <a href=\"/wiki/Tour_de_Japon\" title=\"Tour de Japon\">Tour de Japon</a> 2004. Das Dear-Friends-Konzert 2004 in Los Angeles stellte das erste Final-Fantasy-Konzert außerhalb Japans dar. 2005 begann eine Dear-Friends-Tour durch die USA, Stationen waren unter anderem Chicago und San Francisco. Darüber hinaus tritt Nobuo Uematsu persönlich auf die Bühne, wenn seine Band <i><a href=\"/wiki/The_Black_Mages\" title=\"The Black Mages\">The Black Mages</a></i> Rock-Arrangements von Final Fantasy-Titeln spielt.\\n</p><p>Zurzeit lebt Nobuo Uematsu mit seiner Frau Reiko in Japan.\\n</p>\\n<h2><span class=\"mw-headline\" id=\"Soundtracks_zu_Videospielen\">Soundtracks zu Videospielen</span><span class=\"mw-editsection\"><span class=\"mw-editsection-bracket\">[</span><a href=\"/w/index.php?title=Nobuo_Uematsu&amp;veaction=edit&amp;section=2\" class=\"mw-editsection-visualeditor\" title=\"Abschnitt bearbeiten: Soundtracks zu Videospielen\">Bearbeiten</a><span class=\"mw-editsection-divider\"> | </span><a href=\"/w/index.php?title=Nobuo_Uematsu&amp;action=edit&amp;section=2\" title=\"Abschnitt bearbeiten: Soundtracks zu Videospielen\">Quelltext bearbeiten</a><span class=\"mw-editsection-bracket\">]</span></span></h2>\\n<ul><li>1986: <a href=\"/w/index.php?title=King%27s_Knight&amp;action=edit&amp;redlink=1\" class=\"new\" title=\"King&#39;s Knight (Seite nicht vorhanden)\">King\\'s Knight</a></li>\\n<li><a href=\"/w/index.php?title=Apple_Town_Monogatari&amp;action=edit&amp;redlink=1\" class=\"new\" title=\"Apple Town Monogatari (Seite nicht vorhanden)\">Apple Town Monogatari</a></li>\\n<li><a href=\"/w/index.php?title=Hanjuku_Eiyuu_(NES)&amp;action=edit&amp;redlink=1\" class=\"new\" title=\"Hanjuku Eiyuu (NES) (Seite nicht vorhanden)\">Hanjuku Eiyuu (NES)</a></li>\\n<li><a href=\"/w/index.php?title=Square%27s_Tom_Sawyer&amp;action=edit&amp;redlink=1\" class=\"new\" title=\"Square&#39;s Tom Sawyer (Seite nicht vorhanden)\">Square\\'s Tom Sawyer</a></li>\\n<li>1987: <a href=\"/wiki/Rad_Racer\" title=\"Rad Racer\">Rad Racer</a></li>\\n<li>1987: <a href=\"/wiki/Final_Fantasy_(Computerspiel)\" title=\"Final Fantasy (Computerspiel)\">Final Fantasy I</a></li>\\n<li>1988: <a href=\"/wiki/Final_Fantasy_II\" title=\"Final Fantasy II\">Final Fantasy II</a> – 2000 und 2002 Neuaufnahme von <a href=\"/w/index.php?title=Tsuyoshi_Sekito&amp;action=edit&amp;redlink=1\" class=\"new\" title=\"Tsuyoshi Sekito (Seite nicht vorhanden)\">Tsuyoshi Sekito</a> für die <a href=\"/wiki/Wonderswan_Color\" class=\"mw-redirect\" title=\"Wonderswan Color\">Wonderswan Color</a>- und <a href=\"/wiki/PlayStation\" title=\"PlayStation\">PlayStation</a>-Versionen</li>\\n<li>1989: <a href=\"/w/index.php?title=Makaitoushi_SaGa&amp;action=edit&amp;redlink=1\" class=\"new\" title=\"Makaitoushi SaGa (Seite nicht vorhanden)\">Makaitoushi SaGa</a> (englischer Titel <i>The Final Fantasy Legend</i>)</li>\\n<li>1990: <a href=\"/wiki/Final_Fantasy_III\" title=\"Final Fantasy III\">Final Fantasy III</a></li>\\n<li>1991: <a href=\"/w/index.php?title=SaGa_2_Hihou_Densetsu&amp;action=edit&amp;redlink=1\" class=\"new\" title=\"SaGa 2 Hihou Densetsu (Seite nicht vorhanden)\">SaGa 2 Hihou Densetsu</a> (<i>Final Fantasy Legend 2</i>)</li>\\n<li><a href=\"/w/index.php?title=DynamiTracer&amp;action=edit&amp;redlink=1\" class=\"new\" title=\"DynamiTracer (Seite nicht vorhanden)\">DynamiTracer</a></li>\\n<li><a href=\"/w/index.php?title=Hataraku_Chocobo&amp;action=edit&amp;redlink=1\" class=\"new\" title=\"Hataraku Chocobo (Seite nicht vorhanden)\">Hataraku Chocobo</a></li>\\n<li><a href=\"/w/index.php?title=Cleopatra_no_Mahou&amp;action=edit&amp;redlink=1\" class=\"new\" title=\"Cleopatra no Mahou (Seite nicht vorhanden)\">Cleopatra no Mahou</a></li>\\n<li><a href=\"/w/index.php?title=Cruise_Chaser_Blassty&amp;action=edit&amp;redlink=1\" class=\"new\" title=\"Cruise Chaser Blassty (Seite nicht vorhanden)\">Cruise Chaser Blassty</a></li>\\n<li>1991: <a href=\"/wiki/Final_Fantasy_IV\" title=\"Final Fantasy IV\">Final Fantasy IV</a></li>\\n<li>1992: <a href=\"/wiki/Final_Fantasy_V\" title=\"Final Fantasy V\">Final Fantasy V</a></li>\\n<li>1993: <a href=\"/w/index.php?title=Romancing_SaGa_2&amp;action=edit&amp;redlink=1\" class=\"new\" title=\"Romancing SaGa 2 (Seite nicht vorhanden)\">Romancing SaGa 2</a> – Mit <a href=\"/w/index.php?title=Kenji_Ito&amp;action=edit&amp;redlink=1\" class=\"new\" title=\"Kenji Ito (Seite nicht vorhanden)\">Kenji Ito</a></li>\\n<li>1993: <a href=\"/wiki/Final_Fantasy_VI\" title=\"Final Fantasy VI\">Final Fantasy VI</a></li>\\n<li>1995: <a href=\"/wiki/Chrono_Trigger\" title=\"Chrono Trigger\">Chrono Trigger</a> – Mit <a href=\"/wiki/Yasunori_Mitsuda\" title=\"Yasunori Mitsuda\">Yasunori Mitsuda</a> und <a href=\"/w/index.php?title=Noriko_Matsueda&amp;action=edit&amp;redlink=1\" class=\"new\" title=\"Noriko Matsueda (Seite nicht vorhanden)\">Noriko Matsueda</a> (Außerdem wirkte Tsuyoshi Sekito an der <a href=\"/wiki/PlayStation\" title=\"PlayStation\">PlayStation</a>-Version mit)</li>\\n<li>1997: <a href=\"/wiki/Front_Mission:_Gun_Hazard\" class=\"mw-redirect\" title=\"Front Mission: Gun Hazard\">Front Mission: Gun Hazard</a> – Mit <a href=\"/wiki/Yasunori_Mitsuda\" title=\"Yasunori Mitsuda\">Yasunori Mitsuda</a> und <a href=\"/w/index.php?title=Junya_Nakano&amp;action=edit&amp;redlink=1\" class=\"new\" title=\"Junya Nakano (Seite nicht vorhanden)\">Junya Nakano</a></li>\\n<li><a href=\"/w/index.php?title=Chocobo%27s_Dungeon_2&amp;action=edit&amp;redlink=1\" class=\"new\" title=\"Chocobo&#39;s Dungeon 2 (Seite nicht vorhanden)\">Chocobo\\'s Dungeon 2</a></li>\\n<li>1997: <a href=\"/wiki/Final_Fantasy_VII\" title=\"Final Fantasy VII\">Final Fantasy VII</a></li>\\n<li>1999: <a href=\"/wiki/Final_Fantasy_VIII\" title=\"Final Fantasy VIII\">Final Fantasy VIII</a></li>\\n<li>2000: <a href=\"/wiki/Final_Fantasy_IX\" title=\"Final Fantasy IX\">Final Fantasy IX</a></li>\\n<li>2001: <a href=\"/wiki/Final_Fantasy_X\" title=\"Final Fantasy X\">Final Fantasy X</a> – Mit <a href=\"/wiki/Masashi_Hamauzu\" title=\"Masashi Hamauzu\">Masashi Hamauzu</a> und <a href=\"/w/index.php?title=Junya_Nakano&amp;action=edit&amp;redlink=1\" class=\"new\" title=\"Junya Nakano (Seite nicht vorhanden)\">Junya Nakano</a></li>\\n<li>2002: <a href=\"/w/index.php?title=Hanjuku_Eiyuu_Tai_3D&amp;action=edit&amp;redlink=1\" class=\"new\" title=\"Hanjuku Eiyuu Tai 3D (Seite nicht vorhanden)\">Hanjuku Eiyuu Tai 3D</a></li>\\n<li>2002: <a href=\"/wiki/Final_Fantasy_XI\" title=\"Final Fantasy XI\">Final Fantasy XI</a> – Mit <a href=\"/w/index.php?title=Naoshi_Mizuta&amp;action=edit&amp;redlink=1\" class=\"new\" title=\"Naoshi Mizuta (Seite nicht vorhanden)\">Naoshi Mizuta</a> und <a href=\"/w/index.php?title=Kumi_Tanioka&amp;action=edit&amp;redlink=1\" class=\"new\" title=\"Kumi Tanioka (Seite nicht vorhanden)\">Kumi Tanioka</a></li>\\n<li>2006: <a href=\"/wiki/Blue_Dragon\" title=\"Blue Dragon\">Blue Dragon</a></li>\\n<li>2007: <a href=\"/wiki/Lost_Odyssey\" title=\"Lost Odyssey\">Lost Odyssey</a></li>\\n<li>2008: <a href=\"/wiki/Super_Smash_Bros._Brawl\" class=\"mw-redirect\" title=\"Super Smash Bros. Brawl\">Super Smash Bros. Brawl</a> – Titelthema</li>\\n<li>2010: <a href=\"/wiki/Final_Fantasy_XIV\" title=\"Final Fantasy XIV\">Final Fantasy XIV</a><sup id=\"cite_ref-1\" class=\"reference\"><a href=\"#cite_note-1\">&#91;1&#93;</a></sup></li>\\n<li>2011: <a href=\"/wiki/The_Last_Story\" title=\"The Last Story\">The Last Story</a></li>\\n<li>2012: <a href=\"/w/index.php?title=Fantasy_Life&amp;action=edit&amp;redlink=1\" class=\"new\" title=\"Fantasy Life (Seite nicht vorhanden)\">Fantasy Life</a></li>\\n<li>2013: <a href=\"/w/index.php?title=Oceanhorn:_Monster_of_Uncharted_Seas&amp;action=edit&amp;redlink=1\" class=\"new\" title=\"Oceanhorn: Monster of Uncharted Seas (Seite nicht vorhanden)\">Oceanhorn: Monster of Uncharted Seas</a></li></ul>\\n<h2><span class=\"mw-headline\" id=\"Auf_Nobuo_Uematsus_Werken_basierende_Soundtracks\">Auf Nobuo Uematsus Werken basierende Soundtracks</span><span class=\"mw-editsection\"><span class=\"mw-editsection-bracket\">[</span><a href=\"/w/index.php?title=Nobuo_Uematsu&amp;veaction=edit&amp;section=3\" class=\"mw-editsection-visualeditor\" title=\"Abschnitt bearbeiten: Auf Nobuo Uematsus Werken basierende Soundtracks\">Bearbeiten</a><span class=\"mw-editsection-divider\"> | </span><a href=\"/w/index.php?title=Nobuo_Uematsu&amp;action=edit&amp;section=3\" title=\"Abschnitt bearbeiten: Auf Nobuo Uematsus Werken basierende Soundtracks\">Quelltext bearbeiten</a><span class=\"mw-editsection-bracket\">]</span></span></h2>\\n<ul><li>1996: <a href=\"/wiki/Super_Mario_RPG\" class=\"mw-redirect\" title=\"Super Mario RPG\">Super Mario RPG: Legend of the Seven Stars</a> – Musik von <a href=\"/wiki/Final_Fantasy_IV\" title=\"Final Fantasy IV\">Final Fantasy IV</a> arrangiert von <a href=\"/wiki/Y%C5%8Dko_Shimomura\" title=\"Yōko Shimomura\">Yōko Shimomura</a></li>\\n<li>1998: <a href=\"/wiki/Ehrgeiz_(Computerspiel)\" title=\"Ehrgeiz (Computerspiel)\">Ehrgeiz</a> – Musik von <a href=\"/wiki/Final_Fantasy_VII\" title=\"Final Fantasy VII\">Final Fantasy VII</a> arrangiert von <a href=\"/w/index.php?title=Takayuki_Nakamura&amp;action=edit&amp;redlink=1\" class=\"new\" title=\"Takayuki Nakamura (Seite nicht vorhanden)\">Takayuki Nakamura</a></li></ul>\\n<h2><span class=\"mw-headline\" id=\"Andere_Werke\">Andere Werke</span><span class=\"mw-editsection\"><span class=\"mw-editsection-bracket\">[</span><a href=\"/w/index.php?title=Nobuo_Uematsu&amp;veaction=edit&amp;section=4\" class=\"mw-editsection-visualeditor\" title=\"Abschnitt bearbeiten: Andere Werke\">Bearbeiten</a><span class=\"mw-editsection-divider\"> | </span><a href=\"/w/index.php?title=Nobuo_Uematsu&amp;action=edit&amp;section=4\" title=\"Abschnitt bearbeiten: Andere Werke\">Quelltext bearbeiten</a><span class=\"mw-editsection-bracket\">]</span></span></h2>\\n<ul><li>1990: Final Fantasy: Pray – Mit <a href=\"/w/index.php?title=Risa_Ohki&amp;action=edit&amp;redlink=1\" class=\"new\" title=\"Risa Ohki (Seite nicht vorhanden)\">Risa Ohki</a></li>\\n<li>Phantasmagoria</li>\\n<li>1995: Final Fantasy: Love Will Grow – Mit <a href=\"/w/index.php?title=Risa_Ohki&amp;action=edit&amp;redlink=1\" class=\"new\" title=\"Risa Ohki (Seite nicht vorhanden)\">Risa Ohki</a></li>\\n<li>2000: <a href=\"/wiki/Oh!_My_Goddess:_Der_Film\" title=\"Oh! My Goddess: Der Film\">Oh! My Goddess: Der Film</a> – mit <a href=\"/w/index.php?title=Shiro_Hamaguchi&amp;action=edit&amp;redlink=1\" class=\"new\" title=\"Shiro Hamaguchi (Seite nicht vorhanden)\">Shiro Hamaguchi</a></li>\\n<li>2001: Over the fantasy – Mit <a href=\"/w/index.php?title=Ueda_Kana&amp;action=edit&amp;redlink=1\" class=\"new\" title=\"Ueda Kana (Seite nicht vorhanden)\">Ueda Kana</a></li>\\n<li>2002: 20020220: Music from Final Fantasy – Final Fantasy Orchesterkonzert</li>\\n<li>2003: The Black Mages</li>\\n<li>2004: The Black Mages II – The Skies Above</li>\\n<li>2005: <a href=\"/wiki/Final_Fantasy_VII:_Advent_Children\" title=\"Final Fantasy VII: Advent Children\">Final Fantasy VII: Advent Children</a></li>\\n<li>2008: The Black Mages III – Darkness And Starlight</li>\\n<li>2009: Musik zu <a href=\"/wiki/Guin_Saga#Anime\" title=\"Guin Saga\">Guin Saga (Anime)</a></li>\\n<li>2010: Nuss plays Uematsu – mit <a href=\"/wiki/Benyamin_Nuss\" title=\"Benyamin Nuss\">Benyamin Nuss</a></li>\\n<li>diverse <a href=\"/wiki/Klaviermusik\" title=\"Klaviermusik\">Klaviermusik</a></li></ul>\\n<h2><span class=\"mw-headline\" id=\"Einzelnachweise\">Einzelnachweise</span><span class=\"mw-editsection\"><span class=\"mw-editsection-bracket\">[</span><a href=\"/w/index.php?title=Nobuo_Uematsu&amp;veaction=edit&amp;section=5\" class=\"mw-editsection-visualeditor\" title=\"Abschnitt bearbeiten: Einzelnachweise\">Bearbeiten</a><span class=\"mw-editsection-divider\"> | </span><a href=\"/w/index.php?title=Nobuo_Uematsu&amp;action=edit&amp;section=5\" title=\"Abschnitt bearbeiten: Einzelnachweise\">Quelltext bearbeiten</a><span class=\"mw-editsection-bracket\">]</span></span></h2>\\n<ol class=\"references\">\\n<li id=\"cite_note-1\"><span class=\"mw-cite-backlink\"><a href=\"#cite_ref-1\">↑</a></span> <span class=\"reference-text\">Chris Kohler: <i><a rel=\"nofollow\" class=\"external text\" href=\"http://www.wired.com/gamelife/2009/07/nobuo-uematsu/\">An Evening with Uematsu, Final Fantasy’s Music Man.</a></i> Game|Life, wired.com, 21. Juli 2009, englisch</span>\\n</li>\\n</ol>\\n<h2><span class=\"mw-headline\" id=\"Weblinks\">Weblinks</span><span class=\"mw-editsection\"><span class=\"mw-editsection-bracket\">[</span><a href=\"/w/index.php?title=Nobuo_Uematsu&amp;veaction=edit&amp;section=6\" class=\"mw-editsection-visualeditor\" title=\"Abschnitt bearbeiten: Weblinks\">Bearbeiten</a><span class=\"mw-editsection-divider\"> | </span><a href=\"/w/index.php?title=Nobuo_Uematsu&amp;action=edit&amp;section=6\" title=\"Abschnitt bearbeiten: Weblinks\">Quelltext bearbeiten</a><span class=\"mw-editsection-bracket\">]</span></span></h2>\\n<div class=\"sisterproject\" style=\"margin:0.1em 0 0 0;\"><div class=\"noviewer\" style=\"display:inline-block; line-height:10px; min-width:1.6em; text-align:center;\" aria-hidden=\"true\" role=\"presentation\"><img alt=\"\" src=\"//upload.wikimedia.org/wikipedia/commons/thumb/4/4a/Commons-logo.svg/12px-Commons-logo.svg.png\" decoding=\"async\" title=\"Commons\" width=\"12\" height=\"16\" srcset=\"//upload.wikimedia.org/wikipedia/commons/thumb/4/4a/Commons-logo.svg/18px-Commons-logo.svg.png 1.5x, //upload.wikimedia.org/wikipedia/commons/thumb/4/4a/Commons-logo.svg/24px-Commons-logo.svg.png 2x\" data-file-width=\"1024\" data-file-height=\"1376\" /></div><b><span class=\"plainlinks\"><a class=\"external text\" href=\"https://commons.wikimedia.org/wiki/Category:Nobuo_Uematsu?uselang=de\"><span lang=\"en\">Commons</span>: Nobuo Uematsu</a></span></b>&#160;– Sammlung von Bildern, Videos und Audiodateien</div>\\n<ul><li><a rel=\"nofollow\" class=\"external text\" href=\"http://www.dogearrecords.com/\">Offizielle Seite</a></li>\\n<li><a rel=\"nofollow\" class=\"external text\" href=\"http://www.smileplease.co.jp/\">Offizielle Webseite zu Smile Please</a></li>\\n<li><a rel=\"nofollow\" class=\"external text\" href=\"http://www.g-wie-gorilla.de/index.php?option=com_content&amp;task=view&amp;id=126&amp;Itemid=5\">Umfangreiches Interview mit Nobuo Uematsu (2006)</a></li></ul>\\n<div id=\"normdaten\" class=\"catlinks normdaten-typ-p\">Normdaten&#160;(Person): <a href=\"/wiki/Gemeinsame_Normdatei\" title=\"Gemeinsame Normdatei\">GND</a>: <span class=\"plainlinks-print\"><a rel=\"nofollow\" class=\"external text\" href=\"https://d-nb.info/gnd/142593397\">142593397</a></span> <span class=\"metadata noprint\">(<a rel=\"nofollow\" class=\"external text\" href=\"http://swb.bsz-bw.de/DB=2.104/SET=1/TTL=1/CMD?retrace=0&amp;trm_old=&amp;ACT=SRCHA&amp;IKT=2999&amp;SRT=RLV&amp;TRM=142593397\">OGND</a>, <a rel=\"nofollow\" class=\"external text\" href=\"https://beacon.findbuch.de/seealso/pnd-aks?format=sources&amp;id=142593397\">AKS</a>)</span>  &#124; <a href=\"/wiki/Library_of_Congress_Control_Number\" title=\"Library of Congress Control Number\">LCCN</a>: <span class=\"plainlinks-print\"><a rel=\"nofollow\" class=\"external text\" href=\"https://lccn.loc.gov/nr2002019531\">nr2002019531</a></span> &#124; <a href=\"/wiki/Web_NDL_Authorities\" title=\"Web NDL Authorities\">NDL</a>: <span class=\"plainlinks-print\"><a rel=\"nofollow\" class=\"external text\" href=\"https://id.ndl.go.jp/auth/ndlna/00415289\">00415289</a></span> &#124; <a href=\"/wiki/Virtual_International_Authority_File\" title=\"Virtual International Authority File\">VIAF</a>: <span class=\"plainlinks-print\"><a rel=\"nofollow\" class=\"external text\" href=\"https://viaf.org/viaf/61750092/\">61750092</a></span>   &#124; <span class=\"noprint\"><a class=\"external text\" href=\"https://tools.wmflabs.org/persondata/p/Nobuo_Uematsu\">Wikipedia-Personensuche</a></span><span class=\"metadata\"></span></div>\\n<table class=\"metadata rahmenfarbe1\" id=\"Vorlage_Personendaten\" style=\"border-style: solid; margin-top: 20px;\">\\n<tbody><tr>\\n<th colspan=\"2\"><a href=\"/wiki/Hilfe:Personendaten\" title=\"Hilfe:Personendaten\">Personendaten</a>\\n</th></tr>\\n<tr>\\n<td style=\"color: #aaa;\">NAME\\n</td>\\n<td style=\"font-weight: bold;\">Uematsu, Nobuo\\n</td></tr>\\n<tr>\\n<td style=\"color: #aaa;\">ALTERNATIVNAMEN\\n</td>\\n<td>植松 伸夫 (japanisch)\\n</td></tr>\\n<tr>\\n<td style=\"color: #aaa;\">KURZBESCHREIBUNG\\n</td>\\n<td>japanischer Musiker\\n</td></tr>\\n<tr>\\n<td style=\"color: #aaa;\">GEBURTSDATUM\\n</td>\\n<td>21. März 1959\\n</td></tr>\\n<tr>\\n<td style=\"color: #aaa;\">GEBURTSORT\\n</td>\\n<td><a href=\"/wiki/K%C5%8Dchi\" title=\"Kōchi\">Kōchi</a>\\n</td></tr>\\n\\n\\n\\n</tbody></table>\\n<!-- \\nNewPP limit report\\nParsed by mw1365\\nCached time: 20200316223858\\nCache expiry: 2592000\\nDynamic content: false\\nComplications: []\\nCPU time usage: 0.156 seconds\\nReal time usage: 0.235 seconds\\nPreprocessor visited node count: 441/1000000\\nPost‐expand include size: 3881/2097152 bytes\\nTemplate argument size: 556/2097152 bytes\\nHighest expansion depth: 7/40\\nExpensive parser function count: 8/500\\nUnstrip recursion depth: 0/20\\nUnstrip post‐expand size: 468/5000000 bytes\\nNumber of Wikibase entities loaded: 1/400\\nLua time usage: 0.091/10.000 seconds\\nLua memory usage: 2.7 MB/50 MB\\n-->\\n<!--\\nTransclusion expansion time report (%,ms,calls,template)\\n100.00%  201.056      1 -total\\n 52.22%  104.995      1 Vorlage:Lang\\n 30.21%   60.738      3 Vorlage:Wikidata-Registrierung\\n 29.32%   58.956      1 Vorlage:Commonscat\\n  9.51%   19.127      1 Vorlage:Normdaten\\n  4.20%    8.445      1 Vorlage:Personendaten\\n-->\\n\\n<!-- Saved in parser cache with key dewiki:stable-pcache:idhash:298529-0!canonical and timestamp 20200316223858 and revision id 194170605\\n -->\\n</div><noscript><img src=\"//de.wikipedia.org/wiki/Special:CentralAutoLogin/start?type=1x1\" alt=\"\" title=\"\" width=\"1\" height=\"1\" style=\"border: none; position: absolute;\" /></noscript></div>\\n\\t\\t<div class=\"printfooter\">Abgerufen von „<a dir=\"ltr\" href=\"https://de.wikipedia.org/w/index.php?title=Nobuo_Uematsu&amp;oldid=194170605\">https://de.wikipedia.org/w/index.php?title=Nobuo_Uematsu&amp;oldid=194170605</a>“</div>\\n\\t\\t<div id=\"catlinks\" class=\"catlinks\" data-mw=\"interface\"><div id=\"mw-normal-catlinks\" class=\"mw-normal-catlinks\"><a href=\"/wiki/Wikipedia:Kategorien\" title=\"Wikipedia:Kategorien\">Kategorien</a>: <ul><li><a href=\"/wiki/Kategorie:Komponist_(Computerspielmusik)\" title=\"Kategorie:Komponist (Computerspielmusik)\">Komponist (Computerspielmusik)</a></li><li><a href=\"/wiki/Kategorie:Komponist_(Japan)\" title=\"Kategorie:Komponist (Japan)\">Komponist (Japan)</a></li><li><a href=\"/wiki/Kategorie:Komponist_(Neoklassik)\" title=\"Kategorie:Komponist (Neoklassik)\">Komponist (Neoklassik)</a></li><li><a href=\"/wiki/Kategorie:Geboren_1959\" title=\"Kategorie:Geboren 1959\">Geboren 1959</a></li><li><a href=\"/wiki/Kategorie:Mann\" title=\"Kategorie:Mann\">Mann</a></li><li><a href=\"/wiki/Kategorie:Japaner\" title=\"Kategorie:Japaner\">Japaner</a></li></ul></div></div>\\n\\t\\t<div class=\"visualClear\"></div>\\n\\t\\t\\n\\t</div>\\n</div>\\n<div id=\\'mw-data-after-content\\'>\\n\\t<div class=\"read-more-container\"></div>\\n</div>\\n\\n<div id=\"mw-navigation\">\\n    <h2>Navigationsmenü</h2>\\n    <div id=\"mw-head\">\\n        \\n<div id=\"p-personal\" role=\"navigation\" class=\"\" aria-labelledby=\"p-personal-label\">\\n\\t<h3 id=\"p-personal-label\">Meine Werkzeuge</h3>\\n\\t<ul >\\n\\t\\t\\n\\t\\t<li id=\"pt-anonuserpage\">Nicht angemeldet</li>\\n\\t\\t<li id=\"pt-anontalk\"><a href=\"/wiki/Spezial:Meine_Diskussionsseite\" title=\"Diskussion über Änderungen von dieser IP-Adresse [n]\" accesskey=\"n\">Diskussionsseite</a></li><li id=\"pt-anoncontribs\"><a href=\"/wiki/Spezial:Meine_Beitr%C3%A4ge\" title=\"Eine Liste der Bearbeitungen, die von dieser IP-Adresse gemacht wurden [y]\" accesskey=\"y\">Beiträge</a></li><li id=\"pt-createaccount\"><a href=\"/w/index.php?title=Spezial:Benutzerkonto_anlegen&amp;returnto=Nobuo+Uematsu\" title=\"Wir ermutigen dich dazu, ein Benutzerkonto zu erstellen und dich anzumelden. Es ist jedoch nicht zwingend erforderlich.\">Benutzerkonto erstellen</a></li><li id=\"pt-login\"><a href=\"/w/index.php?title=Spezial:Anmelden&amp;returnto=Nobuo+Uematsu\" title=\"Anmelden ist zwar keine Pflicht, wird aber gerne gesehen. [o]\" accesskey=\"o\">Anmelden</a></li>\\n\\t</ul>\\n</div>\\n\\n        <div id=\"left-navigation\">\\n            <div id=\"p-namespaces\" role=\"navigation\" class=\"vectorTabs \" aria-labelledby=\"p-namespaces-label\">\\n\\t<h3 id=\"p-namespaces-label\">Namensräume</h3>\\n\\t<ul >\\n\\t\\t<li id=\"ca-nstab-main\" class=\"selected\"><a href=\"/wiki/Nobuo_Uematsu\" title=\"Seiteninhalt anzeigen [c]\" accesskey=\"c\">Artikel</a></li><li id=\"ca-talk\"><a href=\"/wiki/Diskussion:Nobuo_Uematsu\" rel=\"discussion\" title=\"Diskussion zum Seiteninhalt [t]\" accesskey=\"t\">Diskussion</a></li>\\n\\t</ul>\\n</div>\\n<div id=\"p-variants\" role=\"navigation\" class=\"vectorMenu emptyPortlet\" aria-labelledby=\"p-variants-label\">\\n\\t<input type=\"checkbox\" class=\"vectorMenuCheckbox\" aria-labelledby=\"p-variants-label\" />\\n\\t<h3 id=\"p-variants-label\">\\n\\t\\t<span>Varianten</span>\\n\\t</h3>\\n\\t<ul class=\"menu\" >\\n\\t\\t\\n\\t</ul>\\n</div>\\n\\n        </div>\\n        <div id=\"right-navigation\">\\n            <div id=\"p-views\" role=\"navigation\" class=\"vectorTabs \" aria-labelledby=\"p-views-label\">\\n\\t<h3 id=\"p-views-label\">Ansichten</h3>\\n\\t<ul >\\n\\t\\t<li id=\"ca-view\" class=\"collapsible selected\"><a href=\"/wiki/Nobuo_Uematsu\">Lesen</a></li><li id=\"ca-ve-edit\" class=\"collapsible\"><a href=\"/w/index.php?title=Nobuo_Uematsu&amp;veaction=edit\" title=\"Diese Seite mit dem VisualEditor bearbeiten [v]\" accesskey=\"v\">Bearbeiten</a></li><li id=\"ca-edit\" class=\"collapsible\"><a href=\"/w/index.php?title=Nobuo_Uematsu&amp;action=edit\" title=\"Diese Seite bearbeiten [e]\" accesskey=\"e\">Quelltext bearbeiten</a></li><li id=\"ca-history\" class=\"collapsible\"><a href=\"/w/index.php?title=Nobuo_Uematsu&amp;action=history\" title=\"Frühere Versionen dieser Seite [h]\" accesskey=\"h\">Versionsgeschichte</a></li>\\n\\t</ul>\\n</div>\\n<div id=\"p-cactions\" role=\"navigation\" class=\"vectorMenu emptyPortlet\" aria-labelledby=\"p-cactions-label\">\\n\\t<input type=\"checkbox\" class=\"vectorMenuCheckbox\" aria-labelledby=\"p-cactions-label\" />\\n\\t<h3 id=\"p-cactions-label\">\\n\\t\\t<span>Mehr</span>\\n\\t</h3>\\n\\t<ul class=\"menu\" >\\n\\t\\t\\n\\t</ul>\\n</div>\\n<div id=\"p-search\" role=\"search\">\\n\\t<h3 >\\n\\t\\t<label for=\"searchInput\">Suche</label>\\n\\t</h3>\\n\\t<form action=\"/w/index.php\" id=\"searchform\">\\n\\t\\t<div id=\"simpleSearch\">\\n\\t\\t\\t<input type=\"search\" name=\"search\" placeholder=\"Wikipedia durchsuchen\" title=\"Durchsuche die Wikipedia [f]\" accesskey=\"f\" id=\"searchInput\"/>\\n\\t\\t\\t<input type=\"hidden\" value=\"Spezial:Suche\" name=\"title\"/>\\n\\t\\t\\t<input type=\"submit\" name=\"fulltext\" value=\"Suchen\" title=\"Suche nach Seiten, die diesen Text enthalten\" id=\"mw-searchButton\" class=\"searchButton mw-fallbackSearchButton\"/>\\n\\t\\t\\t<input type=\"submit\" name=\"go\" value=\"Artikel\" title=\"Gehe direkt zu der Seite mit genau diesem Namen, falls sie vorhanden ist.\" id=\"searchButton\" class=\"searchButton\"/>\\n\\t\\t</div>\\n\\t</form>\\n</div>\\n\\n        </div>\\n    </div>\\n    \\n<div id=\"mw-panel\">\\n\\t<div id=\"p-logo\" role=\"banner\">\\n\\t\\t<a  title=\"Hauptseite\" class=\"mw-wiki-logo\" href=\"/wiki/Wikipedia:Hauptseite\"></a>\\n\\t</div>\\n\\t<div class=\"portal\" role=\"navigation\" id=\"p-navigation\"  aria-labelledby=\"p-navigation-label\">\\n\\t\\t<h3  id=\"p-navigation-label\">\\n\\t\\t\\tNavigation\\n\\t\\t</h3>\\n\\t\\t<div class=\"body\">\\n\\t\\t\\t<ul><li id=\"n-mainpage-description\"><a href=\"/wiki/Wikipedia:Hauptseite\" title=\"Hauptseite besuchen [z]\" accesskey=\"z\">Hauptseite</a></li><li id=\"n-topics\"><a href=\"/wiki/Portal:Wikipedia_nach_Themen\">Themenportale</a></li><li id=\"n-randompage\"><a href=\"/wiki/Spezial:Zuf%C3%A4llige_Seite\" title=\"Zufällige Seite aufrufen [x]\" accesskey=\"x\">Zufälliger Artikel</a></li></ul>\\n\\t\\t\\t\\n\\t\\t</div>\\n\\t</div>\\n\\t\\n\\t<div class=\"portal\" role=\"navigation\" id=\"p-Mitmachen\"  aria-labelledby=\"p-Mitmachen-label\">\\n\\t\\t<h3  id=\"p-Mitmachen-label\">\\n\\t\\t\\tMitmachen\\n\\t\\t</h3>\\n\\t\\t<div class=\"body\">\\n\\t\\t\\t<ul><li id=\"n-Artikel-verbessern\"><a href=\"/wiki/Wikipedia:Beteiligen\">Artikel verbessern</a></li><li id=\"n-Neuerartikel\"><a href=\"/wiki/Hilfe:Neuen_Artikel_anlegen\">Neuen Artikel anlegen</a></li><li id=\"n-portal\"><a href=\"/wiki/Wikipedia:Autorenportal\" title=\"Info-Zentrum über Beteiligungsmöglichkeiten\">Autorenportal</a></li><li id=\"n-help\"><a href=\"/wiki/Hilfe:%C3%9Cbersicht\" title=\"Hilfeseite anzeigen\">Hilfe</a></li><li id=\"n-recentchanges\"><a href=\"/wiki/Spezial:Letzte_%C3%84nderungen\" title=\"Liste der letzten Änderungen in Wikipedia [r]\" accesskey=\"r\">Letzte Änderungen</a></li><li id=\"n-contact\"><a href=\"/wiki/Wikipedia:Kontakt\">Kontakt</a></li><li id=\"n-sitesupport\"><a href=\"//donate.wikimedia.org/wiki/Special:FundraiserRedirector?utm_source=donate&amp;utm_medium=sidebar&amp;utm_campaign=C13_de.wikipedia.org&amp;uselang=de\" title=\"Unterstütze uns\">Spenden</a></li></ul>\\n\\t\\t\\t\\n\\t\\t</div>\\n\\t</div>\\n\\t\\n\\t<div class=\"portal\" role=\"navigation\" id=\"p-tb\"  aria-labelledby=\"p-tb-label\">\\n\\t\\t<h3  id=\"p-tb-label\">\\n\\t\\t\\tWerkzeuge\\n\\t\\t</h3>\\n\\t\\t<div class=\"body\">\\n\\t\\t\\t<ul><li id=\"t-whatlinkshere\"><a href=\"/wiki/Spezial:Linkliste/Nobuo_Uematsu\" title=\"Liste aller Seiten, die hierher verlinken [j]\" accesskey=\"j\">Links auf diese Seite</a></li><li id=\"t-recentchangeslinked\"><a href=\"/wiki/Spezial:%C3%84nderungen_an_verlinkten_Seiten/Nobuo_Uematsu\" rel=\"nofollow\" title=\"Letzte Änderungen an Seiten, die von hier verlinkt sind [k]\" accesskey=\"k\">Änderungen an verlinkten Seiten</a></li><li id=\"t-specialpages\"><a href=\"/wiki/Spezial:Spezialseiten\" title=\"Liste aller Spezialseiten [q]\" accesskey=\"q\">Spezialseiten</a></li><li id=\"t-permalink\"><a href=\"/w/index.php?title=Nobuo_Uematsu&amp;oldid=194170605\" title=\"Dauerhafter Link zu dieser Seitenversion\">Permanenter Link</a></li><li id=\"t-info\"><a href=\"/w/index.php?title=Nobuo_Uematsu&amp;action=info\" title=\"Weitere Informationen über diese Seite\">Seiten\\xadinformationen</a></li><li id=\"t-wikibase\"><a href=\"https://www.wikidata.org/wiki/Special:EntityPage/Q312327\" title=\"Link zum verbundenen Objekt im Datenrepositorium [g]\" accesskey=\"g\">Wikidata-Datenobjekt</a></li><li id=\"t-cite\"><a href=\"/w/index.php?title=Spezial:Zitierhilfe&amp;page=Nobuo_Uematsu&amp;id=194170605\" title=\"Hinweise, wie diese Seite zitiert werden kann\">Artikel zitieren</a></li></ul>\\n\\t\\t\\t\\n\\t\\t</div>\\n\\t</div>\\n\\t\\n\\t<div class=\"portal\" role=\"navigation\" id=\"p-wikibase-otherprojects\"  aria-labelledby=\"p-wikibase-otherprojects-label\">\\n\\t\\t<h3  id=\"p-wikibase-otherprojects-label\">\\n\\t\\t\\tIn anderen Projekten\\n\\t\\t</h3>\\n\\t\\t<div class=\"body\">\\n\\t\\t\\t<ul><li class=\"wb-otherproject-link wb-otherproject-commons\"><a href=\"https://commons.wikimedia.org/wiki/Category:Nobuo_Uematsu\" hreflang=\"en\">Commons</a></li></ul>\\n\\t\\t\\t\\n\\t\\t</div>\\n\\t</div>\\n\\t\\n\\t<div class=\"portal\" role=\"navigation\" id=\"p-coll-print_export\"  aria-labelledby=\"p-coll-print_export-label\">\\n\\t\\t<h3  id=\"p-coll-print_export-label\">\\n\\t\\t\\tDrucken/\\xadexportieren\\n\\t\\t</h3>\\n\\t\\t<div class=\"body\">\\n\\t\\t\\t<ul><li id=\"coll-create_a_book\"><a href=\"/w/index.php?title=Spezial:Buch&amp;bookcmd=book_creator&amp;referer=Nobuo+Uematsu\">Buch erstellen</a></li><li id=\"coll-download-as-rl\"><a href=\"/w/index.php?title=Spezial:ElectronPdf&amp;page=Nobuo+Uematsu&amp;action=show-download-screen\">Als PDF herunterladen</a></li><li id=\"t-print\"><a href=\"/w/index.php?title=Nobuo_Uematsu&amp;printable=yes\" title=\"Druckansicht dieser Seite [p]\" accesskey=\"p\">Druckversion</a></li></ul>\\n\\t\\t\\t\\n\\t\\t</div>\\n\\t</div>\\n\\t\\n\\t<div class=\"portal\" role=\"navigation\" id=\"p-lang\"  aria-labelledby=\"p-lang-label\">\\n\\t\\t<h3  id=\"p-lang-label\">\\n\\t\\t\\tIn anderen Sprachen\\n\\t\\t</h3>\\n\\t\\t<div class=\"body\">\\n\\t\\t\\t<ul><li class=\"interlanguage-link interwiki-ar\"><a href=\"https://ar.wikipedia.org/wiki/%D9%86%D9%88%D8%A8%D9%88%D8%A4%D9%88_%D8%A3%D9%88%D9%8A%D9%85%D8%A7%D8%AA%D8%B3%D9%88\" title=\"نوبوؤو أويماتسو – Arabisch\" lang=\"ar\" hreflang=\"ar\" class=\"interlanguage-link-target\">العربية</a></li><li class=\"interlanguage-link interwiki-azb\"><a href=\"https://azb.wikipedia.org/wiki/%D9%86%D9%88%D8%A8%D9%88%D9%88_%D8%A7%D9%88%D8%A6%D9%85%D8%A7%D8%AA%D8%B3%D9%88\" title=\"نوبوو اوئماتسو – Südaserbaidschanisch\" lang=\"azb\" hreflang=\"azb\" class=\"interlanguage-link-target\">تۆرکجه</a></li><li class=\"interlanguage-link interwiki-ca\"><a href=\"https://ca.wikipedia.org/wiki/Nobuo_Uematsu\" title=\"Nobuo Uematsu – Katalanisch\" lang=\"ca\" hreflang=\"ca\" class=\"interlanguage-link-target\">Català</a></li><li class=\"interlanguage-link interwiki-cs\"><a href=\"https://cs.wikipedia.org/wiki/Nobuo_Uemacu\" title=\"Nobuo Uemacu – Tschechisch\" lang=\"cs\" hreflang=\"cs\" class=\"interlanguage-link-target\">Čeština</a></li><li class=\"interlanguage-link interwiki-el\"><a href=\"https://el.wikipedia.org/wiki/%CE%9D%CE%BF%CE%BC%CF%80%CE%BF%CF%8D%CE%BF_%CE%9F%CF%85%CE%B5%CE%BC%CE%AC%CF%84%CF%83%CE%BF%CF%85\" title=\"Νομπούο Ουεμάτσου – Griechisch\" lang=\"el\" hreflang=\"el\" class=\"interlanguage-link-target\">Ελληνικά</a></li><li class=\"interlanguage-link interwiki-en badge-Q17437798 badge-goodarticle\" title=\"lesenswerter Artikel\"><a href=\"https://en.wikipedia.org/wiki/Nobuo_Uematsu\" title=\"Nobuo Uematsu – Englisch\" lang=\"en\" hreflang=\"en\" class=\"interlanguage-link-target\">English</a></li><li class=\"interlanguage-link interwiki-es\"><a href=\"https://es.wikipedia.org/wiki/Nobuo_Uematsu\" title=\"Nobuo Uematsu – Spanisch\" lang=\"es\" hreflang=\"es\" class=\"interlanguage-link-target\">Español</a></li><li class=\"interlanguage-link interwiki-fa\"><a href=\"https://fa.wikipedia.org/wiki/%D9%86%D9%88%D8%A8%D9%88%D9%88_%D8%A7%D9%88%D8%A6%D9%85%D8%A7%D8%AA%D8%B3%D9%88\" title=\"نوبوو اوئماتسو – Persisch\" lang=\"fa\" hreflang=\"fa\" class=\"interlanguage-link-target\">فارسی</a></li><li class=\"interlanguage-link interwiki-fi\"><a href=\"https://fi.wikipedia.org/wiki/Nobuo_Uematsu\" title=\"Nobuo Uematsu – Finnisch\" lang=\"fi\" hreflang=\"fi\" class=\"interlanguage-link-target\">Suomi</a></li><li class=\"interlanguage-link interwiki-fr\"><a href=\"https://fr.wikipedia.org/wiki/Nobuo_Uematsu\" title=\"Nobuo Uematsu – Französisch\" lang=\"fr\" hreflang=\"fr\" class=\"interlanguage-link-target\">Français</a></li><li class=\"interlanguage-link interwiki-hr\"><a href=\"https://hr.wikipedia.org/wiki/Nobuo_Uemacu\" title=\"Nobuo Uemacu – Kroatisch\" lang=\"hr\" hreflang=\"hr\" class=\"interlanguage-link-target\">Hrvatski</a></li><li class=\"interlanguage-link interwiki-id\"><a href=\"https://id.wikipedia.org/wiki/Nobuo_Uematsu\" title=\"Nobuo Uematsu – Indonesisch\" lang=\"id\" hreflang=\"id\" class=\"interlanguage-link-target\">Bahasa Indonesia</a></li><li class=\"interlanguage-link interwiki-it\"><a href=\"https://it.wikipedia.org/wiki/Nobuo_Uematsu\" title=\"Nobuo Uematsu – Italienisch\" lang=\"it\" hreflang=\"it\" class=\"interlanguage-link-target\">Italiano</a></li><li class=\"interlanguage-link interwiki-ja\"><a href=\"https://ja.wikipedia.org/wiki/%E6%A4%8D%E6%9D%BE%E4%BC%B8%E5%A4%AB\" title=\"植松伸夫 – Japanisch\" lang=\"ja\" hreflang=\"ja\" class=\"interlanguage-link-target\">日本語</a></li><li class=\"interlanguage-link interwiki-ko\"><a href=\"https://ko.wikipedia.org/wiki/%EC%9A%B0%EC%97%90%EB%A7%88%EC%93%B0_%EB%85%B8%EB%B6%80%EC%98%A4\" title=\"우에마쓰 노부오 – Koreanisch\" lang=\"ko\" hreflang=\"ko\" class=\"interlanguage-link-target\">한국어</a></li><li class=\"interlanguage-link interwiki-lt\"><a href=\"https://lt.wikipedia.org/wiki/Nobuo_Uematsu\" title=\"Nobuo Uematsu – Litauisch\" lang=\"lt\" hreflang=\"lt\" class=\"interlanguage-link-target\">Lietuvių</a></li><li class=\"interlanguage-link interwiki-nl\"><a href=\"https://nl.wikipedia.org/wiki/Nobuo_Uematsu\" title=\"Nobuo Uematsu – Niederländisch\" lang=\"nl\" hreflang=\"nl\" class=\"interlanguage-link-target\">Nederlands</a></li><li class=\"interlanguage-link interwiki-no\"><a href=\"https://no.wikipedia.org/wiki/Nobuo_Uematsu\" title=\"Nobuo Uematsu – Norwegisch Bokmål\" lang=\"nb\" hreflang=\"nb\" class=\"interlanguage-link-target\">Norsk bokmål</a></li><li class=\"interlanguage-link interwiki-pl\"><a href=\"https://pl.wikipedia.org/wiki/Nobuo_Uematsu\" title=\"Nobuo Uematsu – Polnisch\" lang=\"pl\" hreflang=\"pl\" class=\"interlanguage-link-target\">Polski</a></li><li class=\"interlanguage-link interwiki-pt\"><a href=\"https://pt.wikipedia.org/wiki/Nobuo_Uematsu\" title=\"Nobuo Uematsu – Portugiesisch\" lang=\"pt\" hreflang=\"pt\" class=\"interlanguage-link-target\">Português</a></li><li class=\"interlanguage-link interwiki-ru\"><a href=\"https://ru.wikipedia.org/wiki/%D0%A3%D1%8D%D0%BC%D0%B0%D1%86%D1%83,_%D0%9D%D0%BE%D0%B1%D1%83%D0%BE\" title=\"Уэмацу, Нобуо – Russisch\" lang=\"ru\" hreflang=\"ru\" class=\"interlanguage-link-target\">Русский</a></li><li class=\"interlanguage-link interwiki-scn\"><a href=\"https://scn.wikipedia.org/wiki/Nobuo_Uematsu\" title=\"Nobuo Uematsu – Sizilianisch\" lang=\"scn\" hreflang=\"scn\" class=\"interlanguage-link-target\">Sicilianu</a></li><li class=\"interlanguage-link interwiki-simple\"><a href=\"https://simple.wikipedia.org/wiki/Nobuo_Uematsu\" title=\"Nobuo Uematsu – einfaches Englisch\" lang=\"en-simple\" hreflang=\"en-simple\" class=\"interlanguage-link-target\">Simple English</a></li><li class=\"interlanguage-link interwiki-sv\"><a href=\"https://sv.wikipedia.org/wiki/Nobuo_Uematsu\" title=\"Nobuo Uematsu – Schwedisch\" lang=\"sv\" hreflang=\"sv\" class=\"interlanguage-link-target\">Svenska</a></li><li class=\"interlanguage-link interwiki-th\"><a href=\"https://th.wikipedia.org/wiki/%E0%B9%82%E0%B8%99%E0%B8%9A%E0%B8%B9%E0%B9%82%E0%B8%AD%E0%B8%B0_%E0%B8%AD%E0%B8%B9%E0%B9%80%E0%B8%AD%E0%B8%A1%E0%B8%B1%E0%B8%95%E0%B8%AA%E0%B8%B6\" title=\"โนบูโอะ อูเอมัตสึ – Thailändisch\" lang=\"th\" hreflang=\"th\" class=\"interlanguage-link-target\">ไทย</a></li><li class=\"interlanguage-link interwiki-vi\"><a href=\"https://vi.wikipedia.org/wiki/Uematsu_Nobuo\" title=\"Uematsu Nobuo – Vietnamesisch\" lang=\"vi\" hreflang=\"vi\" class=\"interlanguage-link-target\">Tiếng Việt</a></li><li class=\"interlanguage-link interwiki-zh\"><a href=\"https://zh.wikipedia.org/wiki/%E6%A4%8D%E6%9D%BE%E4%BC%B8%E5%A4%AB\" title=\"植松伸夫 – Chinesisch\" lang=\"zh\" hreflang=\"zh\" class=\"interlanguage-link-target\">中文</a></li></ul>\\n\\t\\t\\t<div class=\"after-portlet after-portlet-lang\"><span class=\"wb-langlinks-edit wb-langlinks-link\"><a href=\"https://www.wikidata.org/wiki/Special:EntityPage/Q312327#sitelinks-wikipedia\" title=\"Links auf Artikel in anderen Sprachen bearbeiten\" class=\"wbc-editpage\">Links bearbeiten</a></span></div>\\n\\t\\t</div>\\n\\t</div>\\n\\t\\n</div>\\n\\n</div>\\n\\n\\n<div id=\"footer\" role=\"contentinfo\" >\\n\\t<ul id=\"footer-info\" class=\"\">\\n\\t\\t<li id=\"footer-info-lastmod\"> Diese Seite wurde zuletzt am 18. November 2019 um 21:56 Uhr bearbeitet.</li>\\n\\t\\t<li id=\"footer-info-copyright\"><div id=\"footer-info-copyright-stats\" class=\"noprint\"><a class=\"external\" href=\"https://tools.wmflabs.org/pageviews?pages=Nobuo_Uematsu&amp;project=de.wikipedia.org\" rel=\"nofollow\">Abrufstatistik</a>\\xa0· <a class=\"external\" href=\" https://xtools.wmflabs.org/articleinfo-authorship/de.wikipedia.org/Nobuo_Uematsu?uselang=de\" rel=\"nofollow\">Autoren</a> </div><div id=\"footer-info-copyright-separator\"><br /></div><div id=\"footer-info-copyright-info\">\\nDer Text ist unter der Lizenz <a class=\"internal\" href=\"https://de.wikipedia.org/wiki/Wikipedia:Lizenzbestimmungen_Commons_Attribution-ShareAlike_3.0_Unported\">„Creative Commons Attribution/Share Alike“</a> verfügbar; Informationen zu den Urhebern und zum Lizenzstatus eingebundener Mediendateien (etwa Bilder oder Videos) können im Regelfall durch Anklicken dieser abgerufen werden. Möglicherweise unterliegen die Inhalte jeweils zusätzlichen Bedingungen. Durch die Nutzung dieser Website erklären Sie sich mit den <a class=\"internal\" href=\"https://foundation.wikimedia.org/wiki/Terms_of_Use/de\">Nutzungsbedingungen</a> und der <a class=\"internal\" href=\"https://meta.wikimedia.org/wiki/Privacy_policy/de\">Datenschutzrichtlinie</a> einverstanden.<br />\\nWikipedia® ist eine eingetragene Marke der Wikimedia Foundation Inc.</div></li>\\n\\t</ul>\\n\\t<ul id=\"footer-places\" class=\"\">\\n\\t\\t<li id=\"footer-places-privacy\"><a href=\"https://meta.wikimedia.org/wiki/Privacy_policy/de\" class=\"extiw\" title=\"m:Privacy policy/de\">Datenschutz</a></li>\\n\\t\\t<li id=\"footer-places-about\"><a href=\"/wiki/Wikipedia:%C3%9Cber_Wikipedia\" title=\"Wikipedia:Über Wikipedia\">Über Wikipedia</a></li>\\n\\t\\t<li id=\"footer-places-disclaimer\"><a href=\"/wiki/Wikipedia:Impressum\" title=\"Wikipedia:Impressum\">Impressum</a></li>\\n\\t\\t<li id=\"footer-places-developers\"><a href=\"https://www.mediawiki.org/wiki/Special:MyLanguage/How_to_contribute\">Entwickler</a></li>\\n\\t\\t<li id=\"footer-places-statslink\"><a href=\"https://stats.wikimedia.org/#/de.wikipedia.org\">Statistiken</a></li>\\n\\t\\t<li id=\"footer-places-cookiestatement\"><a href=\"https://foundation.wikimedia.org/wiki/Cookie_statement\">Stellungnahme zu Cookies</a></li>\\n\\t\\t<li id=\"footer-places-mobileview\"><a href=\"//de.m.wikipedia.org/w/index.php?title=Nobuo_Uematsu&amp;mobileaction=toggle_view_mobile\" class=\"noprint stopMobileRedirectToggle\">Mobile Ansicht</a></li>\\n\\t</ul>\\n\\t<ul id=\"footer-icons\" class=\"noprint\">\\n\\t\\t<li id=\"footer-copyrightico\"><a href=\"https://wikimediafoundation.org/\"><img src=\"/static/images/wikimedia-button.png\" srcset=\"/static/images/wikimedia-button-1.5x.png 1.5x, /static/images/wikimedia-button-2x.png 2x\" width=\"88\" height=\"31\" alt=\"Wikimedia Foundation\"/></a></li>\\n\\t\\t<li id=\"footer-poweredbyico\"><a href=\"https://www.mediawiki.org/\"><img src=\"/static/images/poweredby_mediawiki_88x31.png\" alt=\"Powered by MediaWiki\" srcset=\"/static/images/poweredby_mediawiki_132x47.png 1.5x, /static/images/poweredby_mediawiki_176x62.png 2x\" width=\"88\" height=\"31\"/></a></li>\\n\\t</ul>\\n\\t<div style=\"clear: both;\"></div>\\n</div>\\n\\n\\n<script>(RLQ=window.RLQ||[]).push(function(){mw.config.set({\"wgPageParseReport\":{\"limitreport\":{\"cputime\":\"0.156\",\"walltime\":\"0.235\",\"ppvisitednodes\":{\"value\":441,\"limit\":1000000},\"postexpandincludesize\":{\"value\":3881,\"limit\":2097152},\"templateargumentsize\":{\"value\":556,\"limit\":2097152},\"expansiondepth\":{\"value\":7,\"limit\":40},\"expensivefunctioncount\":{\"value\":8,\"limit\":500},\"unstrip-depth\":{\"value\":0,\"limit\":20},\"unstrip-size\":{\"value\":468,\"limit\":5000000},\"entityaccesscount\":{\"value\":1,\"limit\":400},\"timingprofile\":[\"100.00%  201.056      1 -total\",\" 52.22%  104.995      1 Vorlage:Lang\",\" 30.21%   60.738      3 Vorlage:Wikidata-Registrierung\",\" 29.32%   58.956      1 Vorlage:Commonscat\",\"  9.51%   19.127      1 Vorlage:Normdaten\",\"  4.20%    8.445      1 Vorlage:Personendaten\"]},\"scribunto\":{\"limitreport-timeusage\":{\"value\":\"0.091\",\"limit\":\"10.000\"},\"limitreport-memusage\":{\"value\":2832432,\"limit\":52428800}},\"cachereport\":{\"origin\":\"mw1365\",\"timestamp\":\"20200316223858\",\"ttl\":2592000,\"transientcontent\":false}}});});</script>\\n<script type=\"application/ld+json\">{\"@context\":\"https:\\\\/\\\\/schema.org\",\"@type\":\"Article\",\"name\":\"Nobuo Uematsu\",\"url\":\"https:\\\\/\\\\/de.wikipedia.org\\\\/wiki\\\\/Nobuo_Uematsu\",\"sameAs\":\"http:\\\\/\\\\/www.wikidata.org\\\\/entity\\\\/Q312327\",\"mainEntity\":\"http:\\\\/\\\\/www.wikidata.org\\\\/entity\\\\/Q312327\",\"author\":{\"@type\":\"Organization\",\"name\":\"Autoren der Wikimedia-Projekte\"},\"publisher\":{\"@type\":\"Organization\",\"name\":\"Wikimedia Foundation, Inc.\",\"logo\":{\"@type\":\"ImageObject\",\"url\":\"https:\\\\/\\\\/www.wikimedia.org\\\\/static\\\\/images\\\\/wmf-hor-googpub.png\"}},\"datePublished\":\"2004-07-30T11:19:53Z\",\"image\":\"https:\\\\/\\\\/upload.wikimedia.org\\\\/wikipedia\\\\/de\\\\/8\\\\/8c\\\\/Nobuo_uematsu_001.jpg\",\"headline\":\"japanischer Computerspielkomponist\"}</script>\\n<script>(RLQ=window.RLQ||[]).push(function(){mw.config.set({\"wgBackendResponseTime\":133,\"wgHostname\":\"mw1369\"});});</script></body></html>\\n'"
      ]
     },
     "execution_count": 2,
     "metadata": {},
     "output_type": "execute_result"
    }
   ],
   "source": [
    "import requests\n",
    "webObject = requests.get(\"https://de.wikipedia.org/wiki/Nobuo_Uematsu\")\n",
    "webObject.text"
   ]
  },
  {
   "cell_type": "markdown",
   "metadata": {},
   "source": [
    "As step 0, pick your favorite Wikipedia page, open it in the browser, and then save it as \n",
    "an html file. Now open it in the browser as well as in a text editor and look at the \n",
    "difference. "
   ]
  },
  {
   "cell_type": "markdown",
   "metadata": {},
   "source": [
    "Using the requests library you can retrieve the html source of the page, in a response object (using requests.get(“url”)). The response object you received has content that you can access calling the .text function on it.\n",
    "\n",
    "Call text and save the result in a file, then open the file in a browser and check whether you successfully saved the page. Note, you will only be able to open the file in the browser if you give it an html extension."
   ]
  },
  {
   "cell_type": "markdown",
   "metadata": {},
   "source": [
    "### 1) Basic web crawling\n",
    "\n",
    "URLs have specific formats, for example any Wikipedia page will be of the format https://en.wikipedia.org/wiki/Pythonidae where the last word is the topic of the article.\n",
    "Next, we want to automate this saving process using the requests library and making automated requests to Wikipedia.\n",
    "\n",
    "Exercise: Pick 5 different words, and write code that loops through these words, and retrieves the html content for each associated wikipedia page, and saves the html text as wiki_htmls/[word].html files. (Choose words that actually have associated wiki pages). \n"
   ]
  },
  {
   "cell_type": "code",
   "execution_count": 3,
   "metadata": {
    "pycharm": {
     "is_executing": false,
     "name": "#%%\n"
    }
   },
   "outputs": [],
   "source": [
    "### your code here\n",
    "import io\n",
    "### your code here\n",
    "list = [\"Billy_Idol\",\"Stephen_King\",\"Ayahuasca\",\"Hermann_Hesse\",\"Loch_Lomond\" ]\n",
    "for i in list:\n",
    "    link = \"https://de.wikipedia.org/wiki/\" + i\n",
    "    r = requests.get(link)\n",
    "    Html_file = io.open(\"wiki_htmls_\" + i + \".html\", \"w\", encoding=\"utf-8\")\n",
    "    Html_file.write(r.text)\n",
    "    Html_file.close()\n",
    "\n"
   ]
  },
  {
   "cell_type": "markdown",
   "metadata": {},
   "source": [
    "### 2) URL formats\n",
    "\n",
    "What is the common URL in the case of Google searches? And in the case of Yelp? \n",
    "\n"
   ]
  },
  {
   "cell_type": "markdown",
   "metadata": {
    "pycharm": {
     "is_executing": false,
     "name": "#%% md\n"
    }
   },
   "source": [
    "Google: https://www.google.ch/search?     Yelp: https://de.yelp.ch/search?find_desc=\n"
   ]
  },
  {
   "cell_type": "markdown",
   "metadata": {},
   "source": [
    "And what happens to the URL if you want to define the location as well as the type of venue you are looking for?"
   ]
  },
  {
   "cell_type": "markdown",
   "metadata": {
    "pycharm": {
     "is_executing": false,
     "name": "#%% md\n"
    }
   },
   "source": [
    "If I change the location, then the link gets updated with the addition of \"&find_loc=XXXX\", where XXXX is the chosen destination. The type of venue is defined with the link description of \"...find_desc=XXXX\", where XXXX is the user input venue \n"
   ]
  },
  {
   "cell_type": "markdown",
   "metadata": {},
   "source": [
    "Can you find more search parameters for either of the two pages that you can define via the URLs? What do they mean?"
   ]
  },
  {
   "cell_type": "markdown",
   "metadata": {
    "pycharm": {
     "is_executing": false,
     "name": "#%% md\n"
    }
   },
   "source": [
    "Yelp: For example the price range: attrs=RestaurantsPriceRange2.2; which lets me define a price range or open_now=4130; which appears if I am\n",
    "        looking for venues that are open at the moment of searching.\n",
    "        Google: TO DO\n"
   ]
  },
  {
   "cell_type": "markdown",
   "metadata": {},
   "source": [
    "### 3) And now let's work with the HTML content"
   ]
  },
  {
   "cell_type": "code",
   "execution_count": 22,
   "metadata": {
    "pycharm": {
     "is_executing": false,
     "name": "#%%\n"
    }
   },
   "outputs": [],
   "source": [
    "import requests\n",
    "res = requests.get(\"http://dataquestio.github.io/web-scraping-pages/ids_and_classes.html\")"
   ]
  },
  {
   "cell_type": "markdown",
   "metadata": {},
   "source": [
    "Using the BeautifulSoup parser library we will parse the webpage that you just saved. "
   ]
  },
  {
   "cell_type": "code",
   "execution_count": 23,
   "metadata": {
    "pycharm": {
     "is_executing": false,
     "name": "#%%\n"
    }
   },
   "outputs": [],
   "source": [
    "# let's import BeautifulSoup, our parser library\n",
    "# And make a soup object out of the html of the page\n",
    "\n",
    "# in case bs4 throws error try\n",
    "# !pip install --upgrade html5lib==1.0b8\n",
    "\n",
    "from bs4 import BeautifulSoup\n",
    "soup = BeautifulSoup(res.content, 'html.parser')"
   ]
  },
  {
   "cell_type": "code",
   "execution_count": 24,
   "metadata": {
    "pycharm": {
     "is_executing": false,
     "name": "#%%\n"
    }
   },
   "outputs": [
    {
     "name": "stdout",
     "output_type": "stream",
     "text": [
      "<html>\n",
      " <head>\n",
      "  <title>\n",
      "   A simple example page\n",
      "  </title>\n",
      " </head>\n",
      " <body>\n",
      "  <div>\n",
      "   <p class=\"inner-text first-item\" id=\"first\">\n",
      "    First paragraph.\n",
      "   </p>\n",
      "   <p class=\"inner-text\">\n",
      "    Second paragraph.\n",
      "   </p>\n",
      "  </div>\n",
      "  <p class=\"outer-text first-item\" id=\"second\">\n",
      "   <b>\n",
      "    First outer paragraph.\n",
      "   </b>\n",
      "  </p>\n",
      "  <p class=\"outer-text\">\n",
      "   <b>\n",
      "    Second outer paragraph.\n",
      "   </b>\n",
      "  </p>\n",
      " </body>\n",
      "</html>\n"
     ]
    }
   ],
   "source": [
    "# print a nice version using prettify\n",
    "print(soup.prettify())"
   ]
  },
  {
   "cell_type": "markdown",
   "metadata": {},
   "source": [
    "Here's how we can find all instances of a tag at once: Try to predict what the following command will return: `soup.find_all('p')` and then call it to check if you were right. "
   ]
  },
  {
   "cell_type": "code",
   "execution_count": 25,
   "metadata": {
    "pycharm": {
     "is_executing": false,
     "name": "#%%\n"
    }
   },
   "outputs": [
    {
     "data": {
      "text/plain": [
       "[<p class=\"inner-text first-item\" id=\"first\">\n",
       "                 First paragraph.\n",
       "             </p>,\n",
       " <p class=\"inner-text\">\n",
       "                 Second paragraph.\n",
       "             </p>,\n",
       " <p class=\"outer-text first-item\" id=\"second\">\n",
       " <b>\n",
       "                 First outer paragraph.\n",
       "             </b>\n",
       " </p>,\n",
       " <p class=\"outer-text\">\n",
       " <b>\n",
       "                 Second outer paragraph.\n",
       "             </b>\n",
       " </p>]"
      ]
     },
     "execution_count": 25,
     "metadata": {},
     "output_type": "execute_result"
    }
   ],
   "source": [
    "soup.find_all('p')"
   ]
  },
  {
   "cell_type": "markdown",
   "metadata": {},
   "source": [
    "Print out the second element of this list."
   ]
  },
  {
   "cell_type": "code",
   "execution_count": 26,
   "metadata": {
    "pycharm": {
     "is_executing": false,
     "name": "#%%\n"
    }
   },
   "outputs": [
    {
     "data": {
      "text/plain": [
       "<p class=\"inner-text\">\n",
       "                Second paragraph.\n",
       "            </p>"
      ]
     },
     "execution_count": 26,
     "metadata": {},
     "output_type": "execute_result"
    }
   ],
   "source": [
    "soup.find_all('p')[1]"
   ]
  },
  {
   "cell_type": "markdown",
   "metadata": {},
   "source": [
    "Print out the text inside the second element of the list, using the .text on the element."
   ]
  },
  {
   "cell_type": "code",
   "execution_count": 27,
   "metadata": {
    "pycharm": {
     "is_executing": false,
     "name": "#%%\n"
    }
   },
   "outputs": [
    {
     "data": {
      "text/plain": [
       "'\\n                Second paragraph.\\n            '"
      ]
     },
     "execution_count": 27,
     "metadata": {},
     "output_type": "execute_result"
    }
   ],
   "source": [
    "soup.find_all('p')[1].text"
   ]
  },
  {
   "cell_type": "markdown",
   "metadata": {},
   "source": [
    "When you try to find a specific element on a page you can reach it by finding classes or IDs of the elements."
   ]
  },
  {
   "cell_type": "code",
   "execution_count": 28,
   "metadata": {
    "pycharm": {
     "is_executing": false,
     "name": "#%%\n"
    }
   },
   "outputs": [
    {
     "data": {
      "text/plain": [
       "[<p class=\"outer-text first-item\" id=\"second\">\n",
       " <b>\n",
       "                 First outer paragraph.\n",
       "             </b>\n",
       " </p>,\n",
       " <p class=\"outer-text\">\n",
       " <b>\n",
       "                 Second outer paragraph.\n",
       "             </b>\n",
       " </p>]"
      ]
     },
     "execution_count": 28,
     "metadata": {},
     "output_type": "execute_result"
    }
   ],
   "source": [
    "soup.find_all('p', class_='outer-text')"
   ]
  },
  {
   "cell_type": "markdown",
   "metadata": {},
   "source": [
    "How many elements would it return for 'inner_class'? Guess, and check your guess by using the find_all command"
   ]
  },
  {
   "cell_type": "code",
   "execution_count": 29,
   "metadata": {
    "pycharm": {
     "is_executing": false,
     "name": "#%%\n"
    }
   },
   "outputs": [
    {
     "data": {
      "text/plain": [
       "[<p class=\"inner-text first-item\" id=\"first\">\n",
       "                 First paragraph.\n",
       "             </p>,\n",
       " <p class=\"inner-text\">\n",
       "                 Second paragraph.\n",
       "             </p>]"
      ]
     },
     "execution_count": 29,
     "metadata": {},
     "output_type": "execute_result"
    }
   ],
   "source": [
    "#TODO Unsure\n",
    "soup.find_all('p', class_='inner-text')\n"
   ]
  },
  {
   "cell_type": "markdown",
   "metadata": {},
   "source": [
    "### 4) Finding elements in the browser\n",
    "Since every web page is different and html can get very large and messy, the easiest way to find elements that you are interested in is to start from the browser window. So next we will quickly look at how to find elements using the developer tools in your browser. Open the following webpage in your browser (preferably Chrome): http://forecast.weather.gov/MapClick.php?lat=21.3049&lon=-157.8579#.Wkwh8VQ-fVo \n",
    "\n",
    "Find the developer tools in your browser. (In Chrome, it's view --> developer --> developer tools or Control+Shift+C on Windows and Command+Shift+C on Mac) You should end up with a panel at the bottom or the right side of the browser like what you see below. Make sure the Elements panel is highlighted:"
   ]
  },
  {
   "cell_type": "code",
   "execution_count": null,
   "metadata": {
    "pycharm": {
     "is_executing": true,
     "name": "#%%\n"
    }
   },
   "outputs": [],
   "source": [
    "res = requests.get(\"http://forecast.weather.gov/MapClick.php?lat=21.3049&lon=-157.8579\")\n",
    "soup = BeautifulSoup(res.content, 'html.parser')"
   ]
  },
  {
   "cell_type": "markdown",
   "metadata": {},
   "source": [
    "When trying to find a specific element, you can right click on it on the page and select \"inspect\". This will also open up the developer tools window. For example if we want to extract the current temperature value:\n",
    "\n",
    "<img src=\"inspect.png\">\n",
    "\n",
    "<img src=\"inspect_class.png\">\n",
    "\n",
    "<br><br>\n",
    "1. Using the find function, extract and print out the current temperature from the page. \n",
    "2. Do the same with the value in Celsius. "
   ]
  },
  {
   "cell_type": "code",
   "execution_count": null,
   "metadata": {
    "pycharm": {
     "is_executing": true,
     "name": "#%%\n"
    }
   },
   "outputs": [],
   "source": [
    "### Fill out and print a full sentence describing the temperature in F and C. \n",
    "temp_F = 70 #<p class=\"myforecast-current-lrg\">70°F</p> == $0\n",
    "print(\"The current temp (Fahrenheit) is: {}\".format(soup.find(class_=\"myforecast-current-lrg\").get_text()))\n",
    "temp_C = 21 #<p class=\"myforecast-current-sm\">21°C</p> == $0\n",
    "print(\"The current temp (Celsius) is: {}\".format(soup.find(class_=\"myforecast-current-sm\").get_text()))\n"
   ]
  },
  {
   "cell_type": "markdown",
   "metadata": {},
   "source": [
    "3. In this exercise we will extract each day's forecast from the 7 day extended forecast on the weather report page. <br>\n",
    "    a. Find the container for the seven day forecast on the weather page we just downloaded. <br>\n",
    "    b. Make a list with all forecast items (overnight, Wednesday, Wednesday night, etc) <br>\n",
    "    c. For each time period, print out the name of the period, the short description of the expected weather conditions, and the temperature. "
   ]
  },
  {
   "cell_type": "code",
   "execution_count": null,
   "metadata": {
    "pycharm": {
     "is_executing": true,
     "name": "#%%\n"
    }
   },
   "outputs": [],
   "source": [
    "# For each time period print out something like: \n",
    "# Overnight the weather will be mostly clear and breezy and the temperature will be 65F.   \n",
    "# For each time period print out something like: \n",
    "# Overnight the weather will be mostly clear and breezy and the temperature will be 65F.  \n",
    "#print(soup.find_all(class_=\"tombstone-container\"))\n",
    "tombstones = soup.find_all(class_=\"tombstone-container\")\n",
    "for day in tombstones:\n",
    "    try:\n",
    "        temp = day.find(class_=\"temp\").get_text()\n",
    "        print(day.find('p').get_text() + \" there will be \" + day.find(class_=\"short-desc\").get_text() + \" and the temperature will be at a \" + temp)\n",
    "    except AttributeError:\n",
    "        pass\n"
   ]
  },
  {
   "cell_type": "markdown",
   "metadata": {},
   "source": [
    "4. Take a list of jobs (e.g.['teacher', 'lawyer', 'data-scientist']). For each job save the html of the result of searching it on indeed. The url of a result page looks like: https://www.indeed.com/q-data-scientist-jobs.html. \n",
    "<br>\n",
    "For each job find the names of the companies from the first result page.  Make a dictionary where the keys are the jobs and value is a list of the company names. "
   ]
  },
  {
   "cell_type": "code",
   "execution_count": null,
   "metadata": {
    "pycharm": {
     "is_executing": true,
     "name": "#%%\n"
    }
   },
   "outputs": [],
   "source": [
    "# your code here\n",
    "# your code here\n",
    "jobNames = [\"insurance\",\"cashier\",\"retail\"]\n",
    "soupList = []\n",
    "jobDict = {}\n",
    "for job in jobNames:\n",
    "    res = requests.get(\"https://www.indeed.com/jobs?q=\" + job + \"&l=\")\n",
    "    soup = BeautifulSoup(res.content, 'html.parser').find_all(class_=\"company\")\n",
    "    soupList.append(soup)\n",
    "    jobList = []\n",
    "    for i in soup:\n",
    "        jobList.append(str(i.get_text()).replace('\\n', ''))\n",
    "    jobDict[job] = jobList\n",
    "     \n",
    "print(jobDict)"
   ]
  },
  {
   "cell_type": "markdown",
   "metadata": {},
   "source": [
    "5. Next, we will do a 2 step crawling exercise. First, request the page for one chosen job category. Then make a list of the links to all specific job ads on that page. In a second step, crawl and save the content to all of these links. Name the folders and files in a meaningful way that helps you identify them later."
   ]
  },
  {
   "cell_type": "code",
   "execution_count": null,
   "metadata": {
    "pycharm": {
     "is_executing": true
    }
   },
   "outputs": [],
   "source": []
  },
  {
   "cell_type": "code",
   "execution_count": 17,
   "metadata": {
    "pycharm": {
     "is_executing": true
    }
   },
   "outputs": [],
   "source": [
    "import os\n",
    "jobname = \"insurance\"\n",
    "linklist = []\n",
    "os.makedirs(\"./\" + jobname + \"_jobs\", exist_ok=True)\n",
    "res = requests.get(\"https://www.indeed.com/jobs?q=\" + jobname + \"&l=\")\n",
    "soup = BeautifulSoup(res.content, 'html.parser').find_all(class_=\"jobtitle turnstileLink\")\n",
    "for tag in soup:\n",
    "    linklist.append(tag[\"href\"])\n",
    "for link in linklist:\n",
    "    res = requests.get(\"https://www.indeed.com\" + link)\n",
    "    Html_file = io.open(jobname + \"_jobs/\"+ BeautifulSoup(res.content, 'html.parser').find(class_=\"icl-u-xs-mb--xs icl-u-xs-mt--none jobsearch-JobInfoHeader-title\").get_text().replace(\"/\", \"\") + \".html\", \"w\", encoding=\"utf-8\")\n",
    "    Html_file.write(res.text)\n",
    "    Html_file.close()"
   ]
  },
  {
   "cell_type": "markdown",
   "metadata": {},
   "source": [
    "### 5) Headers"
   ]
  },
  {
   "cell_type": "markdown",
   "metadata": {},
   "source": [
    "Every request you send has a so called HTTP header (unrelated to the content of the message), for example to communicate the size of the message, the browser from which the request is coming from, or what kind of response it is expecting back in the response. \n",
    "\n",
    "1) Read up on this: What parts does a request contain exactly and what is the purpose of a header? \n",
    "\n",
    "2) Look in the browser: Take a URL and find the request header using the developer tools in your browser. (Hint: you will need to look inside 'network'). \n",
    "\n",
    "3) If you don’t tell python otherwise, it will use a default header when sending requests. What is this default when you use the requests library?\n",
    "\n",
    "4) The requests library allows to specify the headers of your request exactly. Set the header of your request (for the  URL you previously picked) to be the one copied from your browser. \n"
   ]
  },
  {
   "cell_type": "markdown",
   "metadata": {},
   "source": [
    "Your chosen URL: https://wikipedia.ch/\n",
    "\n",
    "Default header of Python requests: 'User-Agent': 'python-requests/2.22.0', \n",
    "                                   'Accept-Encoding': 'gzip, deflate', \n",
    "                                   'Accept': '*/*', \n",
    "                                   'Connection': 'keep-alive'\n",
    "\n",
    "Header in your browser: Sec-Fetch-Dest: document\n",
    "                        Upgrade-Insecure-Requests: 1\n",
    "                        User-Agent: Mozilla/5.0 (Windows NT 10.0; Win64; x64) AppleWebKit/537.36 (KHTML, like Gecko)                                               Chrome/80.0.3987.132 Safari/537.36"
   ]
  },
  {
   "cell_type": "markdown",
   "metadata": {},
   "source": [
    "5) Now compare the response headers for the same URL in the browser, and by calling a function on the response object in your code. What differences do you see? "
   ]
  },
  {
   "cell_type": "markdown",
   "metadata": {},
   "source": [
    "Response header in your browser: Accept-Ranges: bytes\n",
    "                                 Content-Length: 143598\n",
    "                                 Content-Type: text/html; charset=UTF-8\n",
    "                                 Date: Thu, 19 Mar 2020 16:50:57 GMT\n",
    "                                 ETag: \"230ee-597a042db4502\"\n",
    "                                 Last-Modified: Mon, 18 Nov 2019 15:04:15 GMT\n",
    "                                 Server: Apache/2.4.6 (CentOS) OpenSSL/1.0.2k-fips mod_fcgid/2.3.9\n",
    "                                 X-DNS-Prefetch-Control: off\n",
    "\n",
    "Response header in the response in python: 'Date': 'Thu, 19 Mar 2020 17:07:18 GMT', \n",
    "                                           'Server': 'Apache/2.4.6 (CentOS) OpenSSL/1.0.2k-fips mod_fcgid/2.3.9', \n",
    "                                           'Last-Modified': 'Mon, 18 Nov 2019 15:04:15 GMT', \n",
    "                                           'ETag': '\"230ee-597a042db4502\"', \n",
    "                                           'Accept-Ranges': 'bytes', \n",
    "                                           'Content-Length': '143598', \n",
    "                                           'Keep-Alive': 'timeout=5, max=100', \n",
    "                                           'Connection': 'Keep-Alive', \n",
    "                                           'Content-Type': 'text/html; charset=UTF-8'\n",
    "\n",
    "Difference: keep-Alive, X-DNS-Prefetch-Control, Connection"
   ]
  },
  {
   "cell_type": "code",
   "execution_count": 18,
   "metadata": {
    "pycharm": {
     "is_executing": true,
     "name": "#%%\n"
    }
   },
   "outputs": [
    {
     "name": "stdout",
     "output_type": "stream",
     "text": [
      "Request Headers:\n",
      "{'User-Agent': 'python-requests/2.23.0', 'Accept-Encoding': 'gzip, deflate', 'Accept': '*/*', 'Connection': 'keep-alive'}\n",
      "\n",
      "Response Headers:\n",
      "{'Date': 'Thu, 19 Mar 2020 18:30:53 GMT', 'Server': 'Apache/2.4.6 (CentOS) OpenSSL/1.0.2k-fips mod_fcgid/2.3.9', 'Last-Modified': 'Mon, 18 Nov 2019 15:04:15 GMT', 'ETag': '\"230ee-597a042db4502\"', 'Accept-Ranges': 'bytes', 'Content-Length': '143598', 'Keep-Alive': 'timeout=5, max=100', 'Connection': 'Keep-Alive', 'Content-Type': 'text/html; charset=UTF-8'}\n"
     ]
    }
   ],
   "source": [
    "print(\"Request Headers:\")\n",
    "print(requests.get(\"https://wikipedia.ch/\").request.headers)\n",
    "print()\n",
    "print(\"Response Headers:\")\n",
    "print(requests.get(\"https://wikipedia.ch/\").headers)"
   ]
  },
  {
   "cell_type": "markdown",
   "metadata": {},
   "source": [
    "Congratulations for completing the first notebook! Now it’s time for feedback.\n",
    "1.\tPass your solution to the other pair in your group.\n",
    "2.\tInclude your feedback in the other pair’s notebook. Don’t forget to add your names at the top.\n",
    "3.\tReturn the notebook with feedback to the original pairs.\n",
    "4.\tUpload your notebook, with the feedback included by the other pair on OLAT."
   ]
  },
  {
   "cell_type": "markdown",
   "metadata": {},
   "source": [
    "You can think of/suggest (among other things)\n",
    " - improvements in the code (e.g. readability, efficiency)\n",
    " - improvements in the answers (e.g. are they easy to understand, are they correct, how can they be improved?)\n",
    " - point out differences (e.g. are there any differences between the responses of the two pairs? if yes what are they, what is the cause, and in which way can they be useful?)\n",
    " \n",
    "In this specific notebook the questions to focus on for feedback are: 1, 2, 4 and 5. 3 was just an intro to parsing so no need to analyze in detail. Not all suggestions about the type of feedback apply to all types of questions, try to "
   ]
  },
  {
   "cell_type": "code",
   "execution_count": null,
   "metadata": {
    "pycharm": {
     "is_executing": true,
     "name": "#%%\n"
    }
   },
   "outputs": [],
   "source": [
    "# Below there is space for giving feedback. This space should be used only by the other pair in your group.\n",
    "\n",
    "'''\n",
    "Feedback here\n",
    "'''\n",
    "\n"
   ]
  }
 ],
 "metadata": {
  "kernelspec": {
   "display_name": "Python 3",
   "language": "python",
   "name": "python3"
  },
  "pycharm": {
   "stem_cell": {
    "cell_type": "raw",
    "metadata": {
     "collapsed": false
    },
    "source": []
   }
  }
 },
 "nbformat": 4,
 "nbformat_minor": 1
}
