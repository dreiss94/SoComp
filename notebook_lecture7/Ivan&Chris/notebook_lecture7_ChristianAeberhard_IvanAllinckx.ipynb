{
 "cells": [
  {
   "cell_type": "markdown",
   "metadata": {},
   "source": [
    "\n",
    "# Using APIs"
   ]
  },
  {
   "cell_type": "code",
   "execution_count": 1,
   "metadata": {
    "pycharm": {
     "is_executing": false
    }
   },
   "outputs": [],
   "source": [
    "# Please inlcude your names below\n",
    "# Also, please edit the name of the file and include the names of the two(or three) people answering\n",
    "\n",
    "# Pair answering the assignment: Christian Aeberhard, Ivan Allinckx\n",
    "# Pair giving feedback: David Stalder, Daniel Reiss"
   ]
  },
  {
   "cell_type": "code",
   "execution_count": 2,
   "metadata": {
    "pycharm": {
     "is_executing": false
    }
   },
   "outputs": [],
   "source": [
    "import requests\n",
    "import json\n",
    "import os"
   ]
  },
  {
   "cell_type": "markdown",
   "metadata": {},
   "source": [
    "## 1. Google books\n",
    "### Setting the request URL parameters\n",
    "You can set the parameters of the API request according to the documentation below. The first part of the request is always the same, and the \"q\" which stands for question will take various parameters. <br>\n",
    "More documentation can be found at: https://developers.google.com/books/docs/v1/using?hl=vi#ids\n",
    "\n",
    "<img src=\"parameters.png\" width=80%> </img>"
   ]
  },
  {
   "cell_type": "markdown",
   "metadata": {},
   "source": [
    "**Example**: `https://www.googleapis.com/books/v1/volumes?q=isbn:9780141909882` returns information about the book with the given ISBN number (Everything is illuminated by Jonathan Safran Foer)."
   ]
  },
  {
   "cell_type": "markdown",
   "metadata": {},
   "source": [
    "**Exercise**\n",
    "\n",
    "1. Using the above parameters create the following request URLs!\n",
    "    1. Requesting books that have \"potter\" in the title\n",
    "    2. Requesting books that have \"doyle\" as author\n",
    "    3. With isbn \"1904633684\"\n",
    "    4. With id \"2bGdK8CRKoEC\"\n",
    "    5. Second result page when searching books that has \"detective\" listed in the category list\n",
    "    6. Second result page when searching books that have \"potter in the title but showing 40 results in one page, not 10. \n",
    "<br>\n",
    "\n",
    "Try and see whether they work with `requests.get()`!"
   ]
  },
  {
   "cell_type": "code",
   "execution_count": null,
   "metadata": {
    "pycharm": {
     "is_executing": false
    }
   },
   "outputs": [],
   "source": []
  },
  {
   "cell_type": "code",
   "execution_count": 3,
   "metadata": {
    "pycharm": {
     "is_executing": false
    }
   },
   "outputs": [
    {
     "data": {
      "text/plain": [
       "'{\\n \"kind\": \"books#volumes\",\\n \"totalItems\": 498,\\n \"items\": [\\n  {\\n   \"kind\": \"books#volume\",\\n   \"id\": \"e5XGeVw23O8C\",\\n   \"etag\": \"SA4ej2hpklw\",\\n   \"selfLink\": \"https://www.googleapis.com/books/v1/volumes/e5XGeVw23O8C\",\\n   \"volumeInfo\": {\\n    \"title\": \"Harry Potter - ein Literatur- und Medienereignis im Blickpunkt interdisziplinärer Forschung\",\\n    \"authors\": [\\n     \"Christine Garbe\"\\n    ],\\n    \"publisher\": \"LIT Verlag Münster\",\\n    \"publishedDate\": \"2006\",\\n    \"industryIdentifiers\": [\\n     {\\n      \"type\": \"ISBN_10\",\\n      \"identifier\": \"3825872424\"\\n     },\\n     {\\n      \"type\": \"ISBN_13\",\\n      \"identifier\": \"9783825872427\"\\n     }\\n    ],\\n    \"readingModes\": {\\n     \"text\": false,\\n     \"image\": true\\n    },\\n    \"pageCount\": 326,\\n    \"printType\": \"BOOK\",\\n    \"categories\": [\\n     \"Children\\'s stories, English\"\\n    ],\\n    \"averageRating\": 1.0,\\n    \"ratingsCount\": 1,\\n    \"maturityRating\": \"NOT_MATURE\",\\n    \"allowAnonLogging\": true,\\n    \"contentVersion\": \"2.1.2.0.preview.1\",\\n    \"panelizationSummary\": {\\n     \"containsEpubBubbles\": false,\\n     \"containsImageBubbles\": false\\n    },\\n    \"imageLinks\": {\\n     \"smallThumbnail\": \"http://books.google.com/books/content?id=e5XGeVw23O8C&printsec=frontcover&img=1&zoom=5&edge=curl&source=gbs_api\",\\n     \"thumbnail\": \"http://books.google.com/books/content?id=e5XGeVw23O8C&printsec=frontcover&img=1&zoom=1&edge=curl&source=gbs_api\"\\n    },\\n    \"language\": \"de\",\\n    \"previewLink\": \"http://books.google.ch/books?id=e5XGeVw23O8C&printsec=frontcover&dq=intitle:potter&hl=&cd=1&source=gbs_api\",\\n    \"infoLink\": \"https://play.google.com/store/books/details?id=e5XGeVw23O8C&source=gbs_api\",\\n    \"canonicalVolumeLink\": \"https://play.google.com/store/books/details?id=e5XGeVw23O8C\"\\n   },\\n   \"saleInfo\": {\\n    \"country\": \"CH\",\\n    \"saleability\": \"FOR_SALE\",\\n    \"isEbook\": true,\\n    \"listPrice\": {\\n     \"amount\": 21.47,\\n     \"currencyCode\": \"CHF\"\\n    },\\n    \"retailPrice\": {\\n     \"amount\": 14.6,\\n     \"currencyCode\": \"CHF\"\\n    },\\n    \"buyLink\": \"https://play.google.com/store/books/details?id=e5XGeVw23O8C&rdid=book-e5XGeVw23O8C&rdot=1&source=gbs_api\",\\n    \"offers\": [\\n     {\\n      \"finskyOfferType\": 1,\\n      \"listPrice\": {\\n       \"amountInMicros\": 2.147E7,\\n       \"currencyCode\": \"CHF\"\\n      },\\n      \"retailPrice\": {\\n       \"amountInMicros\": 1.46E7,\\n       \"currencyCode\": \"CHF\"\\n      },\\n      \"giftable\": true\\n     }\\n    ]\\n   },\\n   \"accessInfo\": {\\n    \"country\": \"CH\",\\n    \"viewability\": \"PARTIAL\",\\n    \"embeddable\": true,\\n    \"publicDomain\": false,\\n    \"textToSpeechPermission\": \"ALLOWED\",\\n    \"epub\": {\\n     \"isAvailable\": false\\n    },\\n    \"pdf\": {\\n     \"isAvailable\": true\\n    },\\n    \"webReaderLink\": \"http://play.google.com/books/reader?id=e5XGeVw23O8C&hl=&printsec=frontcover&source=gbs_api\",\\n    \"accessViewStatus\": \"SAMPLE\",\\n    \"quoteSharingAllowed\": false\\n   }\\n  },\\n  {\\n   \"kind\": \"books#volume\",\\n   \"id\": \"ovN4WwnW_BsC\",\\n   \"etag\": \"8Xx3OAalAKg\",\\n   \"selfLink\": \"https://www.googleapis.com/books/v1/volumes/ovN4WwnW_BsC\",\\n   \"volumeInfo\": {\\n    \"title\": \"Die Philosophie bei Harry Potter\",\\n    \"authors\": [\\n     \"Gregory Bassham\"\\n    ],\\n    \"publisher\": \"John Wiley & Sons\",\\n    \"publishedDate\": \"2010\",\\n    \"description\": \"Der große Kampf ist vorbei. Das Gute hat gesiegt und so ist es nun an der Zeit innezuhalten, um einen Blick auf eines der bedeutendsten literarischen Phänomene unserer Zeit zu werfen und zu erkennen welche Magie hinter den unsterblichen Büchern von Joanne K. Rowling steckt. Die Philosophie bei Harry Potter zeigt, dass viel mehr in den mehr als 5000 Seiten und bald 8 Filmen über den kleinen Zauberlehrling steckt, als man mit bloßem Auge beim ersten Lesen erfassen kann. Und daher rührt schließlich auch der große Erfolg der Bücher und Filme, die nicht nur Kinder und Jugendliche sondern Erwachsene gleichermaßen faszinieren. Selbst die Großen Zauberer an den Universitäten befanden Harry Potter, seine Entwicklung und seine Abenteuer würdig, um sich damit zu beschäftigen. Was sie darin fanden, waren große Ideen und Erkenntnisse über alle wichtigen Dinge, die uns das Leben lehrt: Mut, Freundschaft, Gerechtigkeit, Liebe und Ehrgeiz verbinden sich mit der Frage nach Gut und Böse, Freiheit und Tod. So erweist sich Joanne K. Rowling nicht nur als eine großartige Geschichtenerzählerin, sondern beschäftigt sich durchaus mit Konzepten, die unser Leben jeden Tag aufs Neue bestimmen. *Was ist Liebe und warum gilt sie als mächtigster Zauber der Welt? *Was treibt die Mächtigen wie Dumbledore oder Lucius Malfoy an? *Was ist Realität - was Illusion? *Genießen die kleinen Zauberer im Zauberinternat eine gute Erziehung? *Ist es wirklich wie Dumbledore sagt, dass unsere Entscheidungen viel mehr über uns verraten als unsere Fähigkeiten?\",\\n    \"industryIdentifiers\": [\\n     {\\n      \"type\": \"ISBN_13\",\\n      \"identifier\": \"9783527505715\"\\n     },\\n     {\\n      \"type\": \"ISBN_10\",\\n      \"identifier\": \"3527505717\"\\n     }\\n    ],\\n    \"readingModes\": {\\n     \"text\": false,\\n     \"image\": true\\n    },\\n    \"pageCount\": 293,\\n    \"printType\": \"BOOK\",\\n    \"maturityRating\": \"NOT_MATURE\",\\n    \"allowAnonLogging\": false,\\n    \"contentVersion\": \"0.4.4.0.preview.1\",\\n    \"imageLinks\": {\\n     \"smallThumbnail\": \"http://books.google.com/books/content?id=ovN4WwnW_BsC&printsec=frontcover&img=1&zoom=5&edge=curl&source=gbs_api\",\\n     \"thumbnail\": \"http://books.google.com/books/content?id=ovN4WwnW_BsC&printsec=frontcover&img=1&zoom=1&edge=curl&source=gbs_api\"\\n    },\\n    \"language\": \"de\",\\n    \"previewLink\": \"http://books.google.ch/books?id=ovN4WwnW_BsC&printsec=frontcover&dq=intitle:potter&hl=&cd=2&source=gbs_api\",\\n    \"infoLink\": \"http://books.google.ch/books?id=ovN4WwnW_BsC&dq=intitle:potter&hl=&source=gbs_api\",\\n    \"canonicalVolumeLink\": \"https://books.google.com/books/about/Die_Philosophie_bei_Harry_Potter.html?hl=&id=ovN4WwnW_BsC\"\\n   },\\n   \"saleInfo\": {\\n    \"country\": \"CH\",\\n    \"saleability\": \"NOT_FOR_SALE\",\\n    \"isEbook\": false\\n   },\\n   \"accessInfo\": {\\n    \"country\": \"CH\",\\n    \"viewability\": \"PARTIAL\",\\n    \"embeddable\": true,\\n    \"publicDomain\": false,\\n    \"textToSpeechPermission\": \"ALLOWED\",\\n    \"epub\": {\\n     \"isAvailable\": false\\n    },\\n    \"pdf\": {\\n     \"isAvailable\": false\\n    },\\n    \"webReaderLink\": \"http://play.google.com/books/reader?id=ovN4WwnW_BsC&hl=&printsec=frontcover&source=gbs_api\",\\n    \"accessViewStatus\": \"SAMPLE\",\\n    \"quoteSharingAllowed\": false\\n   },\\n   \"searchInfo\": {\\n    \"textSnippet\": \"Die Philosophie bei Harry Potter zeigt, dass viel mehr in den mehr als 5000 Seiten und bald 8 Filmen über den kleinen Zauberlehrling steckt, als man mit bloßem Auge beim ersten Lesen erfassen kann.\"\\n   }\\n  },\\n  {\\n   \"kind\": \"books#volume\",\\n   \"id\": \"B2geae4-FGEC\",\\n   \"etag\": \"Go0eEeBV9Yo\",\\n   \"selfLink\": \"https://www.googleapis.com/books/v1/volumes/B2geae4-FGEC\",\\n   \"volumeInfo\": {\\n    \"title\": \"Faszination \\\\\"Harry Potter\\\\\": Was steckt dahinter?\",\\n    \"authors\": [\\n     \"Detlev Dormeyer\"\\n    ],\\n    \"publisher\": \"LIT Verlag Münster\",\\n    \"publishedDate\": \"2005\",\\n    \"industryIdentifiers\": [\\n     {\\n      \"type\": \"ISBN_10\",\\n      \"identifier\": \"3825876446\"\\n     },\\n     {\\n      \"type\": \"ISBN_13\",\\n      \"identifier\": \"9783825876449\"\\n     }\\n    ],\\n    \"readingModes\": {\\n     \"text\": false,\\n     \"image\": true\\n    },\\n    \"pageCount\": 119,\\n    \"printType\": \"BOOK\",\\n    \"maturityRating\": \"NOT_MATURE\",\\n    \"allowAnonLogging\": false,\\n    \"contentVersion\": \"2.1.5.0.preview.1\",\\n    \"panelizationSummary\": {\\n     \"containsEpubBubbles\": false,\\n     \"containsImageBubbles\": false\\n    },\\n    \"imageLinks\": {\\n     \"smallThumbnail\": \"http://books.google.com/books/content?id=B2geae4-FGEC&printsec=frontcover&img=1&zoom=5&edge=curl&source=gbs_api\",\\n     \"thumbnail\": \"http://books.google.com/books/content?id=B2geae4-FGEC&printsec=frontcover&img=1&zoom=1&edge=curl&source=gbs_api\"\\n    },\\n    \"language\": \"de\",\\n    \"previewLink\": \"http://books.google.ch/books?id=B2geae4-FGEC&printsec=frontcover&dq=intitle:potter&hl=&cd=3&source=gbs_api\",\\n    \"infoLink\": \"http://books.google.ch/books?id=B2geae4-FGEC&dq=intitle:potter&hl=&source=gbs_api\",\\n    \"canonicalVolumeLink\": \"https://books.google.com/books/about/Faszination_Harry_Potter_Was_steckt_dahi.html?hl=&id=B2geae4-FGEC\"\\n   },\\n   \"saleInfo\": {\\n    \"country\": \"CH\",\\n    \"saleability\": \"NOT_FOR_SALE\",\\n    \"isEbook\": false\\n   },\\n   \"accessInfo\": {\\n    \"country\": \"CH\",\\n    \"viewability\": \"PARTIAL\",\\n    \"embeddable\": true,\\n    \"publicDomain\": false,\\n    \"textToSpeechPermission\": \"ALLOWED\",\\n    \"epub\": {\\n     \"isAvailable\": false\\n    },\\n    \"pdf\": {\\n     \"isAvailable\": true\\n    },\\n    \"webReaderLink\": \"http://play.google.com/books/reader?id=B2geae4-FGEC&hl=&printsec=frontcover&source=gbs_api\",\\n    \"accessViewStatus\": \"SAMPLE\",\\n    \"quoteSharingAllowed\": false\\n   }\\n  },\\n  {\\n   \"kind\": \"books#volume\",\\n   \"id\": \"HtIZqdbqcUYC\",\\n   \"etag\": \"jWfyk9aDfME\",\\n   \"selfLink\": \"https://www.googleapis.com/books/v1/volumes/HtIZqdbqcUYC\",\\n   \"volumeInfo\": {\\n    \"title\": \"Harry Potter entzaubert - eine Analyse\",\\n    \"publisher\": \"epubli\",\\n    \"readingModes\": {\\n     \"text\": false,\\n     \"image\": true\\n    },\\n    \"printType\": \"BOOK\",\\n    \"maturityRating\": \"NOT_MATURE\",\\n    \"allowAnonLogging\": false,\\n    \"contentVersion\": \"preview-1.0.0\",\\n    \"imageLinks\": {\\n     \"smallThumbnail\": \"http://books.google.com/books/content?id=HtIZqdbqcUYC&printsec=frontcover&img=1&zoom=5&edge=curl&source=gbs_api\",\\n     \"thumbnail\": \"http://books.google.com/books/content?id=HtIZqdbqcUYC&printsec=frontcover&img=1&zoom=1&edge=curl&source=gbs_api\"\\n    },\\n    \"language\": \"de\",\\n    \"previewLink\": \"http://books.google.ch/books?id=HtIZqdbqcUYC&printsec=frontcover&dq=intitle:potter&hl=&cd=4&source=gbs_api\",\\n    \"infoLink\": \"http://books.google.ch/books?id=HtIZqdbqcUYC&dq=intitle:potter&hl=&source=gbs_api\",\\n    \"canonicalVolumeLink\": \"https://books.google.com/books/about/Harry_Potter_entzaubert_eine_Analyse.html?hl=&id=HtIZqdbqcUYC\"\\n   },\\n   \"saleInfo\": {\\n    \"country\": \"CH\",\\n    \"saleability\": \"NOT_FOR_SALE\",\\n    \"isEbook\": false\\n   },\\n   \"accessInfo\": {\\n    \"country\": \"CH\",\\n    \"viewability\": \"PARTIAL\",\\n    \"embeddable\": true,\\n    \"publicDomain\": false,\\n    \"textToSpeechPermission\": \"ALLOWED\",\\n    \"epub\": {\\n     \"isAvailable\": false\\n    },\\n    \"pdf\": {\\n     \"isAvailable\": false\\n    },\\n    \"webReaderLink\": \"http://play.google.com/books/reader?id=HtIZqdbqcUYC&hl=&printsec=frontcover&source=gbs_api\",\\n    \"accessViewStatus\": \"SAMPLE\",\\n    \"quoteSharingAllowed\": false\\n   }\\n  },\\n  {\\n   \"kind\": \"books#volume\",\\n   \"id\": \"bScqAQAAIAAJ\",\\n   \"etag\": \"VOCVgRp6LiA\",\\n   \"selfLink\": \"https://www.googleapis.com/books/v1/volumes/bScqAQAAIAAJ\",\\n   \"volumeInfo\": {\\n    \"title\": \"Kulturphänomen Harry Potter\",\\n    \"subtitle\": \"Multiadressiertheit und Internationalität eines nationalen Literatur- und Medienevents\",\\n    \"authors\": [\\n     \"Ina Karg\",\\n     \"Iris Mende\"\\n    ],\\n    \"publisher\": \"Vamp;R Unipress Gmbh\",\\n    \"publishedDate\": \"2010-01-21\",\\n    \"description\": \"English summary: The hype about J.K. Rowlings\\' sensationally successful series has since quieted down. From a certain distance, the many aspects of an event like the Harry Potter craze cannot be fully appreciated, but one can pursue the question how it came about that a literary work of several thousand pages was able to find a global readership although the cultural setting of this epic world is more specifically national than almost any other in world literature. A look at the public discourse, particularly around the time the last volume was released, sheds light on conceptions and expectations of literature. Above all, the texts themselves are examined, different readings are sounded out, and links are pursued to really understand the existing phenomena, literary motives, characters, traditions and narrative styles. Harry Potter surpasses all boundaries: those of language, markets, target groups, literary genres and traditions. At the same time, the multifaceted vision which the Harry Potter series necessitates signifies the need for a revision at least of conventional literary studies. German description: Inzwischen ist es um J. K. Rowlings Erfolgsserie vergleichsweise ruhig geworden. Aus einer gewissen Distanz heraus kann ein Ereignis wie Harry Potter zwar nicht in seiner ganzen Vielfalt gewurdigt werden. Jedoch kann der Frage nachgegangen werden, wie ein literarisches Werk von vielen tausend Seiten eine weltweite Leserschaft findet, wo doch der Ort des Geschehens dieser epischen Welt so kulturspezifisch-national ist wie kaum ein anderer in der gesamten Weltliteratur. Der Blick auf den offentlichen Diskurs vor allem bei Erscheinen des letzten Bandes gibt dabei Aufschluss uber die Auffassungen von und Erwartungen an Literatur. Der Blick richtet sich aber vor allem auf die Texte selbst, lotet Lesarten aus und folgt Verweislinien zu real existierenden Erscheinungen, literarischen Motiven, Figuren, Traditionen und Erzahlweisen. Harry Potter uberschreitet alle Grenzen: die der Sprache, des Marktes, der Adressatengruppe, der literarischen Genres und Traditionen. Die vielfaltige Sicht, die die Romanserie erforderlich macht, bedeutet zugleich eine Revision zumindest herkommlicher literaturwissenschaftlicher Arbeit.\",\\n    \"industryIdentifiers\": [\\n     {\\n      \"type\": \"OTHER\",\\n      \"identifier\": \"STANFORD:36105132592622\"\\n     }\\n    ],\\n    \"readingModes\": {\\n     \"text\": false,\\n     \"image\": false\\n    },\\n    \"pageCount\": 258,\\n    \"printType\": \"BOOK\",\\n    \"categories\": [\\n     \"Literary Criticism\"\\n    ],\\n    \"maturityRating\": \"NOT_MATURE\",\\n    \"allowAnonLogging\": false,\\n    \"contentVersion\": \"preview-1.0.0\",\\n    \"imageLinks\": {\\n     \"smallThumbnail\": \"http://books.google.com/books/content?id=bScqAQAAIAAJ&printsec=frontcover&img=1&zoom=5&source=gbs_api\",\\n     \"thumbnail\": \"http://books.google.com/books/content?id=bScqAQAAIAAJ&printsec=frontcover&img=1&zoom=1&source=gbs_api\"\\n    },\\n    \"language\": \"de\",\\n    \"previewLink\": \"http://books.google.ch/books?id=bScqAQAAIAAJ&dq=intitle:potter&hl=&cd=5&source=gbs_api\",\\n    \"infoLink\": \"http://books.google.ch/books?id=bScqAQAAIAAJ&dq=intitle:potter&hl=&source=gbs_api\",\\n    \"canonicalVolumeLink\": \"https://books.google.com/books/about/Kulturph%C3%A4nomen_Harry_Potter.html?hl=&id=bScqAQAAIAAJ\"\\n   },\\n   \"saleInfo\": {\\n    \"country\": \"CH\",\\n    \"saleability\": \"NOT_FOR_SALE\",\\n    \"isEbook\": false\\n   },\\n   \"accessInfo\": {\\n    \"country\": \"CH\",\\n    \"viewability\": \"NO_PAGES\",\\n    \"embeddable\": false,\\n    \"publicDomain\": false,\\n    \"textToSpeechPermission\": \"ALLOWED\",\\n    \"epub\": {\\n     \"isAvailable\": false\\n    },\\n    \"pdf\": {\\n     \"isAvailable\": false\\n    },\\n    \"webReaderLink\": \"http://play.google.com/books/reader?id=bScqAQAAIAAJ&hl=&printsec=frontcover&source=gbs_api\",\\n    \"accessViewStatus\": \"NONE\",\\n    \"quoteSharingAllowed\": false\\n   },\\n   \"searchInfo\": {\\n    \"textSnippet\": \"Above all, the texts themselves are examined, different readings are sounded out, and links are pursued to really understand the existing phenomena, literary motives, characters, traditions and narrative styles.\"\\n   }\\n  },\\n  {\\n   \"kind\": \"books#volume\",\\n   \"id\": \"fLlr5jyoAKkC\",\\n   \"etag\": \"m0wIsseldCM\",\\n   \"selfLink\": \"https://www.googleapis.com/books/v1/volumes/fLlr5jyoAKkC\",\\n   \"volumeInfo\": {\\n    \"title\": \"Märchen-Motive in \\\\\"Harry Potter\\\\\"\",\\n    \"authors\": [\\n     \"Sonja Loidl\"\\n    ],\\n    \"publisher\": \"GRIN Verlag\",\\n    \"publishedDate\": \"2007\",\\n    \"description\": \"Studienarbeit aus dem Jahr 2006 im Fachbereich Deutsch - Gattungen, Note: 1, Universitat Wien (Germanistik), Veranstaltung: Zur Interpretation der Kinder- und Hausmarchen der Bruder Grimm, 32 Quellen im Literaturverzeichnis, Sprache: Deutsch, Anmerkungen: Eine Untersuchung uber die Moglichkeit der Zuordnung von Harry Potter zu den Marchen. Ausserdem werden ausgewahlte Motive (z.B.: Antiheld, Aschenputtel, Elfen, Riesen, dankbare Tote, ...) analysiert., Abstract: In dieser Abhandlung wird die Frage behandelt, ob beziehungsweise inwieweit die Harry-Potter-Reihe in die kinderliterarische Gattung Marchen\\\\\" eingeordnet werden kann. Zu diesem Zweck wird Rowlings Serie mit Definitionen der Gattung von Luthi verglichen. Ausserdem wird nachgewiesen werden, dass die Autorin zahlreiche Marchen-Motive in ihr Werk - mitunter in adaptierter Form - integriert hat. Einen auch nur annahernd vollstandigen Motiv-Index der Harry-Potter-Romane zu erstellen wurde den Rahmen dieser Untersuchung allerdings uberschreiten. Deshalb erfolgt eine Beschrankung auf neun Motive, denen ich drei hinzufuge, die meiner Ansicht nach reine Kreationen der Autorin sind. Fur Zitate und Potter-Begriffe\\\\\" werden die Orginialversionen der Bucher herangezogen werden, da ich aus Grunden, die an dieser Stelle nicht erlautert werden sollen, an der Qualitat der deutschen Ubersetzung zweifele. Gelegentlich werde ich aber deutsche Begriffe - sollten sie stark vom Original abweichen - in Klammer dazusetzen. Die Bezeichnung Romane\\\\\" fur die Harry-Potter-Bucher wird im Rahmen dieser Arbeit im Sinn einer langen, fiktiven Erzahlung in Prosa verwendet. Auch ein paar allgemeine Bemerkungen zum Phanomen, das das Werk darstellt, konnen naturlich nicht ausgespart bleiben. In die vorliegende Untersuchung sind die Bande eins bis inklusive sechs integriert.\\\\\"\",\\n    \"industryIdentifiers\": [\\n     {\\n      \"type\": \"ISBN_13\",\\n      \"identifier\": \"9783638672597\"\\n     },\\n     {\\n      \"type\": \"ISBN_10\",\\n      \"identifier\": \"363867259X\"\\n     }\\n    ],\\n    \"readingModes\": {\\n     \"text\": false,\\n     \"image\": true\\n    },\\n    \"pageCount\": 36,\\n    \"printType\": \"BOOK\",\\n    \"maturityRating\": \"NOT_MATURE\",\\n    \"allowAnonLogging\": false,\\n    \"contentVersion\": \"preview-1.0.0\",\\n    \"panelizationSummary\": {\\n     \"containsEpubBubbles\": false,\\n     \"containsImageBubbles\": false\\n    },\\n    \"imageLinks\": {\\n     \"smallThumbnail\": \"http://books.google.com/books/content?id=fLlr5jyoAKkC&printsec=frontcover&img=1&zoom=5&edge=curl&source=gbs_api\",\\n     \"thumbnail\": \"http://books.google.com/books/content?id=fLlr5jyoAKkC&printsec=frontcover&img=1&zoom=1&edge=curl&source=gbs_api\"\\n    },\\n    \"language\": \"de\",\\n    \"previewLink\": \"http://books.google.ch/books?id=fLlr5jyoAKkC&printsec=frontcover&dq=intitle:potter&hl=&cd=6&source=gbs_api\",\\n    \"infoLink\": \"http://books.google.ch/books?id=fLlr5jyoAKkC&dq=intitle:potter&hl=&source=gbs_api\",\\n    \"canonicalVolumeLink\": \"https://books.google.com/books/about/M%C3%A4rchen_Motive_in_Harry_Potter.html?hl=&id=fLlr5jyoAKkC\"\\n   },\\n   \"saleInfo\": {\\n    \"country\": \"CH\",\\n    \"saleability\": \"NOT_FOR_SALE\",\\n    \"isEbook\": false\\n   },\\n   \"accessInfo\": {\\n    \"country\": \"CH\",\\n    \"viewability\": \"PARTIAL\",\\n    \"embeddable\": true,\\n    \"publicDomain\": false,\\n    \"textToSpeechPermission\": \"ALLOWED\",\\n    \"epub\": {\\n     \"isAvailable\": false\\n    },\\n    \"pdf\": {\\n     \"isAvailable\": false\\n    },\\n    \"webReaderLink\": \"http://play.google.com/books/reader?id=fLlr5jyoAKkC&hl=&printsec=frontcover&source=gbs_api\",\\n    \"accessViewStatus\": \"SAMPLE\",\\n    \"quoteSharingAllowed\": false\\n   },\\n   \"searchInfo\": {\\n    \"textSnippet\": \"Studienarbeit aus dem Jahr 2006 im Fachbereich Deutsch - Gattungen, Note: 1, Universität Wien (Germanistik), Veranstaltung: Zur Interpretation der Kinder- und Hausmärchen der Brüder Grimm, 32 Quellen im Literaturverzeichnis, Sprache: ...\"\\n   }\\n  },\\n  {\\n   \"kind\": \"books#volume\",\\n   \"id\": \"hd8qDwAAQBAJ\",\\n   \"etag\": \"m3H2eocpOfE\",\\n   \"selfLink\": \"https://www.googleapis.com/books/v1/volumes/hd8qDwAAQBAJ\",\\n   \"volumeInfo\": {\\n    \"title\": \"Didaktische Analyse eines Jugendbuchklassikers \\\\\"Harry Potter und der Stein der Weisen\\\\\". Untersuchung auf die Eignung für den Literaturunterricht in der Schule\",\\n    \"authors\": [\\n     \"Julius Graf\"\\n    ],\\n    \"publisher\": \"GRIN Verlag\",\\n    \"publishedDate\": \"2017-07-04\",\\n    \"description\": \"Studienarbeit aus dem Jahr 2015 im Fachbereich Deutsch - Pädagogik, Didaktik, Sprachwissenschaft, Note: 2,3, Universität Regensburg, Sprache: Deutsch, Abstract: Nicht nur in der erschaffenen magischen Welt, in der Harry Potter einzig Überlebende des Todesfluchs und später der Bezwinger des Urbösen Lord Voldemorts ist, gilt er als sehr populär, sondern auch in der realen Welt, in der die Bücher auf Grund ihrer Beliebtheit und ihres Bekanntheitsgrades zu einem Phänomen werden. Es entwickelte sich eine regelrechte „Potter-Manie“, im Zuge derer die Bücher nicht nur begehrt waren bzw. sind, es herrschte sogar bei der Erscheinung eines neuen Bandes ein Ausnahmezustand der seinesgleichen suchte. Buchhandlungen öffneten ihre Türen um Mitternacht, wobei meterlange Schlangen wartender Fans zu beobachten waren, und auch die Deutsche Post lieferte den jeweils neu erscheinenden Band um 24 Uhr aus, damit das Herbeisehnen des neuesten magischen Abenteuers möglichst kurz ausfiel. Und all das begann aufgrund eines Mediums, dessen Rückgang man im Zeitalter des Internets eigentlich zu befürchten hatte. Es stellt sich deshalb zunächst ganz offenkundig die Frage nach den Gründen für derartige Begeisterungswellen, die von einem Buch ausgelöst wurden und natürlich auch in gewisser Weise, ob diese aus fachlicher Sicht gerechtfertigt sind. Des Weiteren soll im Folgenden untersucht werden, ob beim vorliegenden Werk - Harry Potter und der Stein der Weisen - eine Eignung für den Literaturunterricht vorliegt.\",\\n    \"industryIdentifiers\": [\\n     {\\n      \"type\": \"ISBN_13\",\\n      \"identifier\": \"9783668476455\"\\n     },\\n     {\\n      \"type\": \"ISBN_10\",\\n      \"identifier\": \"3668476454\"\\n     }\\n    ],\\n    \"readingModes\": {\\n     \"text\": false,\\n     \"image\": true\\n    },\\n    \"pageCount\": 17,\\n    \"printType\": \"BOOK\",\\n    \"categories\": [\\n     \"Foreign Language Study\"\\n    ],\\n    \"maturityRating\": \"NOT_MATURE\",\\n    \"allowAnonLogging\": false,\\n    \"contentVersion\": \"preview-1.0.0\",\\n    \"panelizationSummary\": {\\n     \"containsEpubBubbles\": false,\\n     \"containsImageBubbles\": false\\n    },\\n    \"imageLinks\": {\\n     \"smallThumbnail\": \"http://books.google.com/books/content?id=hd8qDwAAQBAJ&printsec=frontcover&img=1&zoom=5&edge=curl&source=gbs_api\",\\n     \"thumbnail\": \"http://books.google.com/books/content?id=hd8qDwAAQBAJ&printsec=frontcover&img=1&zoom=1&edge=curl&source=gbs_api\"\\n    },\\n    \"language\": \"de\",\\n    \"previewLink\": \"http://books.google.ch/books?id=hd8qDwAAQBAJ&printsec=frontcover&dq=intitle:potter&hl=&cd=7&source=gbs_api\",\\n    \"infoLink\": \"https://play.google.com/store/books/details?id=hd8qDwAAQBAJ&source=gbs_api\",\\n    \"canonicalVolumeLink\": \"https://play.google.com/store/books/details?id=hd8qDwAAQBAJ\"\\n   },\\n   \"saleInfo\": {\\n    \"country\": \"CH\",\\n    \"saleability\": \"FOR_SALE\",\\n    \"isEbook\": true,\\n    \"listPrice\": {\\n     \"amount\": 14.99,\\n     \"currencyCode\": \"CHF\"\\n    },\\n    \"retailPrice\": {\\n     \"amount\": 10.19,\\n     \"currencyCode\": \"CHF\"\\n    },\\n    \"buyLink\": \"https://play.google.com/store/books/details?id=hd8qDwAAQBAJ&rdid=book-hd8qDwAAQBAJ&rdot=1&source=gbs_api\",\\n    \"offers\": [\\n     {\\n      \"finskyOfferType\": 1,\\n      \"listPrice\": {\\n       \"amountInMicros\": 1.499E7,\\n       \"currencyCode\": \"CHF\"\\n      },\\n      \"retailPrice\": {\\n       \"amountInMicros\": 1.019E7,\\n       \"currencyCode\": \"CHF\"\\n      },\\n      \"giftable\": true\\n     }\\n    ]\\n   },\\n   \"accessInfo\": {\\n    \"country\": \"CH\",\\n    \"viewability\": \"PARTIAL\",\\n    \"embeddable\": true,\\n    \"publicDomain\": false,\\n    \"textToSpeechPermission\": \"ALLOWED\",\\n    \"epub\": {\\n     \"isAvailable\": false\\n    },\\n    \"pdf\": {\\n     \"isAvailable\": true,\\n     \"acsTokenLink\": \"http://books.google.ch/books/download/Didaktische_Analyse_eines_Jugendbuchklas-sample-pdf.acsm?id=hd8qDwAAQBAJ&format=pdf&output=acs4_fulfillment_token&dl_type=sample&source=gbs_api\"\\n    },\\n    \"webReaderLink\": \"http://play.google.com/books/reader?id=hd8qDwAAQBAJ&hl=&printsec=frontcover&source=gbs_api\",\\n    \"accessViewStatus\": \"SAMPLE\",\\n    \"quoteSharingAllowed\": false\\n   },\\n   \"searchInfo\": {\\n    \"textSnippet\": \"Studienarbeit aus dem Jahr 2015 im Fachbereich Deutsch - Pädagogik, Didaktik, Sprachwissenschaft, Note: 2,3, Universität Regensburg, Sprache: Deutsch, Abstract: Nicht nur in der erschaffenen magischen Welt, in der Harry Potter einzig ...\"\\n   }\\n  },\\n  {\\n   \"kind\": \"books#volume\",\\n   \"id\": \"Oe1s6jjPK6UC\",\\n   \"etag\": \"0ZzU6Z0LBn4\",\\n   \"selfLink\": \"https://www.googleapis.com/books/v1/volumes/Oe1s6jjPK6UC\",\\n   \"volumeInfo\": {\\n    \"title\": \"Harry Potter - geretteter Retter im Kampf gegen dunkle Mächte?\",\\n    \"subtitle\": \"religionspädagogischer Blick auf religiöse Implikationen, archaisch-mythologische Motive und supranaturale Elemente\",\\n    \"authors\": [\\n     \"Corinna Cornelius\"\\n    ],\\n    \"publisher\": \"LIT Verlag Münster\",\\n    \"publishedDate\": \"2003\",\\n    \"industryIdentifiers\": [\\n     {\\n      \"type\": \"ISBN_10\",\\n      \"identifier\": \"3825868303\"\\n     },\\n     {\\n      \"type\": \"ISBN_13\",\\n      \"identifier\": \"9783825868307\"\\n     }\\n    ],\\n    \"readingModes\": {\\n     \"text\": false,\\n     \"image\": true\\n    },\\n    \"pageCount\": 108,\\n    \"printType\": \"BOOK\",\\n    \"categories\": [\\n     \"Mythology in literature\"\\n    ],\\n    \"maturityRating\": \"NOT_MATURE\",\\n    \"allowAnonLogging\": false,\\n    \"contentVersion\": \"1.0.3.0.preview.1\",\\n    \"panelizationSummary\": {\\n     \"containsEpubBubbles\": false,\\n     \"containsImageBubbles\": false\\n    },\\n    \"imageLinks\": {\\n     \"smallThumbnail\": \"http://books.google.com/books/content?id=Oe1s6jjPK6UC&printsec=frontcover&img=1&zoom=5&edge=curl&source=gbs_api\",\\n     \"thumbnail\": \"http://books.google.com/books/content?id=Oe1s6jjPK6UC&printsec=frontcover&img=1&zoom=1&edge=curl&source=gbs_api\"\\n    },\\n    \"language\": \"de\",\\n    \"previewLink\": \"http://books.google.ch/books?id=Oe1s6jjPK6UC&printsec=frontcover&dq=intitle:potter&hl=&cd=8&source=gbs_api\",\\n    \"infoLink\": \"https://play.google.com/store/books/details?id=Oe1s6jjPK6UC&source=gbs_api\",\\n    \"canonicalVolumeLink\": \"https://play.google.com/store/books/details?id=Oe1s6jjPK6UC\"\\n   },\\n   \"saleInfo\": {\\n    \"country\": \"CH\",\\n    \"saleability\": \"FOR_SALE\",\\n    \"isEbook\": true,\\n    \"listPrice\": {\\n     \"amount\": 10.68,\\n     \"currencyCode\": \"CHF\"\\n    },\\n    \"retailPrice\": {\\n     \"amount\": 7.26,\\n     \"currencyCode\": \"CHF\"\\n    },\\n    \"buyLink\": \"https://play.google.com/store/books/details?id=Oe1s6jjPK6UC&rdid=book-Oe1s6jjPK6UC&rdot=1&source=gbs_api\",\\n    \"offers\": [\\n     {\\n      \"finskyOfferType\": 1,\\n      \"listPrice\": {\\n       \"amountInMicros\": 1.068E7,\\n       \"currencyCode\": \"CHF\"\\n      },\\n      \"retailPrice\": {\\n       \"amountInMicros\": 7260000.0,\\n       \"currencyCode\": \"CHF\"\\n      },\\n      \"giftable\": true\\n     }\\n    ]\\n   },\\n   \"accessInfo\": {\\n    \"country\": \"CH\",\\n    \"viewability\": \"PARTIAL\",\\n    \"embeddable\": true,\\n    \"publicDomain\": false,\\n    \"textToSpeechPermission\": \"ALLOWED\",\\n    \"epub\": {\\n     \"isAvailable\": false\\n    },\\n    \"pdf\": {\\n     \"isAvailable\": true\\n    },\\n    \"webReaderLink\": \"http://play.google.com/books/reader?id=Oe1s6jjPK6UC&hl=&printsec=frontcover&source=gbs_api\",\\n    \"accessViewStatus\": \"SAMPLE\",\\n    \"quoteSharingAllowed\": false\\n   }\\n  },\\n  {\\n   \"kind\": \"books#volume\",\\n   \"id\": \"9l2zdqmsOboC\",\\n   \"etag\": \"6+pInrxu1f4\",\\n   \"selfLink\": \"https://www.googleapis.com/books/v1/volumes/9l2zdqmsOboC\",\\n   \"volumeInfo\": {\\n    \"title\": \"Zu: J.K. Rowling, HARRY POTTER\",\\n    \"subtitle\": \"Die Vorschriften und der Erziehungsstil in Hogwarts und die besondere Bedeutung von Regelbrüchen in den Bänden 1-4\",\\n    \"authors\": [\\n     \"Bettina Arzt\"\\n    ],\\n    \"publisher\": \"GRIN Verlag\",\\n    \"publishedDate\": \"2007\",\\n    \"description\": \"Studienarbeit aus dem Jahr 2003 im Fachbereich Literaturwissenschaft - Allgemeines, Note: 1,0, Universitat Siegen, Veranstaltung: Moderne Mythen, 16 Quellen im Literaturverzeichnis, Sprache: Deutsch, Abstract: Mit ihren Harry Potter- Buchern ist es Joanne K. Rowling gelungen, in einem Zeitalter der Computerspiele und des Fernsehens Millionen von Kindern wieder fur das Lesen zu begeistern. Bei genauerer Betrachtung der Plots fallt auf, dass trotz der zahlreichen Vorschriften in der Zauberschule Hogwarts,\\\\\" die Harry und seine Freunde besuchen, immer wieder Regeln gebrochen und Abmachungen missachtet werden. Nicht immer ziehen diese Regelbruche Strafen fur die Schuler nach sich. Was also haben diese Regeln von Hogwarts fur eine Funktion? Was ist der Erziehungsstil dieser Schule, der toleriert, dass Schuler fur ihren Ungehorsam nicht unbedingt bestraft werden? Mit diesen Fragen habe ich mich in der folgenden Hausarbeit beschaftigt.\",\\n    \"industryIdentifiers\": [\\n     {\\n      \"type\": \"ISBN_13\",\\n      \"identifier\": \"9783638861083\"\\n     },\\n     {\\n      \"type\": \"ISBN_10\",\\n      \"identifier\": \"3638861082\"\\n     }\\n    ],\\n    \"readingModes\": {\\n     \"text\": false,\\n     \"image\": true\\n    },\\n    \"pageCount\": 64,\\n    \"printType\": \"BOOK\",\\n    \"averageRating\": 4.0,\\n    \"ratingsCount\": 1,\\n    \"maturityRating\": \"NOT_MATURE\",\\n    \"allowAnonLogging\": false,\\n    \"contentVersion\": \"preview-1.0.0\",\\n    \"panelizationSummary\": {\\n     \"containsEpubBubbles\": false,\\n     \"containsImageBubbles\": false\\n    },\\n    \"imageLinks\": {\\n     \"smallThumbnail\": \"http://books.google.com/books/content?id=9l2zdqmsOboC&printsec=frontcover&img=1&zoom=5&edge=curl&source=gbs_api\",\\n     \"thumbnail\": \"http://books.google.com/books/content?id=9l2zdqmsOboC&printsec=frontcover&img=1&zoom=1&edge=curl&source=gbs_api\"\\n    },\\n    \"language\": \"de\",\\n    \"previewLink\": \"http://books.google.ch/books?id=9l2zdqmsOboC&printsec=frontcover&dq=intitle:potter&hl=&cd=9&source=gbs_api\",\\n    \"infoLink\": \"http://books.google.ch/books?id=9l2zdqmsOboC&dq=intitle:potter&hl=&source=gbs_api\",\\n    \"canonicalVolumeLink\": \"https://books.google.com/books/about/Zu_J_K_Rowling_HARRY_POTTER.html?hl=&id=9l2zdqmsOboC\"\\n   },\\n   \"saleInfo\": {\\n    \"country\": \"CH\",\\n    \"saleability\": \"NOT_FOR_SALE\",\\n    \"isEbook\": false\\n   },\\n   \"accessInfo\": {\\n    \"country\": \"CH\",\\n    \"viewability\": \"PARTIAL\",\\n    \"embeddable\": true,\\n    \"publicDomain\": false,\\n    \"textToSpeechPermission\": \"ALLOWED\",\\n    \"epub\": {\\n     \"isAvailable\": false\\n    },\\n    \"pdf\": {\\n     \"isAvailable\": false\\n    },\\n    \"webReaderLink\": \"http://play.google.com/books/reader?id=9l2zdqmsOboC&hl=&printsec=frontcover&source=gbs_api\",\\n    \"accessViewStatus\": \"SAMPLE\",\\n    \"quoteSharingAllowed\": false\\n   },\\n   \"searchInfo\": {\\n    \"textSnippet\": \"Studienarbeit aus dem Jahr 2003 im Fachbereich Literaturwissenschaft - Allgemeines, Note: 1,0, Universität Siegen, Veranstaltung: Moderne Mythen, 16 Quellen im Literaturverzeichnis, Sprache: Deutsch, Abstract: Mit ihren Harry Potter- ...\"\\n   }\\n  },\\n  {\\n   \"kind\": \"books#volume\",\\n   \"id\": \"aRnsAAAAQBAJ\",\\n   \"etag\": \"xmi30Vcg7QI\",\\n   \"selfLink\": \"https://www.googleapis.com/books/v1/volumes/aRnsAAAAQBAJ\",\\n   \"volumeInfo\": {\\n    \"title\": \"Die emotionale Wirkung und Wahrnehmung von Filmmusik in Harry Potter\",\\n    \"authors\": [\\n     \"Nora Klutzny\"\\n    ],\\n    \"publisher\": \"GRIN Verlag\",\\n    \"publishedDate\": \"2013-09-06\",\\n    \"description\": \"Studienarbeit aus dem Jahr 2013 im Fachbereich Musikwissenschaft, Note: 1,5, Leuphana Universität Lüneburg, Sprache: Deutsch, Abstract: Seit Beginn der „bewegten Bilder“ , die die Brüder Lumiere im Jahr 1895 der Öffentlichkeit präsentierten, spielt die Musik zum und im Film eine wichtige Rolle. Die Musik vieler Filmklassiker, als Beispiel seien hier nur „Der dritte Mann“, „Spiel mir das Lied vom Tod“ oder „Titanic“ genannt, haben sich zu berühmten Musikstücken entwickelt und versetzen den Rezipienten, auch ausgekoppelt aus dem Film, in die Stimmung des Filmes zurück. Der Zuschauer kann sich ihrer emotionalen Wirkung kaum entziehen. Aktuell zieht zum Beispiel der Soundtrack von Tarrantinos „Django Unchained“ in die internationalen Musik-Charts ein. Was wäre ein Kinoerlebnis ohne Musik? Immer wieder stelle ich fest, dass mich die Musik im Film geradezu fesselt. Wie häufig bin ich aus dem Kino gegangen und summte plötzlich Melodien vor mich hin, während die Handlung des gerade Gesehenen vor meinem „inneren Auge“ noch einmal abspulte. Dieses Phänomen stellte sich bereits in meiner Kindheit ein. Die Musikstücke vieler Filme, die mich in dieser Zeit begleiteten, wie zum Beispiel die Verfilmung von Astrid Lindgrens „Pippi Langstrumpf“ oder Disneys Trickfilm „König der Löwen“ kann ich bis heute mitsingen. Während die Bilder der Filme verblassten bliebt die Musik sogar im Detail in meinem Gedächtnis gespeichert und erzeugt Emotionen. Als die Romane über das Leben meines Kindheitsheldens „Harry Potter“ von J.K. Rowling verfilmt wurden, unterstützte die Musik die Filme so, dass sich für mich, die nunmehr sichtbar gemachte Fantasiewelt des „Harry Potter“, auch richtig anfühlte. In dieser Hausarbeit möchte ich dieses Phänomen näher betrachten. Welche emotionale Wirkung erzielt die Musik im Film und mit welchen Mitteln wird dies erreicht? Dies möchte ich am Beispiel der Filmmusik für den Film „Harry Potter und der Stein der Weisen“ des Regisseurs Chris Columbus aus dem Jahr 2001 untersuchen. Um mich dem Thema anzunähern gehe ich zunächst auf die die Historie der Filmmusik ein und wende mich dann den Grundlagen ihrer Funktion und der technischen Umsetzung zu. Anschließend betrachte ich, wie sich die Filmmusik auf die Emotionen des Rezipienten auswirkt beispielhaft an dem Sountrack des Films „Harry Potter und der Stein der Weisen“. Als Primärmaterial dienen mir hierzu der Film „Harry Potter und der Stein der Weisen“ von Chris Columbus aus dem Jahr 2001 und die Filmmusik hierzu, die von John Williams komponiert wurde.\",\\n    \"industryIdentifiers\": [\\n     {\\n      \"type\": \"ISBN_13\",\\n      \"identifier\": \"9783656489870\"\\n     },\\n     {\\n      \"type\": \"ISBN_10\",\\n      \"identifier\": \"3656489874\"\\n     }\\n    ],\\n    \"readingModes\": {\\n     \"text\": false,\\n     \"image\": true\\n    },\\n    \"pageCount\": 12,\\n    \"printType\": \"BOOK\",\\n    \"categories\": [\\n     \"Music\"\\n    ],\\n    \"maturityRating\": \"NOT_MATURE\",\\n    \"allowAnonLogging\": false,\\n    \"contentVersion\": \"0.4.1.0.preview.1\",\\n    \"panelizationSummary\": {\\n     \"containsEpubBubbles\": false,\\n     \"containsImageBubbles\": false\\n    },\\n    \"imageLinks\": {\\n     \"smallThumbnail\": \"http://books.google.com/books/content?id=aRnsAAAAQBAJ&printsec=frontcover&img=1&zoom=5&edge=curl&source=gbs_api\",\\n     \"thumbnail\": \"http://books.google.com/books/content?id=aRnsAAAAQBAJ&printsec=frontcover&img=1&zoom=1&edge=curl&source=gbs_api\"\\n    },\\n    \"language\": \"de\",\\n    \"previewLink\": \"http://books.google.ch/books?id=aRnsAAAAQBAJ&printsec=frontcover&dq=intitle:potter&hl=&cd=10&source=gbs_api\",\\n    \"infoLink\": \"https://play.google.com/store/books/details?id=aRnsAAAAQBAJ&source=gbs_api\",\\n    \"canonicalVolumeLink\": \"https://play.google.com/store/books/details?id=aRnsAAAAQBAJ\"\\n   },\\n   \"saleInfo\": {\\n    \"country\": \"CH\",\\n    \"saleability\": \"FOR_SALE\",\\n    \"isEbook\": true,\\n    \"listPrice\": {\\n     \"amount\": 15.0,\\n     \"currencyCode\": \"CHF\"\\n    },\\n    \"retailPrice\": {\\n     \"amount\": 10.2,\\n     \"currencyCode\": \"CHF\"\\n    },\\n    \"buyLink\": \"https://play.google.com/store/books/details?id=aRnsAAAAQBAJ&rdid=book-aRnsAAAAQBAJ&rdot=1&source=gbs_api\",\\n    \"offers\": [\\n     {\\n      \"finskyOfferType\": 1,\\n      \"listPrice\": {\\n       \"amountInMicros\": 1.5E7,\\n       \"currencyCode\": \"CHF\"\\n      },\\n      \"retailPrice\": {\\n       \"amountInMicros\": 1.02E7,\\n       \"currencyCode\": \"CHF\"\\n      },\\n      \"giftable\": true\\n     }\\n    ]\\n   },\\n   \"accessInfo\": {\\n    \"country\": \"CH\",\\n    \"viewability\": \"PARTIAL\",\\n    \"embeddable\": true,\\n    \"publicDomain\": false,\\n    \"textToSpeechPermission\": \"ALLOWED\",\\n    \"epub\": {\\n     \"isAvailable\": false\\n    },\\n    \"pdf\": {\\n     \"isAvailable\": true,\\n     \"acsTokenLink\": \"http://books.google.ch/books/download/Die_emotionale_Wirkung_und_Wahrnehmung_v-sample-pdf.acsm?id=aRnsAAAAQBAJ&format=pdf&output=acs4_fulfillment_token&dl_type=sample&source=gbs_api\"\\n    },\\n    \"webReaderLink\": \"http://play.google.com/books/reader?id=aRnsAAAAQBAJ&hl=&printsec=frontcover&source=gbs_api\",\\n    \"accessViewStatus\": \"SAMPLE\",\\n    \"quoteSharingAllowed\": false\\n   },\\n   \"searchInfo\": {\\n    \"textSnippet\": \"Studienarbeit aus dem Jahr 2013 im Fachbereich Musikwissenschaft, Note: 1,5, Leuphana Universität Lüneburg, Sprache: Deutsch, Abstract: Seit Beginn der „bewegten Bilder“ , die die Brüder Lumiere im Jahr 1895 der Öffentlichkeit ...\"\\n   }\\n  }\\n ]\\n}\\n'"
      ]
     },
     "execution_count": 3,
     "metadata": {},
     "output_type": "execute_result"
    }
   ],
   "source": [
    "result_A = 'https://www.googleapis.com/books/v1/volumes?q=intitle:potter'\n",
    "result_B = 'https://www.googleapis.com/books/v1/volumes?q=inauthor:doyle'\n",
    "result_C = 'https://www.googleapis.com/books/v1/volumes?q=isbn:1904633684'\n",
    "result_D = 'https://www.googleapis.com/books/v1/volumes?q=id:2bGdK8CRKoEC'\n",
    "result_E = 'https://www.googleapis.com/books/v1/volumes?q=subject:detective&startIndex=10&maxResults=10'\n",
    "result_F = 'https://www.googleapis.com/books/v1/volumes?q=title:potter&startIndex=10&maxResults=40'\n",
    "\n",
    "#check with requests\n",
    "\n",
    "requests.get(result_A).text\n",
    "#\n",
    "#\n",
    "#\n",
    "\n",
    "#continue to check all your URLs this way!"
   ]
  },
  {
   "cell_type": "markdown",
   "metadata": {},
   "source": [
    "1G. Define a function that sends a request to the google books API with the URL parameters as inputs to the function. Try to incorporate as many as the variables as possible and output a URL according to the settings you want to have. Don't forget to write a docstring explaning how the function works. Docstrings are explanations to functions, describing the input, output, and purpose of the function. If you haven't used them before, you can find more examples for example at: https://www.geeksforgeeks.org/python-docstrings/"
   ]
  },
  {
   "cell_type": "code",
   "execution_count": 4,
   "metadata": {
    "pycharm": {
     "is_executing": false
    }
   },
   "outputs": [
    {
     "data": {
      "text/plain": [
       "'{\\n \"kind\": \"books#volumes\",\\n \"totalItems\": 429,\\n \"items\": [\\n  {\\n   \"kind\": \"books#volume\",\\n   \"id\": \"11dPLAAACAAJ\",\\n   \"etag\": \"sXvnKl9Ve3o\",\\n   \"selfLink\": \"https://www.googleapis.com/books/v1/volumes/11dPLAAACAAJ\",\\n   \"volumeInfo\": {\\n    \"title\": \"The Complete Harry Potter Collection\",\\n    \"authors\": [\\n     \"J. K. Rowling\"\\n    ],\\n    \"publisher\": \"Bloomsbury Pub Limited\",\\n    \"publishedDate\": \"2008-10\",\\n    \"description\": \"Harry Potter Paperback Boxed Set X 7. A fabulous opportunity to finally own all seven Harry Potter titles -Harry Potter and the Philosopher\\'s Stone,Harry Potter and the Chamber of Secrets,Harry Potter and the Prisoner of Azkaban,Harry Potter and the Goble\",\\n    \"industryIdentifiers\": [\\n     {\\n      \"type\": \"ISBN_10\",\\n      \"identifier\": \"0747595852\"\\n     },\\n     {\\n      \"type\": \"ISBN_13\",\\n      \"identifier\": \"9780747595854\"\\n     }\\n    ],\\n    \"readingModes\": {\\n     \"text\": false,\\n     \"image\": false\\n    },\\n    \"pageCount\": 7,\\n    \"printType\": \"BOOK\",\\n    \"categories\": [\\n     \"Juvenile Fiction\"\\n    ],\\n    \"averageRating\": 5.0,\\n    \"ratingsCount\": 1,\\n    \"maturityRating\": \"NOT_MATURE\",\\n    \"allowAnonLogging\": false,\\n    \"contentVersion\": \"preview-1.0.0\",\\n    \"imageLinks\": {\\n     \"smallThumbnail\": \"http://books.google.com/books/content?id=11dPLAAACAAJ&printsec=frontcover&img=1&zoom=5&source=gbs_api\",\\n     \"thumbnail\": \"http://books.google.com/books/content?id=11dPLAAACAAJ&printsec=frontcover&img=1&zoom=1&source=gbs_api\"\\n    },\\n    \"language\": \"en\",\\n    \"previewLink\": \"http://books.google.ch/books?id=11dPLAAACAAJ&dq=%7Bintitle:harry,inauthor:rowling%7D&hl=&cd=31&source=gbs_api\",\\n    \"infoLink\": \"http://books.google.ch/books?id=11dPLAAACAAJ&dq=%7Bintitle:harry,inauthor:rowling%7D&hl=&source=gbs_api\",\\n    \"canonicalVolumeLink\": \"https://books.google.com/books/about/The_Complete_Harry_Potter_Collection.html?hl=&id=11dPLAAACAAJ\"\\n   },\\n   \"saleInfo\": {\\n    \"country\": \"CH\",\\n    \"saleability\": \"NOT_FOR_SALE\",\\n    \"isEbook\": false\\n   },\\n   \"accessInfo\": {\\n    \"country\": \"CH\",\\n    \"viewability\": \"NO_PAGES\",\\n    \"embeddable\": false,\\n    \"publicDomain\": false,\\n    \"textToSpeechPermission\": \"ALLOWED\",\\n    \"epub\": {\\n     \"isAvailable\": false\\n    },\\n    \"pdf\": {\\n     \"isAvailable\": false\\n    },\\n    \"webReaderLink\": \"http://play.google.com/books/reader?id=11dPLAAACAAJ&hl=&printsec=frontcover&source=gbs_api\",\\n    \"accessViewStatus\": \"NONE\",\\n    \"quoteSharingAllowed\": false\\n   },\\n   \"searchInfo\": {\\n    \"textSnippet\": \"No Marketing Blurb\"\\n   }\\n  },\\n  {\\n   \"kind\": \"books#volume\",\\n   \"id\": \"sfLlzAEACAAJ\",\\n   \"etag\": \"+y0MC467bJ0\",\\n   \"selfLink\": \"https://www.googleapis.com/books/v1/volumes/sfLlzAEACAAJ\",\\n   \"volumeInfo\": {\\n    \"title\": \"Harry Potter und der Gefangene von Askaban (Harry Potter 3)\",\\n    \"authors\": [\\n     \"J.K. Rowling\"\\n    ],\\n    \"publisher\": \"Carlsen\",\\n    \"publishedDate\": \"1999-08-21\",\\n    \"description\": \"Natürlich weiß Harry, dass das Zaubern in den Ferien strengstens verboten ist, und trotzdem befördert er seine schreckliche Tante mit einem Schwebezauber an die Decke. Die Konsequenz ist normalerweise: Schulverweis! Doch Harry wird behandelt wie ein rohes Ei. Hat es etwa damit zu tun, dass ein gefürchteter Verbrecher es auf Harry abgesehen hat? Mit Ron und Hermine versucht Harry ein Geflecht aus Verrat und Rache aufzudröseln und stößt dabei auf Dinge, die ihn fast an seinem Verstand zweifeln lassen. Dies ist der dritte Band der international erfolgreichen Harry-Potter-Serie, die Generationen geprägt hat. Alle Bände der Serie: Harry Potter und der Stein der Weisen Harry Potter und die Kammer des Schreckens Harry Potter und der Gefangene von Askaban Harry Potter und der Feuerkelch Harry Potter und der Orden des Phönix Harry Potter und der Halbblutprinz Harry Potter und die Heiligtümer des Todes Die Harry-Potter-Serie ist abgeschlossen.\",\\n    \"industryIdentifiers\": [\\n     {\\n      \"type\": \"ISBN_10\",\\n      \"identifier\": \"3551551693\"\\n     },\\n     {\\n      \"type\": \"ISBN_13\",\\n      \"identifier\": \"9783551551696\"\\n     }\\n    ],\\n    \"readingModes\": {\\n     \"text\": false,\\n     \"image\": false\\n    },\\n    \"pageCount\": 448,\\n    \"printType\": \"BOOK\",\\n    \"categories\": [\\n     \"Juvenile Fiction\"\\n    ],\\n    \"maturityRating\": \"NOT_MATURE\",\\n    \"allowAnonLogging\": false,\\n    \"contentVersion\": \"preview-1.0.0\",\\n    \"panelizationSummary\": {\\n     \"containsEpubBubbles\": false,\\n     \"containsImageBubbles\": false\\n    },\\n    \"language\": \"de\",\\n    \"previewLink\": \"http://books.google.ch/books?id=sfLlzAEACAAJ&dq=%7Bintitle:harry,inauthor:rowling%7D&hl=&cd=32&source=gbs_api\",\\n    \"infoLink\": \"http://books.google.ch/books?id=sfLlzAEACAAJ&dq=%7Bintitle:harry,inauthor:rowling%7D&hl=&source=gbs_api\",\\n    \"canonicalVolumeLink\": \"https://books.google.com/books/about/Harry_Potter_und_der_Gefangene_von_Askab.html?hl=&id=sfLlzAEACAAJ\"\\n   },\\n   \"saleInfo\": {\\n    \"country\": \"CH\",\\n    \"saleability\": \"NOT_FOR_SALE\",\\n    \"isEbook\": false\\n   },\\n   \"accessInfo\": {\\n    \"country\": \"CH\",\\n    \"viewability\": \"NO_PAGES\",\\n    \"embeddable\": false,\\n    \"publicDomain\": false,\\n    \"textToSpeechPermission\": \"ALLOWED\",\\n    \"epub\": {\\n     \"isAvailable\": false\\n    },\\n    \"pdf\": {\\n     \"isAvailable\": false\\n    },\\n    \"webReaderLink\": \"http://play.google.com/books/reader?id=sfLlzAEACAAJ&hl=&printsec=frontcover&source=gbs_api\",\\n    \"accessViewStatus\": \"NONE\",\\n    \"quoteSharingAllowed\": false\\n   },\\n   \"searchInfo\": {\\n    \"textSnippet\": \"Natürlich weiß Harry, dass das Zaubern in den Ferien strengstens verboten ist, und trotzdem befördert er seine schreckliche Tante mit einem Schwebezauber an die Decke.\"\\n   }\\n  },\\n  {\\n   \"kind\": \"books#volume\",\\n   \"id\": \"7Z6XYbS1YFcC\",\\n   \"etag\": \"uH+sbTOOkPg\",\\n   \"selfLink\": \"https://www.googleapis.com/books/v1/volumes/7Z6XYbS1YFcC\",\\n   \"volumeInfo\": {\\n    \"title\": \"Harry Potter and the Goblet of Fire\",\\n    \"authors\": [\\n     \"J. K. Rowling\"\\n    ],\\n    \"publisher\": \"Scholastic\",\\n    \"publishedDate\": \"2000\",\\n    \"description\": \"The fourth title in the continuing saga includes Harry\\'s latest adventure at Hogwarts School of Witchcraft and Wizardry.\",\\n    \"industryIdentifiers\": [\\n     {\\n      \"type\": \"ISBN_10\",\\n      \"identifier\": \"0439139597\"\\n     },\\n     {\\n      \"type\": \"ISBN_13\",\\n      \"identifier\": \"9780439139595\"\\n     }\\n    ],\\n    \"readingModes\": {\\n     \"text\": false,\\n     \"image\": false\\n    },\\n    \"pageCount\": 734,\\n    \"printType\": \"BOOK\",\\n    \"categories\": [\\n     \"Juvenile Fiction\"\\n    ],\\n    \"averageRating\": 4.5,\\n    \"ratingsCount\": 1406,\\n    \"maturityRating\": \"NOT_MATURE\",\\n    \"allowAnonLogging\": false,\\n    \"contentVersion\": \"0.3.1.0.preview.0\",\\n    \"panelizationSummary\": {\\n     \"containsEpubBubbles\": false,\\n     \"containsImageBubbles\": false\\n    },\\n    \"imageLinks\": {\\n     \"smallThumbnail\": \"http://books.google.com/books/content?id=7Z6XYbS1YFcC&printsec=frontcover&img=1&zoom=5&source=gbs_api\",\\n     \"thumbnail\": \"http://books.google.com/books/content?id=7Z6XYbS1YFcC&printsec=frontcover&img=1&zoom=1&source=gbs_api\"\\n    },\\n    \"language\": \"en\",\\n    \"previewLink\": \"http://books.google.ch/books?id=7Z6XYbS1YFcC&dq=%7Bintitle:harry,inauthor:rowling%7D&hl=&cd=33&source=gbs_api\",\\n    \"infoLink\": \"http://books.google.ch/books?id=7Z6XYbS1YFcC&dq=%7Bintitle:harry,inauthor:rowling%7D&hl=&source=gbs_api\",\\n    \"canonicalVolumeLink\": \"https://books.google.com/books/about/Harry_Potter_and_the_Goblet_of_Fire.html?hl=&id=7Z6XYbS1YFcC\"\\n   },\\n   \"saleInfo\": {\\n    \"country\": \"CH\",\\n    \"saleability\": \"NOT_FOR_SALE\",\\n    \"isEbook\": false\\n   },\\n   \"accessInfo\": {\\n    \"country\": \"CH\",\\n    \"viewability\": \"NO_PAGES\",\\n    \"embeddable\": false,\\n    \"publicDomain\": false,\\n    \"textToSpeechPermission\": \"ALLOWED\",\\n    \"epub\": {\\n     \"isAvailable\": false\\n    },\\n    \"pdf\": {\\n     \"isAvailable\": false\\n    },\\n    \"webReaderLink\": \"http://play.google.com/books/reader?id=7Z6XYbS1YFcC&hl=&printsec=frontcover&source=gbs_api\",\\n    \"accessViewStatus\": \"NONE\",\\n    \"quoteSharingAllowed\": false\\n   },\\n   \"searchInfo\": {\\n    \"textSnippet\": \"The fourth title in the continuing saga includes Harry&#39;s latest adventure at Hogwarts School of Witchcraft and Wizardry.\"\\n   }\\n  },\\n  {\\n   \"kind\": \"books#volume\",\\n   \"id\": \"VpjeoAEACAAJ\",\\n   \"etag\": \"D0dMEuNGaeU\",\\n   \"selfLink\": \"https://www.googleapis.com/books/v1/volumes/VpjeoAEACAAJ\",\\n   \"volumeInfo\": {\\n    \"title\": \"Harry Potter: The Complete Collection\",\\n    \"authors\": [\\n     \"Joanne K. Rowling\"\\n    ],\\n    \"publishedDate\": \"2014-10-09\",\\n    \"industryIdentifiers\": [\\n     {\\n      \"type\": \"ISBN_10\",\\n      \"identifier\": \"1408856778\"\\n     },\\n     {\\n      \"type\": \"ISBN_13\",\\n      \"identifier\": \"9781408856772\"\\n     }\\n    ],\\n    \"readingModes\": {\\n     \"text\": false,\\n     \"image\": false\\n    },\\n    \"pageCount\": 3422,\\n    \"printType\": \"BOOK\",\\n    \"averageRating\": 5.0,\\n    \"ratingsCount\": 1,\\n    \"maturityRating\": \"NOT_MATURE\",\\n    \"allowAnonLogging\": false,\\n    \"contentVersion\": \"preview-1.0.0\",\\n    \"imageLinks\": {\\n     \"smallThumbnail\": \"http://books.google.com/books/content?id=VpjeoAEACAAJ&printsec=frontcover&img=1&zoom=5&source=gbs_api\",\\n     \"thumbnail\": \"http://books.google.com/books/content?id=VpjeoAEACAAJ&printsec=frontcover&img=1&zoom=1&source=gbs_api\"\\n    },\\n    \"language\": \"en\",\\n    \"previewLink\": \"http://books.google.ch/books?id=VpjeoAEACAAJ&dq=%7Bintitle:harry,inauthor:rowling%7D&hl=&cd=34&source=gbs_api\",\\n    \"infoLink\": \"http://books.google.ch/books?id=VpjeoAEACAAJ&dq=%7Bintitle:harry,inauthor:rowling%7D&hl=&source=gbs_api\",\\n    \"canonicalVolumeLink\": \"https://books.google.com/books/about/Harry_Potter_The_Complete_Collection.html?hl=&id=VpjeoAEACAAJ\"\\n   },\\n   \"saleInfo\": {\\n    \"country\": \"CH\",\\n    \"saleability\": \"NOT_FOR_SALE\",\\n    \"isEbook\": false\\n   },\\n   \"accessInfo\": {\\n    \"country\": \"CH\",\\n    \"viewability\": \"NO_PAGES\",\\n    \"embeddable\": false,\\n    \"publicDomain\": false,\\n    \"textToSpeechPermission\": \"ALLOWED\",\\n    \"epub\": {\\n     \"isAvailable\": false\\n    },\\n    \"pdf\": {\\n     \"isAvailable\": false\\n    },\\n    \"webReaderLink\": \"http://play.google.com/books/reader?id=VpjeoAEACAAJ&hl=&printsec=frontcover&source=gbs_api\",\\n    \"accessViewStatus\": \"NONE\",\\n    \"quoteSharingAllowed\": false\\n   },\\n   \"searchInfo\": {\\n    \"textSnippet\": \"These new editions of the classic and internationally bestselling, multi-award-winning series feature instantly pick-up-able new jackets by Jonny Duddle, with huge child appeal, to bring Harry Potter to the next generation of readers.\"\\n   }\\n  },\\n  {\\n   \"kind\": \"books#volume\",\\n   \"id\": \"yHDsvQEACAAJ\",\\n   \"etag\": \"JcDKWhqVIq4\",\\n   \"selfLink\": \"https://www.googleapis.com/books/v1/volumes/yHDsvQEACAAJ\",\\n   \"volumeInfo\": {\\n    \"title\": \"Harry Potter (Schmuckausgabe)\",\\n    \"authors\": [\\n     \"J. K. Rowling\"\\n    ],\\n    \"publishedDate\": \"2015\",\\n    \"description\": \"Lassen Sie sich von dieser wunderschönen Neuausgabe verzaubern! Harry Potters Geschichte ist inzwischen weltbekannt, doch nun ist eine einzigartige, vierfarbig illustrierte Ausgabe des Klassikers erschienen. Jim Kay, Illustrator des preisgekrönten ”Sieben Minuten nach Mitternacht“ von Patrick Ness, hat die Welt von Harry Potter und ihre unvergleichlichen Figuren in ein neues Gewand gehüllt. Seine fantasievollen Zeichnungen werden nicht nur Fans, sondern auch neue Leser in ihren Bann ziehen. ”Als ich Jim Kays Illustrationen zum ersten Mal gesehen habe, war das ein sehr bewegender Moment. Ich finde seine Interpretation von Harry Potters Welt großartig und fühle mich geehrt, dass er diese Welt mit seiner Kunst zum Leben erweckt hat.“ (J.K. Rowling) (Quelle: Website des Verlages).\",\\n    \"industryIdentifiers\": [\\n     {\\n      \"type\": \"OTHER\",\\n      \"identifier\": \"OCLC:1057461925\"\\n     }\\n    ],\\n    \"readingModes\": {\\n     \"text\": false,\\n     \"image\": false\\n    },\\n    \"printType\": \"BOOK\",\\n    \"maturityRating\": \"NOT_MATURE\",\\n    \"allowAnonLogging\": false,\\n    \"contentVersion\": \"preview-1.0.0\",\\n    \"panelizationSummary\": {\\n     \"containsEpubBubbles\": false,\\n     \"containsImageBubbles\": false\\n    },\\n    \"language\": \"de\",\\n    \"previewLink\": \"http://books.google.ch/books?id=yHDsvQEACAAJ&dq=%7Bintitle:harry,inauthor:rowling%7D&hl=&cd=35&source=gbs_api\",\\n    \"infoLink\": \"http://books.google.ch/books?id=yHDsvQEACAAJ&dq=%7Bintitle:harry,inauthor:rowling%7D&hl=&source=gbs_api\",\\n    \"canonicalVolumeLink\": \"https://books.google.com/books/about/Harry_Potter_Schmuckausgabe.html?hl=&id=yHDsvQEACAAJ\"\\n   },\\n   \"saleInfo\": {\\n    \"country\": \"CH\",\\n    \"saleability\": \"NOT_FOR_SALE\",\\n    \"isEbook\": false\\n   },\\n   \"accessInfo\": {\\n    \"country\": \"CH\",\\n    \"viewability\": \"NO_PAGES\",\\n    \"embeddable\": false,\\n    \"publicDomain\": false,\\n    \"textToSpeechPermission\": \"ALLOWED\",\\n    \"epub\": {\\n     \"isAvailable\": false\\n    },\\n    \"pdf\": {\\n     \"isAvailable\": false\\n    },\\n    \"webReaderLink\": \"http://play.google.com/books/reader?id=yHDsvQEACAAJ&hl=&printsec=frontcover&source=gbs_api\",\\n    \"accessViewStatus\": \"NONE\",\\n    \"quoteSharingAllowed\": false\\n   },\\n   \"searchInfo\": {\\n    \"textSnippet\": \"Lassen Sie sich von dieser wunderschönen Neuausgabe verzaubern!\"\\n   }\\n  },\\n  {\\n   \"kind\": \"books#volume\",\\n   \"id\": \"F7T8ugEACAAJ\",\\n   \"etag\": \"nBTloFjxXvE\",\\n   \"selfLink\": \"https://www.googleapis.com/books/v1/volumes/F7T8ugEACAAJ\",\\n   \"volumeInfo\": {\\n    \"title\": \"Harry Potter and the Goblet of Fire (Brian Selznick Cover Edition)\",\\n    \"authors\": [\\n     \"J. K. Rowling\"\\n    ],\\n    \"publisher\": \"Turtleback Books\",\\n    \"publishedDate\": \"2018-06-26\",\\n    \"description\": \"Young wizard-in-training Harry Potter prepares for a competition between Hogwarts School of Magic and two rival schools, develops a crush on Cho Chang, and wishes above all to be a normal fourteen-year-old. This edition contains a new cover from awar\",\\n    \"industryIdentifiers\": [\\n     {\\n      \"type\": \"ISBN_10\",\\n      \"identifier\": \"0606415173\"\\n     },\\n     {\\n      \"type\": \"ISBN_13\",\\n      \"identifier\": \"9780606415170\"\\n     }\\n    ],\\n    \"readingModes\": {\\n     \"text\": false,\\n     \"image\": false\\n    },\\n    \"pageCount\": 768,\\n    \"printType\": \"BOOK\",\\n    \"averageRating\": 5.0,\\n    \"ratingsCount\": 16,\\n    \"maturityRating\": \"NOT_MATURE\",\\n    \"allowAnonLogging\": false,\\n    \"contentVersion\": \"preview-1.0.0\",\\n    \"panelizationSummary\": {\\n     \"containsEpubBubbles\": false,\\n     \"containsImageBubbles\": false\\n    },\\n    \"imageLinks\": {\\n     \"smallThumbnail\": \"http://books.google.com/books/content?id=F7T8ugEACAAJ&printsec=frontcover&img=1&zoom=5&source=gbs_api\",\\n     \"thumbnail\": \"http://books.google.com/books/content?id=F7T8ugEACAAJ&printsec=frontcover&img=1&zoom=1&source=gbs_api\"\\n    },\\n    \"language\": \"en\",\\n    \"previewLink\": \"http://books.google.ch/books?id=F7T8ugEACAAJ&dq=%7Bintitle:harry,inauthor:rowling%7D&hl=&cd=36&source=gbs_api\",\\n    \"infoLink\": \"http://books.google.ch/books?id=F7T8ugEACAAJ&dq=%7Bintitle:harry,inauthor:rowling%7D&hl=&source=gbs_api\",\\n    \"canonicalVolumeLink\": \"https://books.google.com/books/about/Harry_Potter_and_the_Goblet_of_Fire_Bria.html?hl=&id=F7T8ugEACAAJ\"\\n   },\\n   \"saleInfo\": {\\n    \"country\": \"CH\",\\n    \"saleability\": \"NOT_FOR_SALE\",\\n    \"isEbook\": false\\n   },\\n   \"accessInfo\": {\\n    \"country\": \"CH\",\\n    \"viewability\": \"NO_PAGES\",\\n    \"embeddable\": false,\\n    \"publicDomain\": false,\\n    \"textToSpeechPermission\": \"ALLOWED\",\\n    \"epub\": {\\n     \"isAvailable\": false\\n    },\\n    \"pdf\": {\\n     \"isAvailable\": false\\n    },\\n    \"webReaderLink\": \"http://play.google.com/books/reader?id=F7T8ugEACAAJ&hl=&printsec=frontcover&source=gbs_api\",\\n    \"accessViewStatus\": \"NONE\",\\n    \"quoteSharingAllowed\": false\\n   },\\n   \"searchInfo\": {\\n    \"textSnippet\": \"This edition contains a new cover from awar\"\\n   }\\n  },\\n  {\\n   \"kind\": \"books#volume\",\\n   \"id\": \"p0mLvgEACAAJ\",\\n   \"etag\": \"BXpynazgSn4\",\\n   \"selfLink\": \"https://www.googleapis.com/books/v1/volumes/p0mLvgEACAAJ\",\\n   \"volumeInfo\": {\\n    \"title\": \"Harry Potter\",\\n    \"subtitle\": \"Harry Potter and the Sorcerer\\'s Stone; Harry Potter and the Chamber of Secrets; Harry Potter and the Prisoner of Azkaban; Harry Potter and the Goblet of Fire; Harry Potter and the Order of the Phoenix; Harry Potter and the Half-Blood Prince; Harry Potter and the Deathly Hallows\",\\n    \"authors\": [\\n     \"J. K. Rowling\"\\n    ],\\n    \"publisher\": \"Bloomsbury Harry Potter\",\\n    \"publishedDate\": \"2007-10\",\\n    \"description\": \"A fabulous opportunity to own all seven Harry Potter titles - Harry Potter and the Philosopher\\'s Stone, Harry Potter and the Chamber of Secrets, Harry Potter and the Prisoner of Azkaban, Harry Potter and the Goblet of Fire, Harry Potter and the Order of the Phoenix, Harry Potter and the Half-Blood Prince and Harry Potter and the Deathly Hallows- in a fantastic boxed set\",\\n    \"industryIdentifiers\": [\\n     {\\n      \"type\": \"ISBN_10\",\\n      \"identifier\": \"0747594562\"\\n     },\\n     {\\n      \"type\": \"ISBN_13\",\\n      \"identifier\": \"9780747594567\"\\n     }\\n    ],\\n    \"readingModes\": {\\n     \"text\": false,\\n     \"image\": false\\n    },\\n    \"pageCount\": 607,\\n    \"printType\": \"BOOK\",\\n    \"categories\": [\\n     \"Fantasy fiction, English\"\\n    ],\\n    \"maturityRating\": \"NOT_MATURE\",\\n    \"allowAnonLogging\": false,\\n    \"contentVersion\": \"preview-1.0.0\",\\n    \"panelizationSummary\": {\\n     \"containsEpubBubbles\": false,\\n     \"containsImageBubbles\": false\\n    },\\n    \"imageLinks\": {\\n     \"smallThumbnail\": \"http://books.google.com/books/content?id=p0mLvgEACAAJ&printsec=frontcover&img=1&zoom=5&source=gbs_api\",\\n     \"thumbnail\": \"http://books.google.com/books/content?id=p0mLvgEACAAJ&printsec=frontcover&img=1&zoom=1&source=gbs_api\"\\n    },\\n    \"language\": \"en\",\\n    \"previewLink\": \"http://books.google.ch/books?id=p0mLvgEACAAJ&dq=%7Bintitle:harry,inauthor:rowling%7D&hl=&cd=37&source=gbs_api\",\\n    \"infoLink\": \"http://books.google.ch/books?id=p0mLvgEACAAJ&dq=%7Bintitle:harry,inauthor:rowling%7D&hl=&source=gbs_api\",\\n    \"canonicalVolumeLink\": \"https://books.google.com/books/about/Harry_Potter.html?hl=&id=p0mLvgEACAAJ\"\\n   },\\n   \"saleInfo\": {\\n    \"country\": \"CH\",\\n    \"saleability\": \"NOT_FOR_SALE\",\\n    \"isEbook\": false\\n   },\\n   \"accessInfo\": {\\n    \"country\": \"CH\",\\n    \"viewability\": \"NO_PAGES\",\\n    \"embeddable\": false,\\n    \"publicDomain\": false,\\n    \"textToSpeechPermission\": \"ALLOWED\",\\n    \"epub\": {\\n     \"isAvailable\": false\\n    },\\n    \"pdf\": {\\n     \"isAvailable\": false\\n    },\\n    \"webReaderLink\": \"http://play.google.com/books/reader?id=p0mLvgEACAAJ&hl=&printsec=frontcover&source=gbs_api\",\\n    \"accessViewStatus\": \"NONE\",\\n    \"quoteSharingAllowed\": false\\n   },\\n   \"searchInfo\": {\\n    \"textSnippet\": \"A fabulous opportunity to own all seven Harry Potter titles - Harry Potter and the Philosopher&#39;s Stone, Harry Potter and the Chamber of Secrets, Harry Potter and the Prisoner of Azkaban, Harry Potter and the Goblet of Fire, Harry Potter and ...\"\\n   }\\n  },\\n  {\\n   \"kind\": \"books#volume\",\\n   \"id\": \"NW80CwAAQBAJ\",\\n   \"etag\": \"iNtAZt5dYZo\",\\n   \"selfLink\": \"https://www.googleapis.com/books/v1/volumes/NW80CwAAQBAJ\",\\n   \"volumeInfo\": {\\n    \"title\": \"Harry Potter: The Complete Collection (1-7)\",\\n    \"authors\": [\\n     \"J.K. Rowling\"\\n    ],\\n    \"publisher\": \"Pottermore Publishing\",\\n    \"publishedDate\": \"2015-12-14\",\\n    \"description\": \"All seven eBooks in the multi-award winning, internationally bestselling Harry Potter series, available as one download with stunning cover art by Olly Moss. Enjoy the stories that have captured the imagination of millions worldwide.\",\\n    \"industryIdentifiers\": [\\n     {\\n      \"type\": \"ISBN_13\",\\n      \"identifier\": \"9781781106471\"\\n     },\\n     {\\n      \"type\": \"ISBN_10\",\\n      \"identifier\": \"1781106479\"\\n     }\\n    ],\\n    \"readingModes\": {\\n     \"text\": true,\\n     \"image\": false\\n    },\\n    \"pageCount\": 4182,\\n    \"printType\": \"BOOK\",\\n    \"categories\": [\\n     \"Juvenile Fiction\"\\n    ],\\n    \"averageRating\": 5.0,\\n    \"ratingsCount\": 4,\\n    \"maturityRating\": \"NOT_MATURE\",\\n    \"allowAnonLogging\": true,\\n    \"contentVersion\": \"1.14.12.0.preview.2\",\\n    \"panelizationSummary\": {\\n     \"containsEpubBubbles\": false,\\n     \"containsImageBubbles\": false\\n    },\\n    \"imageLinks\": {\\n     \"smallThumbnail\": \"http://books.google.com/books/content?id=NW80CwAAQBAJ&printsec=frontcover&img=1&zoom=5&source=gbs_api\",\\n     \"thumbnail\": \"http://books.google.com/books/content?id=NW80CwAAQBAJ&printsec=frontcover&img=1&zoom=1&source=gbs_api\"\\n    },\\n    \"language\": \"en\",\\n    \"previewLink\": \"http://books.google.ch/books?id=NW80CwAAQBAJ&dq=%7Bintitle:harry,inauthor:rowling%7D&hl=&cd=38&source=gbs_api\",\\n    \"infoLink\": \"http://books.google.ch/books?id=NW80CwAAQBAJ&dq=%7Bintitle:harry,inauthor:rowling%7D&hl=&source=gbs_api\",\\n    \"canonicalVolumeLink\": \"https://books.google.com/books/about/Harry_Potter_The_Complete_Collection_1_7.html?hl=&id=NW80CwAAQBAJ\"\\n   },\\n   \"saleInfo\": {\\n    \"country\": \"CH\",\\n    \"saleability\": \"NOT_FOR_SALE\",\\n    \"isEbook\": false\\n   },\\n   \"accessInfo\": {\\n    \"country\": \"CH\",\\n    \"viewability\": \"NO_PAGES\",\\n    \"embeddable\": false,\\n    \"publicDomain\": false,\\n    \"textToSpeechPermission\": \"ALLOWED\",\\n    \"epub\": {\\n     \"isAvailable\": true\\n    },\\n    \"pdf\": {\\n     \"isAvailable\": true\\n    },\\n    \"webReaderLink\": \"http://play.google.com/books/reader?id=NW80CwAAQBAJ&hl=&printsec=frontcover&source=gbs_api\",\\n    \"accessViewStatus\": \"NONE\",\\n    \"quoteSharingAllowed\": false\\n   },\\n   \"searchInfo\": {\\n    \"textSnippet\": \"All seven eBooks in the multi-award winning, internationally bestselling Harry Potter series, available as one download with stunning cover art by Olly Moss. Enjoy the stories that have captured the imagination of millions worldwide.\"\\n   }\\n  },\\n  {\\n   \"kind\": \"books#volume\",\\n   \"id\": \"5Wz9rQEACAAJ\",\\n   \"etag\": \"HbYm2OcGraA\",\\n   \"selfLink\": \"https://www.googleapis.com/books/v1/volumes/5Wz9rQEACAAJ\",\\n   \"volumeInfo\": {\\n    \"title\": \"Harry Potter\",\\n    \"authors\": [\\n     \"J. K. Rowling Miles\"\\n    ],\\n    \"publishedDate\": \"2014-12-23\",\\n    \"industryIdentifiers\": [\\n     {\\n      \"type\": \"ISBN_10\",\\n      \"identifier\": \"1320316883\"\\n     },\\n     {\\n      \"type\": \"ISBN_13\",\\n      \"identifier\": \"9781320316880\"\\n     }\\n    ],\\n    \"readingModes\": {\\n     \"text\": false,\\n     \"image\": false\\n    },\\n    \"printType\": \"BOOK\",\\n    \"maturityRating\": \"NOT_MATURE\",\\n    \"allowAnonLogging\": false,\\n    \"contentVersion\": \"preview-1.0.0\",\\n    \"imageLinks\": {\\n     \"smallThumbnail\": \"http://books.google.com/books/content?id=5Wz9rQEACAAJ&printsec=frontcover&img=1&zoom=5&source=gbs_api\",\\n     \"thumbnail\": \"http://books.google.com/books/content?id=5Wz9rQEACAAJ&printsec=frontcover&img=1&zoom=1&source=gbs_api\"\\n    },\\n    \"language\": \"en\",\\n    \"previewLink\": \"http://books.google.ch/books?id=5Wz9rQEACAAJ&dq=%7Bintitle:harry,inauthor:rowling%7D&hl=&cd=39&source=gbs_api\",\\n    \"infoLink\": \"http://books.google.ch/books?id=5Wz9rQEACAAJ&dq=%7Bintitle:harry,inauthor:rowling%7D&hl=&source=gbs_api\",\\n    \"canonicalVolumeLink\": \"https://books.google.com/books/about/Harry_Potter.html?hl=&id=5Wz9rQEACAAJ\"\\n   },\\n   \"saleInfo\": {\\n    \"country\": \"CH\",\\n    \"saleability\": \"NOT_FOR_SALE\",\\n    \"isEbook\": false\\n   },\\n   \"accessInfo\": {\\n    \"country\": \"CH\",\\n    \"viewability\": \"NO_PAGES\",\\n    \"embeddable\": false,\\n    \"publicDomain\": false,\\n    \"textToSpeechPermission\": \"ALLOWED\",\\n    \"epub\": {\\n     \"isAvailable\": false\\n    },\\n    \"pdf\": {\\n     \"isAvailable\": false\\n    },\\n    \"webReaderLink\": \"http://play.google.com/books/reader?id=5Wz9rQEACAAJ&hl=&printsec=frontcover&source=gbs_api\",\\n    \"accessViewStatus\": \"NONE\",\\n    \"quoteSharingAllowed\": false\\n   }\\n  },\\n  {\\n   \"kind\": \"books#volume\",\\n   \"id\": \"qO8LAAAACAAJ\",\\n   \"etag\": \"k8b0BHxy3Wg\",\\n   \"selfLink\": \"https://www.googleapis.com/books/v1/volumes/qO8LAAAACAAJ\",\\n   \"volumeInfo\": {\\n    \"title\": \"Harry Potter Box Set\",\\n    \"subtitle\": \"5 Years of Magic, Adventure, and Mystery at Hogwarts\",\\n    \"authors\": [\\n     \"J. K. Rowling\"\\n    ],\\n    \"publisher\": \"Scholastic\",\\n    \"publishedDate\": \"2003-10-01\",\\n    \"industryIdentifiers\": [\\n     {\\n      \"type\": \"ISBN_10\",\\n      \"identifier\": \"0439612551\"\\n     },\\n     {\\n      \"type\": \"ISBN_13\",\\n      \"identifier\": \"9780439612555\"\\n     }\\n    ],\\n    \"readingModes\": {\\n     \"text\": false,\\n     \"image\": false\\n    },\\n    \"pageCount\": 2000,\\n    \"printType\": \"BOOK\",\\n    \"categories\": [\\n     \"Juvenile Fiction\"\\n    ],\\n    \"averageRating\": 4.5,\\n    \"ratingsCount\": 10,\\n    \"maturityRating\": \"NOT_MATURE\",\\n    \"allowAnonLogging\": false,\\n    \"contentVersion\": \"preview-1.0.0\",\\n    \"imageLinks\": {\\n     \"smallThumbnail\": \"http://books.google.com/books/content?id=qO8LAAAACAAJ&printsec=frontcover&img=1&zoom=5&source=gbs_api\",\\n     \"thumbnail\": \"http://books.google.com/books/content?id=qO8LAAAACAAJ&printsec=frontcover&img=1&zoom=1&source=gbs_api\"\\n    },\\n    \"language\": \"en\",\\n    \"previewLink\": \"http://books.google.ch/books?id=qO8LAAAACAAJ&dq=%7Bintitle:harry,inauthor:rowling%7D&hl=&cd=40&source=gbs_api\",\\n    \"infoLink\": \"http://books.google.ch/books?id=qO8LAAAACAAJ&dq=%7Bintitle:harry,inauthor:rowling%7D&hl=&source=gbs_api\",\\n    \"canonicalVolumeLink\": \"https://books.google.com/books/about/Harry_Potter_Box_Set.html?hl=&id=qO8LAAAACAAJ\"\\n   },\\n   \"saleInfo\": {\\n    \"country\": \"CH\",\\n    \"saleability\": \"NOT_FOR_SALE\",\\n    \"isEbook\": false\\n   },\\n   \"accessInfo\": {\\n    \"country\": \"CH\",\\n    \"viewability\": \"NO_PAGES\",\\n    \"embeddable\": false,\\n    \"publicDomain\": false,\\n    \"textToSpeechPermission\": \"ALLOWED\",\\n    \"epub\": {\\n     \"isAvailable\": false\\n    },\\n    \"pdf\": {\\n     \"isAvailable\": false\\n    },\\n    \"webReaderLink\": \"http://play.google.com/books/reader?id=qO8LAAAACAAJ&hl=&printsec=frontcover&source=gbs_api\",\\n    \"accessViewStatus\": \"NONE\",\\n    \"quoteSharingAllowed\": false\\n   }\\n  }\\n ]\\n}\\n'"
      ]
     },
     "execution_count": 4,
     "metadata": {},
     "output_type": "execute_result"
    }
   ],
   "source": [
    "def request_books_api(title=\"\",author=\"\",category=\"\" ,isbn=0 ,id=0 ,page=1, items=10):\n",
    "    \n",
    "    \"\"\" \n",
    "    This functions sends a request to the google books API.  \n",
    "  \n",
    "    Parameters: \n",
    "    title (str): Searches for the string in title; type \"\" for empty\n",
    "    autor (str): Searches for the sting in author; type \"\" for empty\n",
    "    category (str): Searches for the sting in category; type \"\" for empty\n",
    "    isbn (int): Seaches for the int in isbn; If set, will overwrite all the preceeding parameters; type 0 for empty\n",
    "    id (int): Searches for the int in id; If set, will overwrite all the preceeding parameters; type 0 for empty\n",
    "    page (int): Specify which page of the search results you want to display\n",
    "    items (int): Specify how many items you want to display\n",
    "  \n",
    "    Returns: \n",
    "    str: a URL which can be used as a GET input for the Google Book API \n",
    "    \"\"\"\n",
    "    \n",
    "    url = \"https://www.googleapis.com/books/v1/volumes?q={\"\n",
    "    \n",
    "    if(title != \"\"):\n",
    "        url = url + \"intitle:\" + title + \",\"\n",
    "        \n",
    "    if(author != \"\"):\n",
    "        url = url + \"inauthor:\" + author + \",\"\n",
    "        \n",
    "    if(category != \"\"):\n",
    "        url = url + \"incategory:\" + category + \",\"\n",
    "    \n",
    "    url = url[0:-1]  + \"}\"\n",
    "        \n",
    "    if(isbn != 0):\n",
    "        url = \"https://www.googleapis.com/books/v1/volumes?q=\"\n",
    "        url = url + \"isbn:\" + str(isbn)\n",
    "        \n",
    "    if(id != 0):\n",
    "        url = \"https://www.googleapis.com/books/v1/volumes?q=\"\n",
    "        url = url + \"id:\" + str(id)\n",
    "        \n",
    "    url = url + \"&startIndex=\" + str((page-1)*10) + \"&maxResults=\" + str(items)\n",
    "  \n",
    "    return url\n",
    "requests.get(request_books_api(\"harry\",\"rowling\",\"\",0,0,4)).text\n",
    "\n",
    "    "
   ]
  },
  {
   "cell_type": "markdown",
   "metadata": {},
   "source": [
    "#### Status codes\n",
    "\n",
    "Responses contain information even without looking into the textual content. printing the response tells us the URL we requested, the date, its status, the content type and the size of the response object\n",
    "\n",
    "The most important for us is the status: it tells us whether our request has been successful: You can find a list of HTTP status codes here https://en.wikipedia.org/wiki/List_of_HTTP_status_codes.\n",
    "Or, you can always check HTTP Status Cats: https://www.flickr.com/photos/girliemac/sets/72157628409467125\n",
    "\n",
    "The most important status codes for us are:\n",
    "\n",
    "- successful call: code 200\n",
    "- client error: 4xx, e.g. 401: Unauthorized, 404: Not found\n",
    "- server error: 5xx, e.g. 500: Internal Server Error, 502: Bad Gateway"
   ]
  },
  {
   "cell_type": "markdown",
   "metadata": {},
   "source": [
    "### 2. Parsing json"
   ]
  },
  {
   "cell_type": "markdown",
   "metadata": {},
   "source": [
    "1. Using the previously defined function, query the book with isbn number 1904633684 and print the text of the result. "
   ]
  },
  {
   "cell_type": "code",
   "execution_count": 5,
   "metadata": {
    "pycharm": {
     "is_executing": false
    }
   },
   "outputs": [
    {
     "name": "stdout",
     "output_type": "stream",
     "text": [
      "{\n",
      " \"kind\": \"books#volumes\",\n",
      " \"totalItems\": 1,\n",
      " \"items\": [\n",
      "  {\n",
      "   \"kind\": \"books#volume\",\n",
      "   \"id\": \"tBasGxqDMbMC\",\n",
      "   \"etag\": \"1GU8jEcB/WU\",\n",
      "   \"selfLink\": \"https://www.googleapis.com/books/v1/volumes/tBasGxqDMbMC\",\n",
      "   \"volumeInfo\": {\n",
      "    \"title\": \"The Case-book of Sherlock Holmes\",\n",
      "    \"authors\": [\n",
      "     \"Arthur Conan Doyle\"\n",
      "    ],\n",
      "    \"publisher\": \"Collector's Library\",\n",
      "    \"publishedDate\": \"2004\",\n",
      "    \"description\": \"The Casebook of Sherlock Holmes contains Conan Doyle's last twelve stories about his great fictional detective. Compared with earlier collections these tales are darker, exploring such themes as treachery, mutilation and the terrible consequences of infidelity, and containing such gothic touches as a blood-sucking vampire and crypts at midnight. With an Afterword by David Stuart Davies, a Fellow of the Royal Literary Fund, and an authority on Sherlock Holmes. He has written the Afterwords for all the Collector's Library Holmes volumes.\",\n",
      "    \"industryIdentifiers\": [\n",
      "     {\n",
      "      \"type\": \"ISBN_10\",\n",
      "      \"identifier\": \"1904633684\"\n",
      "     },\n",
      "     {\n",
      "      \"type\": \"ISBN_13\",\n",
      "      \"identifier\": \"9781904633686\"\n",
      "     }\n",
      "    ],\n",
      "    \"readingModes\": {\n",
      "     \"text\": false,\n",
      "     \"image\": true\n",
      "    },\n",
      "    \"pageCount\": 304,\n",
      "    \"printType\": \"BOOK\",\n",
      "    \"categories\": [\n",
      "     \"Detective and mystery stories\"\n",
      "    ],\n",
      "    \"averageRating\": 3.5,\n",
      "    \"ratingsCount\": 23,\n",
      "    \"maturityRating\": \"NOT_MATURE\",\n",
      "    \"allowAnonLogging\": false,\n",
      "    \"contentVersion\": \"1.0.1.0.preview.1\",\n",
      "    \"imageLinks\": {\n",
      "     \"smallThumbnail\": \"http://books.google.com/books/content?id=tBasGxqDMbMC&printsec=frontcover&img=1&zoom=5&edge=curl&source=gbs_api\",\n",
      "     \"thumbnail\": \"http://books.google.com/books/content?id=tBasGxqDMbMC&printsec=frontcover&img=1&zoom=1&edge=curl&source=gbs_api\"\n",
      "    },\n",
      "    \"language\": \"en\",\n",
      "    \"previewLink\": \"http://books.google.ch/books?id=tBasGxqDMbMC&printsec=frontcover&dq=isbn:1904633684&hl=&cd=1&source=gbs_api\",\n",
      "    \"infoLink\": \"http://books.google.ch/books?id=tBasGxqDMbMC&dq=isbn:1904633684&hl=&source=gbs_api\",\n",
      "    \"canonicalVolumeLink\": \"https://books.google.com/books/about/The_Case_book_of_Sherlock_Holmes.html?hl=&id=tBasGxqDMbMC\"\n",
      "   },\n",
      "   \"saleInfo\": {\n",
      "    \"country\": \"CH\",\n",
      "    \"saleability\": \"NOT_FOR_SALE\",\n",
      "    \"isEbook\": false\n",
      "   },\n",
      "   \"accessInfo\": {\n",
      "    \"country\": \"CH\",\n",
      "    \"viewability\": \"PARTIAL\",\n",
      "    \"embeddable\": true,\n",
      "    \"publicDomain\": false,\n",
      "    \"textToSpeechPermission\": \"ALLOWED\",\n",
      "    \"epub\": {\n",
      "     \"isAvailable\": false\n",
      "    },\n",
      "    \"pdf\": {\n",
      "     \"isAvailable\": false\n",
      "    },\n",
      "    \"webReaderLink\": \"http://play.google.com/books/reader?id=tBasGxqDMbMC&hl=&printsec=frontcover&source=gbs_api\",\n",
      "    \"accessViewStatus\": \"SAMPLE\",\n",
      "    \"quoteSharingAllowed\": false\n",
      "   },\n",
      "   \"searchInfo\": {\n",
      "    \"textSnippet\": \"Compared with earlier collections these tales are darker, exploring such themes as treachery, mutilation and the terrible consequences of infidelity, and containing such gothic touches as a blood-sucking vampire and crypts at midnight.\"\n",
      "   }\n",
      "  }\n",
      " ]\n",
      "}\n",
      "\n"
     ]
    }
   ],
   "source": [
    "search = requests.get(request_books_api(\"\",\"\",\"\",1904633684)).text\n",
    "print(search)\n"
   ]
  },
  {
   "cell_type": "markdown",
   "metadata": {},
   "source": [
    "2. Now load the previous response into a json object.:"
   ]
  },
  {
   "cell_type": "code",
   "execution_count": 6,
   "metadata": {
    "pycharm": {
     "is_executing": false
    }
   },
   "outputs": [
    {
     "data": {
      "text/plain": [
       "{'kind': 'books#volumes',\n",
       " 'totalItems': 1,\n",
       " 'items': [{'kind': 'books#volume',\n",
       "   'id': 'tBasGxqDMbMC',\n",
       "   'etag': '1GU8jEcB/WU',\n",
       "   'selfLink': 'https://www.googleapis.com/books/v1/volumes/tBasGxqDMbMC',\n",
       "   'volumeInfo': {'title': 'The Case-book of Sherlock Holmes',\n",
       "    'authors': ['Arthur Conan Doyle'],\n",
       "    'publisher': \"Collector's Library\",\n",
       "    'publishedDate': '2004',\n",
       "    'description': \"The Casebook of Sherlock Holmes contains Conan Doyle's last twelve stories about his great fictional detective. Compared with earlier collections these tales are darker, exploring such themes as treachery, mutilation and the terrible consequences of infidelity, and containing such gothic touches as a blood-sucking vampire and crypts at midnight. With an Afterword by David Stuart Davies, a Fellow of the Royal Literary Fund, and an authority on Sherlock Holmes. He has written the Afterwords for all the Collector's Library Holmes volumes.\",\n",
       "    'industryIdentifiers': [{'type': 'ISBN_10', 'identifier': '1904633684'},\n",
       "     {'type': 'ISBN_13', 'identifier': '9781904633686'}],\n",
       "    'readingModes': {'text': False, 'image': True},\n",
       "    'pageCount': 304,\n",
       "    'printType': 'BOOK',\n",
       "    'categories': ['Detective and mystery stories'],\n",
       "    'averageRating': 3.5,\n",
       "    'ratingsCount': 23,\n",
       "    'maturityRating': 'NOT_MATURE',\n",
       "    'allowAnonLogging': False,\n",
       "    'contentVersion': '1.0.1.0.preview.1',\n",
       "    'imageLinks': {'smallThumbnail': 'http://books.google.com/books/content?id=tBasGxqDMbMC&printsec=frontcover&img=1&zoom=5&edge=curl&source=gbs_api',\n",
       "     'thumbnail': 'http://books.google.com/books/content?id=tBasGxqDMbMC&printsec=frontcover&img=1&zoom=1&edge=curl&source=gbs_api'},\n",
       "    'language': 'en',\n",
       "    'previewLink': 'http://books.google.ch/books?id=tBasGxqDMbMC&printsec=frontcover&dq=isbn:1904633684&hl=&cd=1&source=gbs_api',\n",
       "    'infoLink': 'http://books.google.ch/books?id=tBasGxqDMbMC&dq=isbn:1904633684&hl=&source=gbs_api',\n",
       "    'canonicalVolumeLink': 'https://books.google.com/books/about/The_Case_book_of_Sherlock_Holmes.html?hl=&id=tBasGxqDMbMC'},\n",
       "   'saleInfo': {'country': 'CH',\n",
       "    'saleability': 'NOT_FOR_SALE',\n",
       "    'isEbook': False},\n",
       "   'accessInfo': {'country': 'CH',\n",
       "    'viewability': 'PARTIAL',\n",
       "    'embeddable': True,\n",
       "    'publicDomain': False,\n",
       "    'textToSpeechPermission': 'ALLOWED',\n",
       "    'epub': {'isAvailable': False},\n",
       "    'pdf': {'isAvailable': False},\n",
       "    'webReaderLink': 'http://play.google.com/books/reader?id=tBasGxqDMbMC&hl=&printsec=frontcover&source=gbs_api',\n",
       "    'accessViewStatus': 'SAMPLE',\n",
       "    'quoteSharingAllowed': False},\n",
       "   'searchInfo': {'textSnippet': 'Compared with earlier collections these tales are darker, exploring such themes as treachery, mutilation and the terrible consequences of infidelity, and containing such gothic touches as a blood-sucking vampire and crypts at midnight.'}}]}"
      ]
     },
     "execution_count": 6,
     "metadata": {},
     "output_type": "execute_result"
    }
   ],
   "source": [
    "json.loads(search)\n"
   ]
  },
  {
   "cell_type": "markdown",
   "metadata": {},
   "source": [
    "3. What are the highest level keys of the json object?"
   ]
  },
  {
   "cell_type": "code",
   "execution_count": 7,
   "metadata": {
    "pycharm": {
     "is_executing": false
    }
   },
   "outputs": [],
   "source": [
    "#kind: totalItems: items:\n"
   ]
  },
  {
   "cell_type": "markdown",
   "metadata": {},
   "source": [
    "4. What is the type of the value of 'items' key?"
   ]
  },
  {
   "cell_type": "code",
   "execution_count": 8,
   "metadata": {
    "pycharm": {
     "is_executing": false
    }
   },
   "outputs": [],
   "source": [
    "#Items is of type: <class 'list'>  , but this list contains only 1 element, namely a dict containing further infos we need for step 5\n"
   ]
  },
  {
   "cell_type": "markdown",
   "metadata": {},
   "source": [
    "5. Parse the following information from the json object"
   ]
  },
  {
   "cell_type": "code",
   "execution_count": 9,
   "metadata": {
    "pycharm": {
     "is_executing": false
    }
   },
   "outputs": [
    {
     "name": "stdout",
     "output_type": "stream",
     "text": [
      "Number of items: 20\n",
      "Book Title: The Case-book of Sherlock Holmes\n",
      "Author 1: Arthur Conan Doyle\n",
      "Published: 2004\n",
      "Page Count: 304\n",
      "Category 1: Detective and mystery stories\n",
      "Average Rating: 3.5\n",
      "Ratings Count: 23\n",
      "Epublication available: False\n"
     ]
    }
   ],
   "source": [
    "json_keys = json.loads(search)\n",
    "items_list = json_keys['items']\n",
    "items_dict = items_list[0]\n",
    "### Total number of items returned by the request, remark: Which request do you mean? there are 3 items on top level, 8 on second level etc.\n",
    "print(\"Number of items: \" + str(len(items_dict['volumeInfo'])))\n",
    "\n",
    "\n",
    "### Title of the book\n",
    "print(\"Book Title: \" + str(items_dict['volumeInfo']['title']))\n",
    "\n",
    "### Authors of the book\n",
    "count = 1\n",
    "for i in items_dict['volumeInfo']['authors']:\n",
    "    print (\"Author \" + str(count) + \": \" + i)\n",
    "    count += 1\n",
    "\n",
    "### Date of publishing\n",
    "print(\"Published: \" + str(items_dict['volumeInfo']['publishedDate']))\n",
    "\n",
    "### Page Count\n",
    "print(\"Page Count: \" + str(items_dict['volumeInfo']['pageCount']))\n",
    "\n",
    "### Categories\n",
    "count = 1\n",
    "for i in items_dict['volumeInfo']['categories']:\n",
    "    print (\"Category \" + str(count) + \": \" + i)\n",
    "    count += 1\n",
    "\n",
    "### Average Rating\n",
    "print(\"Average Rating: \" + str(items_dict['volumeInfo']['averageRating']))\n",
    "\n",
    "### Rating Count\n",
    "print(\"Ratings Count: \" + str(items_dict['volumeInfo']['ratingsCount']))\n",
    "\n",
    "### Is it avaliable as Epublication (Epub)\n",
    "print(\"Epublication available: \" + str(items_dict['accessInfo']['epub']['isAvailable']))\n",
    "\n"
   ]
  },
  {
   "cell_type": "markdown",
   "metadata": {},
   "source": [
    "Unlike in the case of requesting books by IDs, the requests in which you search for author or title usually have more than one book as a result. Try searching for books that contain a specific word in their title.\n",
    "\n",
    "6. Once you obtain the result of the request as a json object, loop through all books in the json and print out the **title** of all the books. "
   ]
  },
  {
   "cell_type": "code",
   "execution_count": 10,
   "metadata": {
    "pycharm": {
     "is_executing": false
    }
   },
   "outputs": [
    {
     "name": "stdout",
     "output_type": "stream",
     "text": [
      "Book Title List: \n",
      "\n",
      "Lord Byron's sämmtliche Werke\n",
      "Skandalöse Verlobung mit Lord Townsend\n",
      "Ein Lord aus Schottland\n",
      "Der dunkle Lord vom Kinderhort\n",
      "D. Robert Lowth's Lord Bischofs zu London und der Londner und Göttingschen Societäten der Wissenschaften Mitglieds Jesaias neu übersetzt nebst einer Einleitung und kritischen philologischen und erläuternden Anmerkungen\n",
      "Report of the Addresses of Lord Brougham, Lord John Russell, Earl Carlisle, Earl Shaftesbury, Lord Sandon, and Mr. D. Guyle\n",
      "Die verlassene Lady - Lord Havershams Rache\n",
      "Wie raubt man einem Lord das Herz?\n",
      "Der Mysteriöse Lord und Die Lady\n",
      "Lord Byron. Eine Autobiographie nach Tagebüchern und Briefen\n",
      "Der kleine Lord\n",
      "Lord Falkland. Lord Capell\n",
      "Lord Theos schönstes Geschenk\n",
      "Lord Byron's Werke\n",
      "Lord Finnegans süßeste Versuchung\n",
      "Works of the Right Hon. Lord Byron\n",
      "Das Mädchen und der Lord\n",
      "The works of Lord Byron\n",
      "The Complete Works of Lord Byron0\n",
      "Lord Byron\n",
      "D. Johann Salomo Semlers Zusäze zu Lord Barringtons Versuch über das Christentum und den Deismus\n",
      "Life of Henry, Lord Brougham\n",
      "The Trial of George Gordon, Esquire, Commonly Called Lord George Gordon\n",
      "Keine Braut für Lord Baynton?\n",
      "Lord Byron\n",
      "Lord Byron: eine Biographie\n",
      "Benjamin Disraeli (Lord Beaconsfield)\n",
      "Greece, during Lord Byron's residence in that country, in 1823 and 1824\n",
      "Lord Jim\n",
      "Memorial of Daniel Lord\n",
      "Mad Boy, Lord Berners, meine Großmutter und ich\n",
      "Sir Lucius Cary, Late Lord Viscount of Falkland\n",
      "Lord of Shadows\n",
      "Lord Driver und die McGolfs\n",
      "Essays towards a right interpretation of the last prophecy of our Lord concerning the destruction of Jerusalem and the end of the present world\n",
      "Politicus sine Exemplo oder kurtzer Begriff der Kriegs- und Staats-Handlungen, Seiner Hoheit Olivier Cromwels, Lord Protectors, in Engell- Schott- und Irrland (etc.) Aus dem Engl. in das Teutsche übers\n",
      "The Memoirs of Philip de Commines, Lord of Argenton\n",
      "Lord Rallerys Schreckensnächte\n",
      "My Lord May I come In?\n",
      "The Public and Private Life of Lord Chancellor Eldon\n"
     ]
    }
   ],
   "source": [
    "search = requests.get(request_books_api(\"Lord\",\"\",\"\",0,0,1,40)).text #I just cycle through the first 40 books\n",
    "keys = json.loads(search)\n",
    "print(\"Book Title List: \\n\")\n",
    "for i in keys['items']:\n",
    "    print(i['volumeInfo']['title'])\n",
    "###\n"
   ]
  },
  {
   "cell_type": "markdown",
   "metadata": {},
   "source": [
    "7. Now search for books with a category and print out the authors"
   ]
  },
  {
   "cell_type": "code",
   "execution_count": 11,
   "metadata": {
    "pycharm": {
     "is_executing": false
    }
   },
   "outputs": [
    {
     "name": "stdout",
     "output_type": "stream",
     "text": [
      "Author List: \n",
      "\n",
      "NaN\n",
      "['California Council on Criminal Justice']\n",
      "['Gabrielle Kirk McDonald']\n",
      "['California Council on Criminal Justice']\n",
      "['Arthur B. LaFrance', 'Arnold H. Loewy']\n",
      "['Jacinta M. Gau']\n",
      "['California Council on Criminal Justice']\n",
      "['Mark A. Peterson', 'Harriet B. Braiker', 'Suzanne M. Polich']\n",
      "['Xiaobing Li', 'Qiang Fang']\n",
      "['Michael G. Faure', 'Michael Faure', 'Gunter Heine', 'Gand Heine', 'Günter Heine']\n",
      "['Robert A. Silverman', 'James J. Teevan']\n",
      "['Per-Olof H. Wikström']\n",
      "['Mark A. Peterson', 'Harriet B. Braiker', 'Suzanne M. Polich']\n",
      "NaN\n",
      "['Barry Tarlow']\n",
      "['Gerhard O. W. Mueller']\n",
      "NaN\n",
      "['Andrew Ashworth', 'Lucia Zedner']\n",
      "[\"Publisher's Editorial Staff\"]\n",
      "['California. Legislature. Assembly. Select Committee on Gun Violence']\n",
      "['California. Legislature. Assembly. Select Committee on Gun Violence']\n",
      "['Charles Messenger']\n",
      "['Ohio', 'Anderson Publishing Co. (Cincinnati, Ohio)']\n",
      "['Kody Scott']\n",
      "[\"O'Reilly Bill\", 'Martin Dugard']\n",
      "NaN\n",
      "['Colleen Hoover']\n",
      "['Patricia Highsmith']\n",
      "NaN\n",
      "['Ohio', 'Anderson Publishing Co. (Cincinnati, Ohio)']\n",
      "['Sophie Kinsella']\n",
      "['C.J. Box']\n",
      "['Miles Jackson']\n",
      "['Joseph D. Pistone']\n",
      "['I. Leveson']\n",
      "NaN\n",
      "['Shirley Jackson']\n",
      "['D. Drake']\n",
      "['Colin Harrison']\n",
      "['Richard Powers']\n"
     ]
    }
   ],
   "source": [
    "search = requests.get(request_books_api(\"\",\"\",\"crime\",0,0,1,40)).text #I just cycle through the first 40 books\n",
    "keys = json.loads(search)\n",
    "#json.loads(search)\n",
    "print(\"Author List: \\n\")\n",
    "for i in keys['items']:\n",
    "    try:\n",
    "        print(i['volumeInfo']['authors'])\n",
    "    except:\n",
    "        print(\"NaN\")\n"
   ]
  },
  {
   "cell_type": "markdown",
   "metadata": {},
   "source": [
    "8. Define a function that given an item in the json object (the meta information about one book) returns a list with the following attributes: `title, authors, publishedDate, pageCount, categories, averageRating, ratingsCount, epub`. \n",
    "<br>\n",
    "Note that **not** every book has all the features required. If a piece of information is missing, your code should write NaN instead in place of the value. "
   ]
  },
  {
   "cell_type": "code",
   "execution_count": 12,
   "metadata": {
    "pycharm": {
     "is_executing": false
    }
   },
   "outputs": [
    {
     "name": "stdout",
     "output_type": "stream",
     "text": [
      "('The Oxford Companion to International Criminal Justice', 'NaN', '2009-01-22', 1096, ['Law'], 'NaN', 'NaN', 'NaN')\n",
      "\n",
      "\n",
      "('California Comprehensive Plan for Criminal Justice', ['California Council on Criminal Justice'], '1973', 'NaN', ['Criminal justice, Administration of'], 'NaN', 'NaN', 'NaN')\n",
      "\n",
      "\n",
      "('Substantive and Procedural Aspects of International Criminal Law', ['Gabrielle Kirk McDonald'], '2000-03-01', 587, ['Law'], 1.0, 1, 'NaN')\n",
      "\n",
      "\n",
      "('Comprehensive Plan for Criminal Justice', ['California Council on Criminal Justice'], '1973', 'NaN', ['Criminal justice, Administration of'], 'NaN', 'NaN', 'NaN')\n",
      "\n",
      "\n",
      "('Criminal procedure', ['Arthur B. LaFrance', 'Arnold H. Loewy'], '1994', 718, ['Law'], 'NaN', 'NaN', 'NaN')\n",
      "\n",
      "\n",
      "('Statistics for Criminology and Criminal Justice', ['Jacinta M. Gau'], '2018-02-09', 456, ['Social Science'], 'NaN', 'NaN', 'NaN')\n",
      "\n",
      "\n",
      "('Synopsis of the ... California Comprehensive Plan for Criminal Justice', ['California Council on Criminal Justice'], '1973', 'NaN', ['Criminal justice, Administration of'], 'NaN', 'NaN', 'NaN')\n",
      "\n",
      "\n",
      "('Doing Crime', ['Mark A. Peterson', 'Harriet B. Braiker', 'Suzanne M. Polich'], '1980', 255, ['Convicts'], 'NaN', 'NaN', 'NaN')\n",
      "\n",
      "\n",
      "('Modern Chinese Legal Reform', ['Xiaobing Li', 'Qiang Fang'], '2013-01-16', 316, ['History'], 'NaN', 'NaN', 'NaN')\n",
      "\n",
      "\n",
      "('Criminal Enforcement of Environmental Law in the European Union', ['Michael G. Faure', 'Michael Faure', 'Gunter Heine', 'Gand Heine', 'Günter Heine'], '2005-01-01', 187, ['Law'], 'NaN', 'NaN', 'NaN')\n",
      "\n",
      "\n",
      "('Crime in Canadian Society', ['Robert A. Silverman', 'James J. Teevan'], '1976', 455, ['Crime'], 'NaN', 'NaN', 'NaN')\n",
      "\n",
      "\n",
      "('Urban Crime, Criminals, and Victims', ['Per-Olof H. Wikström'], '2012-12-06', 271, ['Psychology'], 'NaN', 'NaN', 'NaN')\n",
      "\n",
      "\n",
      "('Who Commits Crimes', ['Mark A. Peterson', 'Harriet B. Braiker', 'Suzanne M. Polich'], '1981', 267, ['Crime'], 'NaN', 'NaN', 'NaN')\n",
      "\n",
      "\n",
      "('Federal Criminal Case Processing', 'NaN', '2001', 'NaN', ['Criminal statistics'], 'NaN', 'NaN', 'NaN')\n",
      "\n",
      "\n",
      "('National Directory of Criminal Lawyers', ['Barry Tarlow'], '1991', 329, ['Criminal law'], 'NaN', 'NaN', 'NaN')\n",
      "\n",
      "\n",
      "('History of American Criminal Law Scholarship', ['Gerhard O. W. Mueller'], '1962', 1012, ['Criminal law'], 'NaN', 'NaN', 'NaN')\n",
      "\n",
      "\n",
      "('Criminal Justice', 'NaN', '1990', 'NaN', ['Criminal justice, Administration of'], 'NaN', 'NaN', 'NaN')\n",
      "\n",
      "\n",
      "('Preventive Justice', ['Andrew Ashworth', 'Lucia Zedner'], '2014-03-27', 310, ['Law'], 'NaN', 'NaN', 'NaN')\n",
      "\n",
      "\n",
      "(\"Anderson's 2004-2 Ohio Criminal Law Handbook\", [\"Publisher's Editorial Staff\"], '2004', 1755, 'NaN', 'NaN', 'NaN', 'NaN')\n",
      "\n",
      "\n",
      "('Report of Committee Hearings', ['California. Legislature. Assembly. Select Committee on Gun Violence'], '2001', 'NaN', ['Firearms'], 'NaN', 'NaN', 'NaN')\n",
      "\n",
      "\n",
      "('Report of Committee Hearings, 2001-2002', ['California. Legislature. Assembly. Select Committee on Gun Violence'], '2003*', 'NaN', ['Gun control'], 'NaN', 'NaN', 'NaN')\n",
      "\n",
      "\n",
      "('The Last Prussian', ['Charles Messenger'], '2012-01-23', 256, ['Biography & Autobiography'], 'NaN', 'NaN', 'NaN')\n",
      "\n",
      "\n",
      "(\"Anderson's 2003-1 Ohio Criminal Law Handbook\", ['Ohio', 'Anderson Publishing Co. (Cincinnati, Ohio)'], '2003-03-01', 1603, ['Law'], 'NaN', 'NaN', 'NaN')\n",
      "\n",
      "\n",
      "('Monster Kody', ['Kody Scott'], '1995', 333, 'NaN', 'NaN', 'NaN', 'NaN')\n",
      "\n",
      "\n",
      "('Killing Kennedy', [\"O'Reilly Bill\", 'Martin Dugard'], '2013-03-21', 400, ['Biography & Autobiography'], 'NaN', 'NaN', 'NaN')\n",
      "\n",
      "\n",
      "('Loyola of Los Angeles law review', 'NaN', '1968', 'NaN', ['Biography & Autobiography'], 'NaN', 'NaN', 'NaN')\n",
      "\n",
      "\n",
      "('Verity', ['Colleen Hoover'], '2020-03-13', 368, ['Fiction'], 4.5, 8, 'NaN')\n",
      "\n",
      "\n",
      "('Suspense', ['Patricia Highsmith'], '2013-04-23', 176, ['Fiction'], 'NaN', 'NaN', 'NaN')\n",
      "\n",
      "\n",
      "(\"Anderson's 2001-1 Ohio Criminal Law Handbook\", 'NaN', '2001', 1551, ['Law'], 'NaN', 'NaN', 'NaN')\n",
      "\n",
      "\n",
      "(\"Anderson's 2004-1 Ohio Criminal Law Handbook\", ['Ohio', 'Anderson Publishing Co. (Cincinnati, Ohio)'], '2004-07-27', 1741, ['Law'], 'NaN', 'NaN', 'NaN')\n",
      "\n",
      "\n",
      "('Prada, Pumps und Babypuder', ['Sophie Kinsella'], '2011-09-08', 448, ['Fiction'], 5.0, 1, 'NaN')\n",
      "\n",
      "\n",
      "('Stumme Zeugen', ['C.J. Box'], '2009-07-27', 'NaN', ['Fiction'], 'NaN', 'NaN', 'NaN')\n",
      "\n",
      "\n",
      "('Complicity in International Law', ['Miles Jackson'], '2015-03-12', 272, ['Law'], 'NaN', 'NaN', 'NaN')\n",
      "\n",
      "\n",
      "('Donnie Brasco.', ['Joseph D. Pistone'], '1990', 527, 'NaN', 'NaN', 'NaN', 'NaN')\n",
      "\n",
      "\n",
      "('Quantitative Explorations in Drug Abuse Policy', ['I. Leveson'], '2012-12-06', 191, ['Medical'], 'NaN', 'NaN', 'NaN')\n",
      "\n",
      "\n",
      "('Law and Reality', 'NaN', 'NaN', 'NaN', 'NaN', 'NaN', 'NaN', 'NaN')\n",
      "\n",
      "\n",
      "('Wir haben schon immer im Schloss gelebt', ['Shirley Jackson'], '1991', 220, 'NaN', 'NaN', 'NaN', 'NaN')\n",
      "\n",
      "\n",
      "('Prisons, Punishment and the Pursuit of Security', ['D. Drake'], '2012-07-25', 220, ['Social Science'], 'NaN', 'NaN', 'NaN')\n",
      "\n",
      "\n",
      "('Der Moloch', ['Colin Harrison'], '2011-05-25', 448, ['Fiction'], 'NaN', 'NaN', 'NaN')\n",
      "\n",
      "\n",
      "('Die Wurzeln des Lebens', ['Richard Powers'], '2018-10-04', 624, ['Fiction'], 'NaN', 'NaN', 'NaN')\n",
      "\n",
      "\n"
     ]
    }
   ],
   "source": [
    "def parse_json(j):\n",
    "    '''the function takes a book item as an input and returns a list of the extracted features'''\n",
    "    try:\n",
    "        title = j['volumeInfo']['title']\n",
    "    except:\n",
    "        title = \"NaN\"\n",
    "        \n",
    "    try:\n",
    "        authors = j['volumeInfo']['authors']\n",
    "    except:\n",
    "        authors = \"NaN\"\n",
    "    \n",
    "    try:\n",
    "        publishedDate = j['volumeInfo']['publishedDate']\n",
    "    except:\n",
    "        publishedDate = \"NaN\"\n",
    "      \n",
    "    try:\n",
    "        pageCount = j['volumeInfo']['pageCount']\n",
    "    except:\n",
    "        pageCount = \"NaN\"\n",
    "        \n",
    "    try:\n",
    "        categories = j['volumeInfo']['categories']\n",
    "    except:\n",
    "        categories = \"NaN\"\n",
    "        \n",
    "    try:\n",
    "        averageRating = j['volumeInfo']['averageRating']\n",
    "    except:\n",
    "        averageRating = \"NaN\"\n",
    "        \n",
    "    try:\n",
    "        ratingsCount = j['volumeInfo']['ratingsCount']\n",
    "    except:\n",
    "        ratingsCount = \"NaN\"\n",
    "        \n",
    "    try:\n",
    "        epub = str(j['volumeInfo']['epub'])\n",
    "    except:\n",
    "        epub = \"NaN\"  \n",
    "    \n",
    "    return title, authors, publishedDate, pageCount, categories, averageRating, ratingsCount, epub\n",
    "\n",
    "search = requests.get(request_books_api(\"\",\"\",\"crime\",0,0,1,40)).text #I just cycle through the first 40 books\n",
    "keys = json.loads(search)\n",
    "#json.loads(search)\n",
    "for i in keys['items']:\n",
    "    print(parse_json(i))\n",
    "    print(\"\\n\")\n"
   ]
  },
  {
   "cell_type": "markdown",
   "metadata": {},
   "source": [
    "\n"
   ]
  },
  {
   "cell_type": "markdown",
   "metadata": {},
   "source": [
    "### 3. New York Times API\n",
    "\n",
    "Your task in this exercise will be to compare the amount of Brexit, Trump and Corona related articles in the last 6 months, using an API that the New York Times provides. \n",
    "\n",
    "Start with creating an API key on the NYT API website. As you can see there are multiple functionalities/APIs that the NYT provides. For this exercise we will use the one that allows you to search among articles. so when you sign up for the API key, make sure to pick that one. \n",
    "\n",
    "Here's the documentation for using this API, it explains the syntacs of queries: https://developer.nytimes.com/docs/articlesearch-product/1/overview \n",
    "\n",
    "1. How can you specify a keyword to search for in the URL?\n",
    "2. How can you specify a date or multiple dates to search for?\n",
    "3. Write a function that takes a query to the API as an input and returns the number of hits (number of article results) that this query returns. \n",
    "4. How many results are in a response json by default? How would you collect all results for a specific search? Either write an example code that in fact collects all articles for a query (in an example that has more than one page of results) or explain in detail how you would automate this process. You can use the function you created in 3. to automatically determine how may pages you have to loop through. \n",
    "\n",
    "Now you have all the pieces together to write a function that collects all results for a specific topic (keyword) written on a specific date. Remember, that our original question was how the appearance of 3 topics changed over time in the last 6 months. \n",
    "\n",
    "5. Loop through all dates in the last 6 months and figure out how many articles there were in each of the 3 topics. You can aggregate into weekly or monthly buckets. You can also include synonyms of the given words (e.g. \"Covid-19\" for \"Corona\") or also search other terms that interest you.\n",
    "\n",
    "Using the below code, you can do a visualization of your findings. \n",
    "\n",
    "Trick for pretty printing json:\n",
    "when dealing with large json objects and trying to understand them, it is often difficult to read them on the screen. Use pprint library to see a nicer version of these jsons. (from pprint import pprint, and pprint(\"hello world\"))"
   ]
  },
  {
   "cell_type": "markdown",
   "metadata": {},
   "source": [
    "#### Visualization\n",
    "\n",
    "To help you out with the visualization, we have created the code below. In the description of the function you can find instructions on how to use it. There is also an example of a call underneath the function.\n",
    "\n",
    "You need to give two parameters to the function. The first one is a dictionary where the keys are the three search query terms that you have used (given as a string); for each term there is one list with the number of queries per each time-block considered. The second parameter is a list of strings with the names of the time periods being considered. \n",
    "\n",
    "Important note: the lengths of the lists must match. It is assumed that for each query there is a vector having the number of hits per each period specified in the list of the second parameter. This means that the three lists in the dictionary and the list given as the second parameter must have equal lengths."
   ]
  },
  {
   "cell_type": "code",
   "execution_count": 13,
   "metadata": {
    "pycharm": {
     "is_executing": false
    }
   },
   "outputs": [
    {
     "data": {
      "text/plain": [
       "<Figure size 1800x500 with 1 Axes>"
      ]
     },
     "metadata": {},
     "output_type": "display_data"
    }
   ],
   "source": [
    "# This is a pre-implemented function for crating the visualisation\n",
    "# You don't have to modify this\n",
    "\n",
    "import matplotlib\n",
    "import matplotlib.pyplot as plt\n",
    "import numpy as np\n",
    "\n",
    "def plot_no_articles(dictionary_results, periods):\n",
    "    '''\n",
    "    Plots the statistics with the number of articles in the past month.\n",
    "    \n",
    "    dictionary_results = dictionary of the form query_term: [no_articles_for_period_1, no_articles_for_period_2, ...]\n",
    "        e.g. {'Brexit':[250, 200], 'Trump':[100, 75], 'Corona':[300, 400]}\n",
    "             if you group articles by month periods, and \n",
    "             you have looked only at the past two months, and\n",
    "             there were 250 hits for Brexit in February, and 200 in March, and\n",
    "             there were 100 hits for Trump in February, and 75 in March, and\n",
    "             there were 300 hits for Corona in February, and 400 in March\n",
    "    periods = list of time periods used for the investigation\n",
    "        e.g. ['February', 'March']\n",
    "             if you have considered the past two months\n",
    "    '''\n",
    "    d = dictionary_results\n",
    "    labels = periods\n",
    "    query_terms = list(d.keys())\n",
    "    list_0 = d[query_terms[0]]\n",
    "    list_1 = d[query_terms[1]]\n",
    "    list_2 = d[query_terms[2]]\n",
    "    \n",
    "    # locations for labels\n",
    "    x = np.arange(0, len(labels))\n",
    "    # width per bar\n",
    "    width = 0.3\n",
    "    \n",
    "    # Building the subplots\n",
    "    fig, ax = plt.subplots(figsize=(18,5))\n",
    "    rects1 = ax.bar(x - width, list_0, width, label=query_terms[0])\n",
    "    rects2 = ax.bar(x, list_1, width, label=query_terms[1])\n",
    "    rects3 = ax.bar(x + width, list_2, width, label=query_terms[2])\n",
    "\n",
    "    # Labeling\n",
    "    ax.set_xlabel('Time periods')\n",
    "    ax.set_ylabel('Number of articles')\n",
    "    ax.set_title('Number of articles by query')\n",
    "    ax.set_xticks(x)\n",
    "    ax.set_xticklabels(labels)\n",
    "    ax.autoscale()\n",
    "    xmin = -2*width\n",
    "    xmax = max(np.arange(len(labels)))+2*width\n",
    "    ymin = 0\n",
    "    ymax = max(list_0+list_1+list_2)*1.1 \n",
    "    ax.set(xlim=(xmin, xmax), ylim=(ymin, ymax))\n",
    "    ax.legend(loc='best')\n",
    "\n",
    "\n",
    "    def autolabel(rects):\n",
    "        \"\"\"Attach a text label above each bar in *rects*, displaying its height.\"\"\"\n",
    "        for rect in rects:\n",
    "            height = rect.get_height()\n",
    "            ax.annotate('{}'.format(height),\n",
    "                        xy=(rect.get_x() + rect.get_width() /2, height),\n",
    "                        xytext=(0, 3),  # 3 points vertical offset\n",
    "                        textcoords=\"offset points\",\n",
    "                        ha='center', va='bottom')\n",
    "\n",
    "\n",
    "    autolabel(rects1)\n",
    "    autolabel(rects2)\n",
    "    autolabel(rects3)\n",
    "    \n",
    "    fig.autofmt_xdate()\n",
    "\n",
    "    fig.tight_layout()\n",
    "\n",
    "    plt.show()\n",
    "\n",
    "# Below there is one example of how to use the above plot function\n",
    "dict_results2 = {'Brexit':[250, 200], 'Trump':[100, 75], 'Corona':[300, 400]}\n",
    "plot_no_articles(dict_results2, ['February', 'March'])\n"
   ]
  },
  {
   "cell_type": "markdown",
   "metadata": {},
   "source": [
    "#### Your solution for the third exercise"
   ]
  },
  {
   "cell_type": "code",
   "execution_count": 14,
   "metadata": {
    "pycharm": {
     "is_executing": false
    }
   },
   "outputs": [
    {
     "data": {
      "text/plain": [
       "48192"
      ]
     },
     "execution_count": 14,
     "metadata": {},
     "output_type": "execute_result"
    }
   ],
   "source": [
    "### Code for task 3\n",
    "\n",
    "def get_number_of_hits(query):\n",
    "    search = requests.get(\"https://api.nytimes.com/svc/search/v2/articlesearch.json?q=\" + query + \"&api-key=Nj3aG1ZoI9buWGD7Ci2W2gAcH7WH19CF\").text\n",
    "    keys = json.loads(search)\n",
    "    return keys[\"response\"][\"meta\"][\"hits\"]\n",
    "get_number_of_hits(\"Trump\")"
   ]
  },
  {
   "cell_type": "code",
   "execution_count": 15,
   "metadata": {
    "pycharm": {
     "is_executing": false
    }
   },
   "outputs": [
    {
     "name": "stdout",
     "output_type": "stream",
     "text": [
      "[[{'abstract': \"AROUND THE NATION; Texas Evangelist Killed In Crash of His Plane   NORMANGEE, Tex., , Nov. 2 (AP) - A small airplane piloted by the evangelist Lester Roloff crashed in a field near here today, killing all five people aboard, officials said.   Mr. Roloff took off in his Cessna 210 about 8:30 A.M. with four other people on his way to Kansas City to preach at a service at Calvary Baptist Church in Roosterville, Mo., tonight, according to Dave Walkden, communications director for Roloff Evangelistic Enterprises. Mr. Walkden said Mr. Roloff took off from an airstrip on his organization's farms. Mr. Roloff, 68 years old, a conservative minister whose organization ran homes for boys and girls, had been involved in disputes with the state of Texas over disciplinary Special to the New York Times policies. ----   An obituary will appear tomorrow.\", 'web_url': 'https://www.nytimes.com/1982/11/03/us/no-headline-006186.html', 'snippet': '', 'lead_paragraph': 'AROUND THE NATION; Texas Evangelist Killed In Crash of His Plane', 'print_section': 'A', 'print_page': '16', 'source': 'The New York Times', 'multimedia': [], 'headline': {'main': 'No Headline', 'kicker': None, 'content_kicker': None, 'print_headline': 'No Headline', 'name': None, 'seo': None, 'sub': None}, 'keywords': [{'name': 'glocations', 'value': 'NORMANGEE (TEX)', 'rank': 1, 'major': 'N'}, {'name': 'subject', 'value': 'ACCIDENTS AND SAFETY', 'rank': 2, 'major': 'N'}, {'name': 'subject', 'value': 'AIRPLANES', 'rank': 3, 'major': 'N'}], 'pub_date': '1982-11-03T05:00:00+0000', 'document_type': 'article', 'news_desk': 'National Desk', 'section_name': 'U.S.', 'byline': {'original': None, 'person': [], 'organization': None}, 'type_of_material': 'News', '_id': 'nyt://article/6d828340-cb4d-5626-acc0-ead0e0137cc7', 'word_count': 146, 'uri': 'nyt://article/6d828340-cb4d-5626-acc0-ead0e0137cc7'}, {'abstract': 'The Department of Defense has identified 1,956 American service members who have died as a part of the Afghan war and related operations.', 'web_url': 'https://www.nytimes.com/2012/05/16/us/us-military-deaths-in-afghanistan.html', 'snippet': 'The Department of Defense has identified 1,956 American service members who have died as a part of the Afghan war and related operations.', 'lead_paragraph': 'The Department of Defense has identified 1,956 American service members who have died as a part of the Afghan war and related operations. It confirmed the deaths of the following Americans recently: ', 'print_section': 'A', 'print_page': '10', 'source': 'The New York Times', 'multimedia': [], 'headline': {'main': 'Names of the Dead', 'kicker': None, 'content_kicker': None, 'print_headline': 'Names of the Dead', 'name': None, 'seo': None, 'sub': None}, 'keywords': [{'name': 'subject', 'value': 'United States Defense and Military Forces', 'rank': 1, 'major': 'N'}, {'name': 'subject', 'value': 'Afghanistan War (2001- )', 'rank': 2, 'major': 'N'}], 'pub_date': '2012-05-15T23:32:45+0000', 'document_type': 'article', 'news_desk': 'National', 'section_name': 'U.S.', 'byline': {'original': None, 'person': [], 'organization': None}, 'type_of_material': 'List', '_id': 'nyt://article/eac14b1e-ec5b-5dd3-ba74-9f1b022af1d9', 'word_count': 57, 'uri': 'nyt://article/eac14b1e-ec5b-5dd3-ba74-9f1b022af1d9'}, {'abstract': '  The first tornadoes of the season hit in parts of Texas, Arkansas, Louisiana, Kansas and Missouri over the weekend as waves of strong thunderstorms poured up to six inches of rain on the lower Mississippi Valley.   Tornadoes left extensive damage in the East Texas towns of Normangee and Palestine late Saturday, leaving five people with minor injuries, and at least five of the storms were spotted early yesterday in and around San Antonio, where some businesses reported damage and utility service was interrupted.', 'web_url': 'https://www.nytimes.com/1984/02/13/us/around-nation-season-s-first-tornadoes-strike-5-states-associated-press.html', 'snippet': '', 'lead_paragraph': 'The first tornadoes of the season hit in parts of Texas, Arkansas, Louisiana, Kansas and Missouri over the weekend as waves of strong thunderstorms poured up to six inches of rain on the lower Mississippi Valley.', 'print_section': 'A', 'print_page': '12', 'source': 'The New York Times', 'multimedia': [], 'headline': {'main': \"Season's First Tornadoes Strike in 5 States By The Associated Press\", 'kicker': 'AROUND THE NATION', 'content_kicker': None, 'print_headline': \"AROUND THE NATION; Season's First Tornadoes Strike in 5 States By The Associated Press\", 'name': None, 'seo': None, 'sub': None}, 'keywords': [{'name': 'subject', 'value': 'TERMS NOT AVAILABLE', 'rank': 1, 'major': 'N'}], 'pub_date': '1984-02-13T05:00:00+0000', 'document_type': 'article', 'news_desk': 'National Desk', 'section_name': 'U.S.', 'byline': {'original': None, 'person': [], 'organization': None}, 'type_of_material': 'News', '_id': 'nyt://article/536413c4-c7ef-5657-a0ce-0e58f180c4f1', 'word_count': 139, 'uri': 'nyt://article/536413c4-c7ef-5657-a0ce-0e58f180c4f1'}, {'abstract': 'Wilson, Roger William', 'web_url': 'https://www.nytimes.com/1972/02/15/archives/roger-w-wilson-of-drilling-firm-head-of-concern-opering-in-gulf-of.html', 'snippet': 'Wilson, Roger William', 'lead_paragraph': 'NEW ORLEANS, Feb. 14Roger William Wilson, who retired recently as president of J. Ray McDermott & Co., Inc., a leading offshore engineering and construction firm, died Saturday after a brief illness. His age was 63.', 'print_page': '36', 'source': 'The New York Times', 'multimedia': [], 'headline': {'main': 'ROGER W. WILSON OF DRILLING FIRM', 'kicker': None, 'content_kicker': None, 'print_headline': 'ROGER W. WILSON OF DRILLING FIRM', 'name': None, 'seo': None, 'sub': None}, 'keywords': [{'name': 'persons', 'value': 'WILSON, ROGER WILLIAM', 'rank': 1, 'major': 'N'}, {'name': 'subject', 'value': 'DEATHS', 'rank': 2, 'major': 'N'}], 'pub_date': '1972-02-15T05:00:00+0000', 'document_type': 'article', 'news_desk': 'None', 'section_name': 'Archives', 'byline': {'original': None, 'person': [], 'organization': None}, 'type_of_material': 'Archives', '_id': 'nyt://article/fe65284e-47e2-5610-a050-9ea0d69a58e6', 'word_count': 235, 'uri': 'nyt://article/fe65284e-47e2-5610-a050-9ea0d69a58e6'}, {'abstract': 'Heath, William W', 'web_url': 'https://www.nytimes.com/1971/06/23/archives/wiuiamw-heath-dedat-67.html', 'snippet': 'Heath, William W', 'lead_paragraph': 'AUSTIN, Tex., June 22�Wil liam W. Heath, the former Ambassador to Sweden, died tonight at his home of a heart attack. Mr. Heath, who was 67 years—old, had spent the day working at his law office in downtown Austin.', 'print_page': '48', 'source': 'The New York Times', 'multimedia': [], 'headline': {'main': \"William W. Heath Dead at 67; Ambassador to Sweden, '67‐69\", 'kicker': None, 'content_kicker': None, 'print_headline': \"William W. Heath Dead at 67; Ambassador to Sweden, '67‐69\", 'name': None, 'seo': None, 'sub': None}, 'keywords': [{'name': 'persons', 'value': 'HEATH, WILLIAM W', 'rank': 1, 'major': 'N'}, {'name': 'persons', 'value': 'HEATH, WILLIAM W', 'rank': 2, 'major': 'N'}, {'name': 'subject', 'value': 'DEATHS', 'rank': 3, 'major': 'N'}], 'pub_date': '1971-06-23T05:00:00+0000', 'document_type': 'article', 'news_desk': 'None', 'section_name': 'Archives', 'byline': {'original': None, 'person': [], 'organization': None}, 'type_of_material': 'Archives', '_id': 'nyt://article/effc07cd-a032-5c7b-b22a-1a4063090859', 'word_count': 262, 'uri': 'nyt://article/effc07cd-a032-5c7b-b22a-1a4063090859'}, {'abstract': 'LEAD: Tornadoes swept across more than 200 miles of eastern Texas today, leveling scores of homes and buildings and leaving nine people dead and at least 132 injured.', 'web_url': 'https://www.nytimes.com/1987/11/16/us/tornadoes-hit-eastern-texas-leaving-9-dead.html', 'snippet': '', 'lead_paragraph': 'Tornadoes swept across more than 200 miles of eastern Texas today, leveling scores of homes and buildings and leaving nine people dead and at least 132 injured.', 'print_section': 'A', 'print_page': '14', 'source': 'The New York Times', 'multimedia': [], 'headline': {'main': 'Tornadoes Hit Eastern Texas, Leaving 9 Dead', 'kicker': None, 'content_kicker': None, 'print_headline': 'Tornadoes Hit Eastern Texas, Leaving 9 Dead', 'name': None, 'seo': None, 'sub': None}, 'keywords': [{'name': 'glocations', 'value': 'Texas', 'rank': 1, 'major': 'N'}, {'name': 'subject', 'value': 'Tornadoes', 'rank': 2, 'major': 'N'}], 'pub_date': '1987-11-16T05:00:00+0000', 'document_type': 'article', 'news_desk': 'National Desk', 'section_name': 'U.S.', 'byline': {'original': 'AP', 'person': [], 'organization': 'AP'}, 'type_of_material': 'News', '_id': 'nyt://article/a60e4a81-c046-597e-a333-9778a7a3c0a7', 'word_count': 525, 'uri': 'nyt://article/a60e4a81-c046-597e-a333-9778a7a3c0a7'}, {'abstract': \"  Lester Roloff, killed in a small-plane crash in Texas Tuesday, was a radio evangelist who fought an eight-year battle with the State of Texas over his management of homes for troubled teen-agers.   Mr. Roloff, who was 68 years old and based his operations at the People's Church of Corpus Christi, was on his way to Missouri to deliver a sermon when he and four others died when the plane he was piloting crashed near Normangee.   His Texas church compound also contains the Rebekah Home for Girls, which came to national attention in 1979 when there was a clash between Mr. Roloff's adherents and state officials who tried to shut the home amid reports of overly harsh discipline and other mistreatment.   Mr. Roloff was also a power in Texas politics. He said he was instrumental in helping William Clements win an 18,000-vote margin in the Governor's race in 1978. Mr. Roloff was one of the fundamentalist preachers who do not shy from giving political advice, and he did so in daily half-hour broadcasts heard on 180 radio stations.\", 'web_url': 'https://www.nytimes.com/1982/11/04/obituaries/lester-roloff-radio-preacher-68-dies-as-his-plane-crashes-in-texas.html', 'snippet': '', 'lead_paragraph': 'Lester Roloff, killed in a small-plane crash in Texas Tuesday, was a radio evangelist who fought an eight-year battle with the State of Texas over his management of homes for troubled teen-agers.', 'print_section': 'B', 'print_page': '19', 'source': 'The New York Times', 'multimedia': [], 'headline': {'main': 'LESTER ROLOFF, RADIO PREACHER, 68, DIES AS HIS PLANE CRASHES IN TEXAS', 'kicker': None, 'content_kicker': None, 'print_headline': 'LESTER ROLOFF, RADIO PREACHER, 68, DIES AS HIS PLANE CRASHES IN TEXAS', 'name': None, 'seo': None, 'sub': None}, 'keywords': [{'name': 'subject', 'value': 'Biographical Information', 'rank': 1, 'major': 'N'}], 'pub_date': '1982-11-04T05:00:00+0000', 'document_type': 'article', 'news_desk': 'Obituary', 'section_name': 'Obituaries', 'byline': {'original': 'By Wolfgang Saxon', 'person': [{'firstname': 'Wolfgang', 'middlename': None, 'lastname': 'Saxon', 'qualifier': None, 'title': None, 'role': 'reported', 'organization': '', 'rank': 1}], 'organization': None}, 'type_of_material': 'Obituary', '_id': 'nyt://article/4513ca61-a377-560d-9877-b503be67b2ff', 'word_count': 685, 'uri': 'nyt://article/4513ca61-a377-560d-9877-b503be67b2ff'}]]\n"
     ]
    }
   ],
   "source": [
    "### Code for task 4\n",
    "# The Article Search API returns a max of 10 results at a time.\n",
    "import time\n",
    "query = \"notmanyee\"\n",
    "pages_to_load = int(get_number_of_hits(query)/10)\n",
    "if pages_to_load > 200:\n",
    "    pages_to_load = 200\n",
    "article_list = []\n",
    "for page in range(pages_to_load+1):\n",
    "    search = requests.get(\"https://api.nytimes.com/svc/search/v2/articlesearch.json?q=\" + query + \"&page=\" + str(page) + \"&api-key=Nj3aG1ZoI9buWGD7Ci2W2gAcH7WH19CF\").text\n",
    "    keys = json.loads(search)\n",
    "    article_list.append(keys[\"response\"][\"docs\"])\n",
    "    time.sleep(6)\n",
    "print(article_list)\n",
    "    \n",
    "    "
   ]
  },
  {
   "cell_type": "code",
   "execution_count": 16,
   "metadata": {
    "pycharm": {
     "is_executing": false
    }
   },
   "outputs": [
    {
     "name": "stdout",
     "output_type": "stream",
     "text": [
      "[9]\n",
      "[9, 7]\n",
      "[9, 7, 20]\n",
      "[9, 7, 20, 20]\n",
      "[9, 7, 20, 20, 27]\n",
      "[9, 7, 20, 20, 27, 178]\n",
      "{'corona': [9, 7, 20, 20, 27, 178]}\n",
      "[274]\n",
      "[274, 152]\n",
      "[274, 152, 197]\n",
      "[274, 152, 197, 166]\n",
      "[274, 152, 197, 166, 151]\n",
      "[274, 152, 197, 166, 151, 116]\n",
      "{'corona': [9, 7, 20, 20, 27, 178], 'brexit': [274, 152, 197, 166, 151, 116]}\n",
      "[819]\n",
      "[819, 740]\n",
      "[819, 740, 592]\n",
      "[819, 740, 592, 781]\n",
      "[819, 740, 592, 781, 604]\n",
      "[819, 740, 592, 781, 604, 737]\n",
      "{'corona': [9, 7, 20, 20, 27, 178], 'brexit': [274, 152, 197, 166, 151, 116], 'trump': [819, 740, 592, 781, 604, 737]}\n"
     ]
    },
    {
     "data": {
      "image/png": "[encoded data removed]",
      "text/plain": [
       "<Figure size 1296x360 with 1 Axes>"
      ]
     },
     "metadata": {
      "needs_background": "light"
     },
     "output_type": "display_data"
    }
   ],
   "source": [
    "### Code for task 5\n",
    "def get_number_of_hits_for_daterange(query, bdate, edate):\n",
    "    search = requests.get(\"https://api.nytimes.com/svc/search/v2/articlesearch.json?q=\" + query + \"&begin_date=\" + bdate + \"&end_date=\" + edate + \"&api-key=Nj3aG1ZoI9buWGD7Ci2W2gAcH7WH19CF\").text\n",
    "    keys = json.loads(search)\n",
    "    return keys[\"response\"][\"meta\"][\"hits\"]\n",
    "\n",
    "b_date = [\"20191001\",\"20191101\",\"20191201\",\"20200101\", \"20200201\", \"20200301\"]\n",
    "e_date = [\"20191031\",\"20191130\", \"20191231\", \"20200131\", \"20200229\", \"20200330\"]\n",
    "months = [\"October\", \"November\", \"December\", \"January\", \"February\", \"March\"]\n",
    "keywords=[\"corona\",\"china\",\"trump\"]\n",
    "dict = {}\n",
    "for keyword in keywords:\n",
    "    hits = []\n",
    "    for month in range(len(months)):\n",
    "        hits.append(get_number_of_hits_for_daterange(keyword, b_date[month], e_date[month]))\n",
    "        time.sleep(6)\n",
    "        print(hits)\n",
    "    dict[keyword] = hits\n",
    "    print(dict)\n",
    "plot_no_articles(dict, months)\n",
    "\n",
    "\n",
    "        \n",
    "    "
   ]
  },
  {
   "cell_type": "markdown",
   "metadata": {},
   "source": [
    "Congratulations for completing the second notebook! Now it’s time for feedback.\n",
    "1.\tPass your solution to the other pair in your group.\n",
    "2.\tInclude your feedback in the other pair’s notebook. Don’t forget to add your names at the top.\n",
    "3.\tReturn the notebook with feedback to the original pairs.\n",
    "4.\tUpload your notebook, with the feedback included by the other pair on OLAT.\n",
    "\n",
    "You can think of/suggest (among other things)\n",
    " - improvements in the code (e.g. readability, efficiency)\n",
    " - improvements in the answers (e.g. are they easy to understand, are they correct, how can they be improved?)\n",
    " - point out differences (e.g. are there any differences between the responses of the two pairs? if yes what are they, what is the cause, and in which way can they be useful?)\n",
    " \n",
    "In this specific notebook the questions to focus on for feedback are: 1, 2, 4 and 5. 3 was just an intro to parsing so no need to analyze in detail. Not all suggestions about the type of feedback apply to all types of questions."
   ]
  },
  {
   "cell_type": "code",
   "execution_count": 17,
   "metadata": {
    "pycharm": {
     "is_executing": false
    }
   },
   "outputs": [
    {
     "data": {
      "text/plain": [
       "\"\\nExercise 1G:\\n(feedback for our notebook)\\nTanks for pointing out that our link was not correct, we reviewed it and saw the fault.\\n(feedback for your notebook)\\nOverall your approach is good and we like your docstring. We had a similar approach first, but then we decided to take \\nthe **kwargs solution. If you would take our function header with **kwargs and your function body it would be a nice\\nsolution.\\n\\nExercise 2:\\n2.1 good\\n2.2 good\\n2.3 good\\n2.4 good\\n2.5 a-h: good\\n2.6\\n(our feedback)\\nTry it without the 'try:' and 'except:' operators and you will see that there are errors occuring :) Therefore we included \\nthe try operator.\\n(your feedback)\\nYour approach works just for the first 40 results. We tried to go further than 40 results by including the 'page=...' into your URL.\\nIf you want you can have a look at our solution. But we like the loop where you print all the authors separately, looks a little \\nbit cleaner than ours.\\n2.7 same as in 2.6\\n2.8 Your code is working, but you are have unnecessary lines. If you would set all the values per default to NaN first, you \\ncould check it afterwards and overwrite the available values. But this is just a cosmetical point.\\n\\nExercise 3\\n3.3 good\\n3.4 good\\n3.5 good\\n\""
      ]
     },
     "execution_count": 17,
     "metadata": {},
     "output_type": "execute_result"
    }
   ],
   "source": [
    "# Below there is space for giving feedback. This space should be used only by the other pair in your group.\n",
    "\n",
    "'''\n",
    "Exercise 1G:\n",
    "(feedback for our notebook)\n",
    "Tanks for pointing out that our link was not correct, we reviewed it and saw the fault.\n",
    "(feedback for your notebook)\n",
    "Overall your approach is good and we like your docstring. We had a similar approach first, but then we decided to take \n",
    "the **kwargs solution. If you would take our function header with **kwargs and your function body it would be a nice\n",
    "solution.\n",
    "\n",
    "Exercise 2:\n",
    "2.1 good\n",
    "2.2 good\n",
    "2.3 good\n",
    "2.4 good\n",
    "2.5 a-h: good\n",
    "2.6\n",
    "(our feedback)\n",
    "Try it without the 'try:' and 'except:' operators and you will see that there are errors occuring :) Therefore we included \n",
    "the try operator.\n",
    "(your feedback)\n",
    "Your approach works just for the first 40 results. We tried to go further than 40 results by including the 'page=...' into your URL.\n",
    "If you want you can have a look at our solution. But we like the loop where you print all the authors separately, looks a little \n",
    "bit cleaner than ours.\n",
    "2.7 same as in 2.6\n",
    "2.8 Your code is working, but you are have unnecessary lines. If you would set all the values per default to NaN first, you \n",
    "could check it afterwards and overwrite the available values. But this is just a cosmetical point.\n",
    "\n",
    "Exercise 3\n",
    "3.3 good\n",
    "3.4 good\n",
    "3.5 As you wrote within our feedback, china and corona could also be in the same article, be aware of that. Further try to \n",
    "avoid reserved words like dict, we also used it first but then we had some complications.\n",
    "'''"
   ]
  },
  {
   "cell_type": "code",
   "execution_count": null,
   "metadata": {},
   "outputs": [],
   "source": []
  }
 ],
 "metadata": {
  "kernelspec": {
   "display_name": "Python 3",
   "language": "python",
   "name": "python3"
  },
  "language_info": {
   "codemirror_mode": {
    "name": "ipython",
    "version": 3
   },
   "file_extension": ".py",
   "mimetype": "text/x-python",
   "name": "python",
   "nbconvert_exporter": "python",
   "pygments_lexer": "ipython3",
   "version": "3.7.0"
  },
  "pycharm": {
   "stem_cell": {
    "cell_type": "raw",
    "metadata": {
     "collapsed": false
    },
    "source": []
   }
  }
 },
 "nbformat": 4,
 "nbformat_minor": 4
}
