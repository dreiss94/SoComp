{
 "cells": [
  {
   "cell_type": "markdown",
   "metadata": {},
   "source": [
    "\n",
    "# Using APIs"
   ]
  },
  {
   "cell_type": "code",
   "execution_count": null,
   "metadata": {},
   "outputs": [],
   "source": [
    "# Please inlcude your names below\n",
    "# Also, please edit the name of the file and include the names of the two(or three) people answering\n",
    "\n",
    "# Pair answering the assignment: ..., ...\n",
    "# Pair giving feedback: ..., ..."
   ]
  },
  {
   "cell_type": "code",
   "execution_count": 1,
   "metadata": {},
   "outputs": [],
   "source": [
    "import requests\n",
    "import json\n",
    "import os"
   ]
  },
  {
   "cell_type": "markdown",
   "metadata": {},
   "source": [
    "## 1. Google books\n",
    "### Setting the request URL parameters\n",
    "You can set the parameters of the API request according to the documentation below. The first part of the request is always the same, and the \"q\" which stands for question will take various parameters. <br>\n",
    "More documentation can be found at: https://developers.google.com/books/docs/v1/using?hl=vi#ids\n",
    "\n",
    "<img src=\"parameters.png\" width=80%> </img>"
   ]
  },
  {
   "cell_type": "markdown",
   "metadata": {},
   "source": [
    "**Example**: `https://www.googleapis.com/books/v1/volumes?q=isbn:9780141909882` returns information about the book with the given ISBN number (Everything is illuminated by Jonathan Safran Foer)."
   ]
  },
  {
   "cell_type": "markdown",
   "metadata": {},
   "source": [
    "**Exercise**\n",
    "\n",
    "1. Using the above parameters create the following request URLs!\n",
    "    1. Requesting books that have \"potter\" in the title\n",
    "    2. Requesting books that have \"doyle\" as author\n",
    "    3. With isbn \"1904633684\"\n",
    "    4. With id \"2bGdK8CRKoEC\"\n",
    "    5. Second result page when searching books that has \"detective\" listed in the category list\n",
    "    6. Second result page when searching books that have \"potter in the title but showing 40 results in one page, not 10. \n",
    "<br>\n",
    "\n",
    "Try and see whether they work with `requests.get()`!"
   ]
  },
  {
   "cell_type": "code",
   "execution_count": null,
   "metadata": {},
   "outputs": [],
   "source": []
  },
  {
   "cell_type": "code",
   "execution_count": null,
   "metadata": {
    "collapsed": true
   },
   "outputs": [],
   "source": [
    "result_A = 'write link here'\n",
    "result_B = 'write link here'\n",
    "result_C = 'write link here'\n",
    "result_D = 'write link here'\n",
    "result_E = 'write link here'\n",
    "result_F = 'write link here'\n",
    "\n",
    "#check with requests\n",
    "\n",
    "requests.get(result_A).text\n",
    "#\n",
    "#\n",
    "#\n",
    "\n",
    "#continue to check all your URLs this way!"
   ]
  },
  {
   "cell_type": "markdown",
   "metadata": {},
   "source": [
    "1G. Define a function that sends a request to the google books API with the URL parameters as inputs to the function. Try to incorporate as many as the variables as possible and output a URL according to the settings you want to have. Don't forget to write a docstring explaning how the function works. Docstrings are explanations to functions, describing the input, output, and purpose of the function. If you haven't used them before, you can find more examples for example at: https://www.geeksforgeeks.org/python-docstrings/"
   ]
  },
  {
   "cell_type": "code",
   "execution_count": null,
   "metadata": {
    "collapsed": true
   },
   "outputs": [],
   "source": [
    "def request_books_api():\n",
    "    '''Docstring here'''\n",
    "    return #\n",
    "    "
   ]
  },
  {
   "cell_type": "markdown",
   "metadata": {},
   "source": [
    "#### Status codes\n",
    "\n",
    "Responses contain information even without looking into the textual content. printing the response tells us the URL we requested, the date, its status, the content type and the size of the response object\n",
    "\n",
    "The most important for us is the status: it tells us whether our request has been successful: You can find a list of HTTP status codes here https://en.wikipedia.org/wiki/List_of_HTTP_status_codes.\n",
    "Or, you can always check HTTP Status Cats: https://www.flickr.com/photos/girliemac/sets/72157628409467125\n",
    "\n",
    "The most important status codes for us are:\n",
    "\n",
    "- successful call: code 200\n",
    "- client error: 4xx, e.g. 401: Unauthorized, 404: Not found\n",
    "- server error: 5xx, e.g. 500: Internal Server Error, 502: Bad Gateway"
   ]
  },
  {
   "cell_type": "markdown",
   "metadata": {},
   "source": [
    "### 2. Parsing json"
   ]
  },
  {
   "cell_type": "markdown",
   "metadata": {},
   "source": [
    "1. Using the previously defined function, query the book with isbn number 1904633684 and print the text of the result. "
   ]
  },
  {
   "cell_type": "code",
   "execution_count": null,
   "metadata": {
    "collapsed": true
   },
   "outputs": [],
   "source": []
  },
  {
   "cell_type": "markdown",
   "metadata": {},
   "source": [
    "2. Now load the previous response into a json object.:"
   ]
  },
  {
   "cell_type": "code",
   "execution_count": null,
   "metadata": {},
   "outputs": [],
   "source": []
  },
  {
   "cell_type": "markdown",
   "metadata": {},
   "source": [
    "3. What are the highest level keys of the json object?"
   ]
  },
  {
   "cell_type": "code",
   "execution_count": null,
   "metadata": {
    "collapsed": true
   },
   "outputs": [],
   "source": []
  },
  {
   "cell_type": "markdown",
   "metadata": {},
   "source": [
    "4. What is the type of the value of 'items' key?"
   ]
  },
  {
   "cell_type": "code",
   "execution_count": null,
   "metadata": {
    "collapsed": true
   },
   "outputs": [],
   "source": []
  },
  {
   "cell_type": "markdown",
   "metadata": {},
   "source": [
    "5. Parse the following information from the json object"
   ]
  },
  {
   "cell_type": "code",
   "execution_count": null,
   "metadata": {
    "collapsed": true
   },
   "outputs": [],
   "source": [
    "### Total number of items returned by the request\n",
    "\n",
    "\n",
    "### Title of the book\n",
    "\n",
    "\n",
    "### Authors of the book\n",
    "\n",
    "\n",
    "### Date of publishing\n",
    "\n",
    "\n",
    "### Page Count\n",
    "\n",
    "\n",
    "### Categories\n",
    "\n",
    "\n",
    "### Average Rating\n",
    "\n",
    "\n",
    "### Rating Count\n",
    "\n",
    "\n",
    "### Is it avaliable as Epublication (Epub)\n"
   ]
  },
  {
   "cell_type": "markdown",
   "metadata": {},
   "source": [
    "Unlike in the case of requesting books by IDs, the requests in which you search for author or title usually have more than one book as a result. Try searching for books that contain a specific word in their title.\n",
    "\n",
    "6. Once you obtain the result of the request as a json object, loop through all books in the json and print out the **title** of all the books. "
   ]
  },
  {
   "cell_type": "code",
   "execution_count": null,
   "metadata": {
    "collapsed": true
   },
   "outputs": [],
   "source": [
    "###\n"
   ]
  },
  {
   "cell_type": "markdown",
   "metadata": {},
   "source": [
    "7. Now search for books with a category and print out the authors"
   ]
  },
  {
   "cell_type": "code",
   "execution_count": null,
   "metadata": {
    "collapsed": true
   },
   "outputs": [],
   "source": []
  },
  {
   "cell_type": "markdown",
   "metadata": {},
   "source": [
    "8. Define a function that given an item in the json object (the meta information about one book) returns a list with the following attributes: `title, authors, publishedDate, pageCount, categories, averageRating, ratingsCount, epub`. \n",
    "<br>\n",
    "Note that **not** every book has all the features required. If a piece of information is missing, your code should write NaN instead in place of the value. "
   ]
  },
  {
   "cell_type": "code",
   "execution_count": null,
   "metadata": {
    "collapsed": true
   },
   "outputs": [],
   "source": [
    "def parse_json(j):\n",
    "    '''the function takes a book item as an input and returns a list of the extracted features'''\n",
    "    \n",
    "    return title, authors, publishedDate, pageCount, categories, averageRating, ratingsCount, epub\n"
   ]
  },
  {
   "cell_type": "markdown",
   "metadata": {},
   "source": [
    "\n"
   ]
  },
  {
   "cell_type": "markdown",
   "metadata": {},
   "source": [
    "### 3. New York Times API\n",
    "\n",
    "Your task in this exercise will be to compare the amount of Brexit, Trump and Corona related articles in the last 6 months, using an API that the New York Times provides. \n",
    "\n",
    "Start with creating an API key on the NYT API website. As you can see there are multiple functionalities/APIs that the NYT provides. For this exercise we will use the one that allows you to search among articles. so when you sign up for the API key, make sure to pick that one. \n",
    "\n",
    "Here's the documentation for using this API, it explains the syntacs of queries: https://developer.nytimes.com/docs/articlesearch-product/1/overview \n",
    "\n",
    "1. How can you specify a keyword to search for in the URL?\n",
    "2. How can you specify a date or multiple dates to search for?\n",
    "3. Write a function that takes a query to the API as an input and returns the number of hits (number of article results) that this query returns. \n",
    "4. How many results are in a response json by default? How would you collect all results for a specific search? Either write an example code that in fact collects all articles for a query (in an example that has more than one page of results) or explain in detail how you would automate this process. You can use the function you created in 3. to automatically determine how may pages you have to loop through. \n",
    "\n",
    "Now you have all the pieces together to write a function that collects all results for a specific topic (keyword) written on a specific date. Remember, that our original question was how the appearance of 3 topics changed over time in the last 6 months. \n",
    "\n",
    "5. Loop through all dates in the last 6 months and figure out how many articles there were in each of the 3 topics. You can aggregate into weekly or monthly buckets. You can also include synonyms of the given words (e.g. \"Covid-19\" for \"Corona\") or also search other terms that interest you.\n",
    "\n",
    "Using the below code, you can do a visualization of your findings. \n",
    "\n",
    "Trick for pretty printing json:\n",
    "when dealing with large json objects and trying to understand them, it is often difficult to read them on the screen. Use pprint library to see a nicer version of these jsons. (from pprint import pprint, and pprint(\"hello world\"))"
   ]
  },
  {
   "cell_type": "markdown",
   "metadata": {},
   "source": [
    "#### Visualization\n",
    "\n",
    "To help you out with the visualization, we have created the code below. In the description of the function you can find instructions on how to use it. There is also an example of a call underneath the function.\n",
    "\n",
    "You need to give two parameters to the function. The first one is a dictionary where the keys are the three search query terms that you have used (given as a string); for each term there is one list with the number of queries per each time-block considered. The second parameter is a list of strings with the names of the time periods being considered. \n",
    "\n",
    "Important note: the lengths of the lists must match. It is assumed that for each query there is a vector having the number of hits per each period specified in the list of the second parameter. This means that the three lists in the dictionary and the list given as the second parameter must have equal lengths."
   ]
  },
  {
   "cell_type": "code",
   "execution_count": 1,
   "metadata": {},
   "outputs": [
    {
     "data": {
      "image/png": "[encoded data removed]",
      "text/plain": [
       "<Figure size 1296x360 with 1 Axes>"
      ]
     },
     "metadata": {
      "needs_background": "light"
     },
     "output_type": "display_data"
    }
   ],
   "source": [
    "# This is a pre-implemented function for crating the visualisation\n",
    "# You don't have to modify this\n",
    "\n",
    "import matplotlib\n",
    "import matplotlib.pyplot as plt\n",
    "import numpy as np\n",
    "\n",
    "def plot_no_articles(dictionary_results, periods):\n",
    "    '''\n",
    "    Plots the statistics with the number of articles in the past month.\n",
    "    \n",
    "    dictionary_results = dictionary of the form query_term: [no_articles_for_period_1, no_articles_for_period_2, ...]\n",
    "        e.g. {'Brexit':[250, 200], 'Trump':[100, 75], 'Corona':[300, 400]}\n",
    "             if you group articles by month periods, and \n",
    "             you have looked only at the past two months, and\n",
    "             there were 250 hits for Brexit in February, and 200 in March, and\n",
    "             there were 100 hits for Trump in February, and 75 in March, and\n",
    "             there were 300 hits for Corona in February, and 400 in March\n",
    "    periods = list of time periods used for the investigation\n",
    "        e.g. ['February', 'March']\n",
    "             if you have considered the past two months\n",
    "    '''\n",
    "    d = dictionary_results\n",
    "    labels = periods\n",
    "    query_terms = list(d.keys())\n",
    "    list_0 = d[query_terms[0]]\n",
    "    list_1 = d[query_terms[1]]\n",
    "    list_2 = d[query_terms[2]]\n",
    "    \n",
    "    # locations for labels\n",
    "    x = np.arange(0, len(labels))\n",
    "    # width per bar\n",
    "    width = 0.3\n",
    "    \n",
    "    # Building the subplots\n",
    "    fig, ax = plt.subplots(figsize=(18,5))\n",
    "    rects1 = ax.bar(x - width, list_0, width, label=query_terms[0])\n",
    "    rects2 = ax.bar(x, list_1, width, label=query_terms[1])\n",
    "    rects3 = ax.bar(x + width, list_2, width, label=query_terms[2])\n",
    "\n",
    "    # Labeling\n",
    "    ax.set_xlabel('Time periods')\n",
    "    ax.set_ylabel('Number of articles')\n",
    "    ax.set_title('Number of articles by query')\n",
    "    ax.set_xticks(x)\n",
    "    ax.set_xticklabels(labels)\n",
    "    ax.autoscale()\n",
    "    xmin = -2*width\n",
    "    xmax = max(np.arange(len(labels)))+2*width\n",
    "    ymin = 0\n",
    "    ymax = max(list_0+list_1+list_2)*1.1 \n",
    "    ax.set(xlim=(xmin, xmax), ylim=(ymin, ymax))\n",
    "    ax.legend(loc='best')\n",
    "\n",
    "\n",
    "    def autolabel(rects):\n",
    "        \"\"\"Attach a text label above each bar in *rects*, displaying its height.\"\"\"\n",
    "        for rect in rects:\n",
    "            height = rect.get_height()\n",
    "            ax.annotate('{}'.format(height),\n",
    "                        xy=(rect.get_x() + rect.get_width() /2, height),\n",
    "                        xytext=(0, 3),  # 3 points vertical offset\n",
    "                        textcoords=\"offset points\",\n",
    "                        ha='center', va='bottom')\n",
    "\n",
    "\n",
    "    autolabel(rects1)\n",
    "    autolabel(rects2)\n",
    "    autolabel(rects3)\n",
    "    \n",
    "    fig.autofmt_xdate()\n",
    "\n",
    "    fig.tight_layout()\n",
    "\n",
    "    plt.show()\n",
    "\n",
    "# Below there is one example of how to use the above plot function\n",
    "dict_results2 = {'Brexit':[250, 200], 'Trump':[100, 75], 'Corona':[300, 400]}\n",
    "plot_no_articles(dict_results2, ['February', 'March'])\n"
   ]
  },
  {
   "cell_type": "markdown",
   "metadata": {},
   "source": [
    "#### Your solution for the third exercise"
   ]
  },
  {
   "cell_type": "code",
   "execution_count": null,
   "metadata": {},
   "outputs": [],
   "source": [
    "### Code for task 3"
   ]
  },
  {
   "cell_type": "code",
   "execution_count": null,
   "metadata": {},
   "outputs": [],
   "source": [
    "### Code for task 4"
   ]
  },
  {
   "cell_type": "code",
   "execution_count": null,
   "metadata": {},
   "outputs": [],
   "source": [
    "### Code for task 5"
   ]
  },
  {
   "cell_type": "markdown",
   "metadata": {},
   "source": [
    "Congratulations for completing the second notebook! Now it’s time for feedback.\n",
    "1.\tPass your solution to the other pair in your group.\n",
    "2.\tInclude your feedback in the other pair’s notebook. Don’t forget to add your names at the top.\n",
    "3.\tReturn the notebook with feedback to the original pairs.\n",
    "4.\tUpload your notebook, with the feedback included by the other pair on OLAT.\n",
    "\n",
    "You can think of/suggest (among other things)\n",
    " - improvements in the code (e.g. readability, efficiency)\n",
    " - improvements in the answers (e.g. are they easy to understand, are they correct, how can they be improved?)\n",
    " - point out differences (e.g. are there any differences between the responses of the two pairs? if yes what are they, what is the cause, and in which way can they be useful?)\n",
    " \n",
    "Not all suggestions about the type of feedback apply to all types of questions. Try to give feedback in a meaningful and constructive way."
   ]
  },
  {
   "cell_type": "code",
   "execution_count": null,
   "metadata": {},
   "outputs": [],
   "source": [
    "# Below there is space for giving feedback. This space should be used only by the other pair in your group.\n",
    "\n",
    "'''\n",
    "Feedback here\n",
    "'''"
   ]
  }
 ],
 "metadata": {
  "kernelspec": {
   "display_name": "Python 3",
   "language": "python",
   "name": "python3"
  },
  "language_info": {
   "codemirror_mode": {
    "name": "ipython",
    "version": 3
   },
   "file_extension": ".py",
   "mimetype": "text/x-python",
   "name": "python",
   "nbconvert_exporter": "python",
   "pygments_lexer": "ipython3",
   "version": "3.8.1"
  }
 },
 "nbformat": 4,
 "nbformat_minor": 4
}
